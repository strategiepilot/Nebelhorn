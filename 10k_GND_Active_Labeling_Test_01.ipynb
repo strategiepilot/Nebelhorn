{
 "cells": [
  {
   "cell_type": "markdown",
   "metadata": {
    "colab_type": "text",
    "id": "dMCioKXo5BA1"
   },
   "source": [
    "# Imports & Mounts"
   ]
  },
  {
   "cell_type": "code",
   "execution_count": null,
   "metadata": {
    "colab": {
     "base_uri": "https://localhost:8080/",
     "height": 34
    },
    "colab_type": "code",
    "collapsed": true,
    "id": "-7zxs7dw0dzs",
    "jupyter": {
     "outputs_hidden": true,
     "source_hidden": true
    },
    "outputId": "5f69195c-4e58-406e-d0b8-1275103cc3c0"
   },
   "outputs": [
    {
     "name": "stdout",
     "output_type": "stream",
     "text": [
      "Drive already mounted at /gdrive; to attempt to forcibly remount, call drive.mount(\"/gdrive\", force_remount=True).\n"
     ]
    }
   ],
   "source": [
    "from google.colab import drive\n",
    "drive.mount('/gdrive')\n"
   ]
  },
  {
   "cell_type": "code",
   "execution_count": null,
   "metadata": {
    "colab": {
     "base_uri": "https://localhost:8080/",
     "height": 833
    },
    "colab_type": "code",
    "collapsed": true,
    "id": "Vqa64GU1073n",
    "jupyter": {
     "outputs_hidden": true,
     "source_hidden": true
    },
    "outputId": "c16ada02-6d49-4fe6-e48c-a2c39f4a22c9"
   },
   "outputs": [
    {
     "name": "stdout",
     "output_type": "stream",
     "text": [
      "Requirement already satisfied: numpy in /usr/local/lib/python3.6/dist-packages (from -r requirements.txt (line 2)) (1.18.3)\n",
      "Requirement already satisfied: pandas in /usr/local/lib/python3.6/dist-packages (from -r requirements.txt (line 3)) (1.0.3)\n",
      "Requirement already satisfied: xlrd in /usr/local/lib/python3.6/dist-packages (from -r requirements.txt (line 4)) (1.1.0)\n",
      "Requirement already satisfied: scipy in /usr/local/lib/python3.6/dist-packages (from -r requirements.txt (line 5)) (1.4.1)\n",
      "Requirement already satisfied: matplotlib in /usr/local/lib/python3.6/dist-packages (from -r requirements.txt (line 6)) (3.2.1)\n",
      "Requirement already satisfied: seaborn in /usr/local/lib/python3.6/dist-packages (from -r requirements.txt (line 7)) (0.10.1)\n",
      "Requirement already satisfied: datetime in /usr/local/lib/python3.6/dist-packages (from -r requirements.txt (line 8)) (4.3)\n",
      "Requirement already satisfied: IPython in /usr/local/lib/python3.6/dist-packages (from -r requirements.txt (line 9)) (5.5.0)\n",
      "Requirement already satisfied: sklearn in /usr/local/lib/python3.6/dist-packages (from -r requirements.txt (line 10)) (0.0)\n",
      "Requirement already satisfied: spacy<3.0.0,>=2.2.0 in /usr/local/lib/python3.6/dist-packages (from -r requirements.txt (line 13)) (2.2.4)\n",
      "Requirement already satisfied: de_core_news_sm from https://github.com/explosion/spacy-models/releases/download/de_core_news_sm-2.2.5/de_core_news_sm-2.2.5.tar.gz#egg=de_core_news_sm in /usr/local/lib/python3.6/dist-packages (from -r requirements.txt (line 14)) (2.2.5)\n",
      "Requirement already satisfied: pytz>=2017.2 in /usr/local/lib/python3.6/dist-packages (from pandas->-r requirements.txt (line 3)) (2018.9)\n",
      "Requirement already satisfied: python-dateutil>=2.6.1 in /usr/local/lib/python3.6/dist-packages (from pandas->-r requirements.txt (line 3)) (2.8.1)\n",
      "Requirement already satisfied: pyparsing!=2.0.4,!=2.1.2,!=2.1.6,>=2.0.1 in /usr/local/lib/python3.6/dist-packages (from matplotlib->-r requirements.txt (line 6)) (2.4.7)\n",
      "Requirement already satisfied: cycler>=0.10 in /usr/local/lib/python3.6/dist-packages (from matplotlib->-r requirements.txt (line 6)) (0.10.0)\n",
      "Requirement already satisfied: kiwisolver>=1.0.1 in /usr/local/lib/python3.6/dist-packages (from matplotlib->-r requirements.txt (line 6)) (1.2.0)\n",
      "Requirement already satisfied: zope.interface in /usr/local/lib/python3.6/dist-packages (from datetime->-r requirements.txt (line 8)) (5.1.0)\n",
      "Requirement already satisfied: setuptools>=18.5 in /usr/local/lib/python3.6/dist-packages (from IPython->-r requirements.txt (line 9)) (46.1.3)\n",
      "Requirement already satisfied: pexpect; sys_platform != \"win32\" in /usr/local/lib/python3.6/dist-packages (from IPython->-r requirements.txt (line 9)) (4.8.0)\n",
      "Requirement already satisfied: decorator in /usr/local/lib/python3.6/dist-packages (from IPython->-r requirements.txt (line 9)) (4.4.2)\n",
      "Requirement already satisfied: pickleshare in /usr/local/lib/python3.6/dist-packages (from IPython->-r requirements.txt (line 9)) (0.7.5)\n",
      "Requirement already satisfied: prompt-toolkit<2.0.0,>=1.0.4 in /usr/local/lib/python3.6/dist-packages (from IPython->-r requirements.txt (line 9)) (1.0.18)\n",
      "Requirement already satisfied: traitlets>=4.2 in /usr/local/lib/python3.6/dist-packages (from IPython->-r requirements.txt (line 9)) (4.3.3)\n",
      "Requirement already satisfied: pygments in /usr/local/lib/python3.6/dist-packages (from IPython->-r requirements.txt (line 9)) (2.1.3)\n",
      "Requirement already satisfied: simplegeneric>0.8 in /usr/local/lib/python3.6/dist-packages (from IPython->-r requirements.txt (line 9)) (0.8.1)\n",
      "Requirement already satisfied: scikit-learn in /usr/local/lib/python3.6/dist-packages (from sklearn->-r requirements.txt (line 10)) (0.22.2.post1)\n",
      "Requirement already satisfied: wasabi<1.1.0,>=0.4.0 in /usr/local/lib/python3.6/dist-packages (from spacy<3.0.0,>=2.2.0->-r requirements.txt (line 13)) (0.6.0)\n",
      "Requirement already satisfied: blis<0.5.0,>=0.4.0 in /usr/local/lib/python3.6/dist-packages (from spacy<3.0.0,>=2.2.0->-r requirements.txt (line 13)) (0.4.1)\n",
      "Requirement already satisfied: srsly<1.1.0,>=1.0.2 in /usr/local/lib/python3.6/dist-packages (from spacy<3.0.0,>=2.2.0->-r requirements.txt (line 13)) (1.0.2)\n",
      "Requirement already satisfied: thinc==7.4.0 in /usr/local/lib/python3.6/dist-packages (from spacy<3.0.0,>=2.2.0->-r requirements.txt (line 13)) (7.4.0)\n",
      "Requirement already satisfied: preshed<3.1.0,>=3.0.2 in /usr/local/lib/python3.6/dist-packages (from spacy<3.0.0,>=2.2.0->-r requirements.txt (line 13)) (3.0.2)\n",
      "Requirement already satisfied: tqdm<5.0.0,>=4.38.0 in /usr/local/lib/python3.6/dist-packages (from spacy<3.0.0,>=2.2.0->-r requirements.txt (line 13)) (4.38.0)\n",
      "Requirement already satisfied: requests<3.0.0,>=2.13.0 in /usr/local/lib/python3.6/dist-packages (from spacy<3.0.0,>=2.2.0->-r requirements.txt (line 13)) (2.23.0)\n",
      "Requirement already satisfied: cymem<2.1.0,>=2.0.2 in /usr/local/lib/python3.6/dist-packages (from spacy<3.0.0,>=2.2.0->-r requirements.txt (line 13)) (2.0.3)\n",
      "Requirement already satisfied: plac<1.2.0,>=0.9.6 in /usr/local/lib/python3.6/dist-packages (from spacy<3.0.0,>=2.2.0->-r requirements.txt (line 13)) (1.1.3)\n",
      "Requirement already satisfied: murmurhash<1.1.0,>=0.28.0 in /usr/local/lib/python3.6/dist-packages (from spacy<3.0.0,>=2.2.0->-r requirements.txt (line 13)) (1.0.2)\n",
      "Requirement already satisfied: catalogue<1.1.0,>=0.0.7 in /usr/local/lib/python3.6/dist-packages (from spacy<3.0.0,>=2.2.0->-r requirements.txt (line 13)) (1.0.0)\n",
      "Requirement already satisfied: six>=1.5 in /usr/local/lib/python3.6/dist-packages (from python-dateutil>=2.6.1->pandas->-r requirements.txt (line 3)) (1.12.0)\n",
      "Requirement already satisfied: ptyprocess>=0.5 in /usr/local/lib/python3.6/dist-packages (from pexpect; sys_platform != \"win32\"->IPython->-r requirements.txt (line 9)) (0.6.0)\n",
      "Requirement already satisfied: wcwidth in /usr/local/lib/python3.6/dist-packages (from prompt-toolkit<2.0.0,>=1.0.4->IPython->-r requirements.txt (line 9)) (0.1.9)\n",
      "Requirement already satisfied: ipython-genutils in /usr/local/lib/python3.6/dist-packages (from traitlets>=4.2->IPython->-r requirements.txt (line 9)) (0.2.0)\n",
      "Requirement already satisfied: joblib>=0.11 in /usr/local/lib/python3.6/dist-packages (from scikit-learn->sklearn->-r requirements.txt (line 10)) (0.14.1)\n",
      "Requirement already satisfied: certifi>=2017.4.17 in /usr/local/lib/python3.6/dist-packages (from requests<3.0.0,>=2.13.0->spacy<3.0.0,>=2.2.0->-r requirements.txt (line 13)) (2020.4.5.1)\n",
      "Requirement already satisfied: idna<3,>=2.5 in /usr/local/lib/python3.6/dist-packages (from requests<3.0.0,>=2.13.0->spacy<3.0.0,>=2.2.0->-r requirements.txt (line 13)) (2.9)\n",
      "Requirement already satisfied: chardet<4,>=3.0.2 in /usr/local/lib/python3.6/dist-packages (from requests<3.0.0,>=2.13.0->spacy<3.0.0,>=2.2.0->-r requirements.txt (line 13)) (3.0.4)\n",
      "Requirement already satisfied: urllib3!=1.25.0,!=1.25.1,<1.26,>=1.21.1 in /usr/local/lib/python3.6/dist-packages (from requests<3.0.0,>=2.13.0->spacy<3.0.0,>=2.2.0->-r requirements.txt (line 13)) (1.24.3)\n",
      "Requirement already satisfied: importlib-metadata>=0.20; python_version < \"3.8\" in /usr/local/lib/python3.6/dist-packages (from catalogue<1.1.0,>=0.0.7->spacy<3.0.0,>=2.2.0->-r requirements.txt (line 13)) (1.6.0)\n",
      "Requirement already satisfied: zipp>=0.5 in /usr/local/lib/python3.6/dist-packages (from importlib-metadata>=0.20; python_version < \"3.8\"->catalogue<1.1.0,>=0.0.7->spacy<3.0.0,>=2.2.0->-r requirements.txt (line 13)) (3.1.0)\n"
     ]
    }
   ],
   "source": [
    "%%bash\n",
    "cat > requirements.txt << EOF\n",
    "# Standardimports\n",
    "numpy\n",
    "pandas\n",
    "xlrd\n",
    "scipy\n",
    "matplotlib\n",
    "seaborn\n",
    "datetime\n",
    "IPython\n",
    "sklearn\n",
    "\n",
    "# NLP mit Spacy und deutschem Language Model\n",
    "spacy>=2.2.0,<3.0.0\n",
    "https://github.com/explosion/spacy-models/releases/download/de_core_news_sm-2.2.5/de_core_news_sm-2.2.5.tar.gz#egg=de_core_news_sm\n",
    "\n",
    "EOF\n",
    "\n",
    "pip install -r requirements.txt"
   ]
  },
  {
   "cell_type": "code",
   "execution_count": 1,
   "metadata": {
    "colab": {
     "base_uri": "https://localhost:8080/",
     "height": 51
    },
    "colab_type": "code",
    "id": "GPGbFOfE2ibw",
    "outputId": "1722e81c-e347-41cf-8575-6ffca9b2abaf"
   },
   "outputs": [],
   "source": [
    "import pandas as pd\n",
    "import numpy as np\n",
    "import matplotlib.pyplot as plt\n",
    "import seaborn as sns\n",
    "import os\n",
    "import pickle\n",
    "\n",
    "import spacy\n",
    "from spacy.lang.de import German\n",
    "from spacy import displacy\n",
    "from spacy.lang.de.stop_words import STOP_WORDS\n",
    "# nlp = spacy.load('de_core_news_md')\n",
    "nlp = spacy.load('de_core_news_sm')\n",
    "# nlp = German()\n",
    "\n",
    "from sklearn.preprocessing import LabelEncoder\n",
    "from sklearn.svm import LinearSVC\n",
    "from sklearn.feature_extraction.text import TfidfVectorizer, CountVectorizer, TfidfTransformer\n",
    "from sklearn.svm import LinearSVC\n",
    "from sklearn.linear_model import LogisticRegression\n",
    "from sklearn.pipeline import Pipeline\n",
    "from sklearn.model_selection import train_test_split\n",
    "from sklearn.metrics import accuracy_score, classification_report, confusion_matrix\n",
    "from sklearn.cluster import KMeans"
   ]
  },
  {
   "cell_type": "code",
   "execution_count": null,
   "metadata": {
    "colab": {
     "base_uri": "https://localhost:8080/",
     "height": 187
    },
    "colab_type": "code",
    "collapsed": true,
    "id": "jVV8yLfN07u1",
    "jupyter": {
     "outputs_hidden": true,
     "source_hidden": true
    },
    "outputId": "73b6d862-14a7-4dd9-9fb0-b3b200f9aee2"
   },
   "outputs": [
    {
     "name": "stdout",
     "output_type": "stream",
     "text": [
      "<class 'pandas.core.frame.DataFrame'>\n",
      "RangeIndex: 9245 entries, 0 to 9244\n",
      "Data columns (total 3 columns):\n",
      " #   Column    Non-Null Count  Dtype \n",
      "---  ------    --------------  ----- \n",
      " 0   label     9245 non-null   int64 \n",
      " 1   labelEnc  9245 non-null   object\n",
      " 2   text      9245 non-null   object\n",
      "dtypes: int64(1), object(2)\n",
      "memory usage: 216.8+ KB\n"
     ]
    }
   ],
   "source": [
    "path = '/gdrive/My Drive/data/'\n",
    "le = LabelEncoder()\n",
    "\n",
    "gnd = pd.read_csv(path+'10kGNAD_train.csv', header=None, sep=';', quotechar=\"'\", names=['labelEnc', 'text'])\n",
    "pd.set_option('display.max_colwidth', None)\n",
    "gnd['label'] = le.fit_transform(gnd.labelEnc)\n",
    "gnd = gnd.iloc[:,[2,0,1]]\n",
    "gnd.info()"
   ]
  },
  {
   "cell_type": "markdown",
   "metadata": {
    "colab_type": "text",
    "id": "TJuVjSYa48Hc"
   },
   "source": [
    "# Preprocessing Dataset"
   ]
  },
  {
   "cell_type": "code",
   "execution_count": null,
   "metadata": {
    "colab": {},
    "colab_type": "code",
    "id": "VxBcl4Bz07n5",
    "jupyter": {
     "source_hidden": true
    }
   },
   "outputs": [],
   "source": [
    "def textcleaner(string):\n",
    "    doc = nlp(string)\n",
    "    string_clean = [w.lemma_ for w in doc if (not w.is_stop and not w.is_punct and not w.like_num)]\n",
    "    return string_clean"
   ]
  },
  {
   "cell_type": "code",
   "execution_count": null,
   "metadata": {
    "colab": {
     "base_uri": "https://localhost:8080/",
     "height": 1000
    },
    "colab_type": "code",
    "collapsed": true,
    "id": "rva-h7KC07e2",
    "jupyter": {
     "outputs_hidden": true,
     "source_hidden": true
    },
    "outputId": "cdaab4ff-441b-44ed-8de8-fdbdbbd186cf"
   },
   "outputs": [
    {
     "data": {
      "text/html": [
       "<div>\n",
       "<style scoped>\n",
       "    .dataframe tbody tr th:only-of-type {\n",
       "        vertical-align: middle;\n",
       "    }\n",
       "\n",
       "    .dataframe tbody tr th {\n",
       "        vertical-align: top;\n",
       "    }\n",
       "\n",
       "    .dataframe thead th {\n",
       "        text-align: right;\n",
       "    }\n",
       "</style>\n",
       "<table border=\"1\" class=\"dataframe\">\n",
       "  <thead>\n",
       "    <tr style=\"text-align: right;\">\n",
       "      <th></th>\n",
       "      <th>label</th>\n",
       "      <th>labelEnc</th>\n",
       "      <th>text</th>\n",
       "      <th>text120</th>\n",
       "      <th>prepro</th>\n",
       "    </tr>\n",
       "  </thead>\n",
       "  <tbody>\n",
       "    <tr>\n",
       "      <th>0</th>\n",
       "      <td>5</td>\n",
       "      <td>Sport</td>\n",
       "      <td>21-Jähriger fällt wohl bis Saisonende aus. Wien – Rapid muss wohl bis Saisonende auf Offensivspieler Thomas Murg verzichten. Der im Winter aus Ried gekommene 21-Jährige erlitt beim 0:4-Heimdebakel gegen Admira Wacker Mödling am Samstag einen Teilriss des Innenbandes im linken Knie, wie eine Magnetresonanz-Untersuchung am Donnerstag ergab. Murg erhielt eine Schiene, muss aber nicht operiert werden. Dennoch steht ihm eine mehrwöchige Pause bevor.</td>\n",
       "      <td>21-Jähriger, fällt, wohl, bis, Saisonende, aus., Wien, –, Rapid, muss, wohl, bis, Saisonende, auf, Offensivspieler, Thomas, Murg, verzichten., Der, im, Winter, aus, Ried, gekommene, 21-Jährige, erlitt, beim, 0:4-Heimdebakel, gegen, Admira, Wacker, Mödling, am, Samstag, einen, Teilriss, des, Innenbandes, im, linken, Knie,, wie, eine, Magnetresonanz-Untersuchung, am, Donnerstag, ergab., Murg, erhielt, eine, Schiene,, muss, aber, nicht, operiert, werden., Dennoch, steht, ihm, eine, mehrwöchige, Pause, bevor.</td>\n",
       "      <td>21-Jähriger, fällen, Saisonende, Wien, Rapid, Saisonende, Offensivspieler, Thoma, Murg, verzichten, Winter, Ried, gekommen, 21-Jährige, erleiden, 0:4-Heimdebakel, Admira, Wacker, Mödling, Samstag, Teilriss, Innenbandes, link, Knie, Magnetresonanz-Untersuchung, Donnerstag, ergeben, Murg, erhalten, Schiene, operieren, Dennoch, stehen, mehrwöchige, Pause, bevor</td>\n",
       "    </tr>\n",
       "    <tr>\n",
       "      <th>1</th>\n",
       "      <td>3</td>\n",
       "      <td>Kultur</td>\n",
       "      <td>Erfundene Bilder zu Filmen, die als verloren gelten: \"The Forbidden Room\" von Guy Maddin und Evan Johnson ist ein surrealer Ritt durch die magischen Labyrinthe des frühen Kinos. Wien – Die Filmgeschichte ist ein Friedhof der Verlorenen. Unter den Begrabenen finden sich zahllose Filme, von denen nur noch mysteriös oder abenteuerlich klingende Namen kursieren; und solche, über die verstreut herumliegendes Sekundärmaterial Aufschluss erlaubt. Einer davon ist The Forbidden Room, ein Two-Reeler von 1913/14, den der arbeitswütige US-Regisseur Allan Dwan u. a. mit dem Horrordarsteller Lon Chaney gedreht hat. Ein passender Titel für einen Film, der als verschollen gilt. Verbote sind Einladungen zur Überschreitung. Einen ähnlichen Gedanken hatte wohl auch der kanadische Experimentalfilmemacher Guy Maddin, als er seinem Film von 2015 den gleichen Titel gab. Gemeinsam mit seinem Koregisseur Evan Johnson hat er vergessene, verschwundene Arbeiten der Film geschichte zum Ausgangspunkt einer Neuerfindung erkoren. Um historische Genauigkeit geht es ihnen dabei freilich nicht, erlaubt ist vielmehr alles, was die Fantasie so ausspuckt. Arg angespannte Szenen in einem U-Boot, dessen Besatzung tief im Ozean mit einer Art explosivem Gelee umhertaucht und Sauerstoff mit Pfannkuchen generiert. Oder die Erinnerungen eines Schnurrbarts, der sich auf die Oberlippe des Sohnes eines Toten heftet, um derart der Witwe Trost zu spenden. Letzteres die frei erfundene Handlung eines Mikio-Naruse-Films mit dem Titel The Strength of a Moustache. Immer neue Volten schlägt die Handlung, verläuft dabei kaum jemals linear, sondern gibt sich sprunghaft, surreal dem Unerwarteten hin, irgendwo zwischen Jules Verne, Jacques Tourneur, F. W. Murnau und dem von Maddin verehrten Modernisten Raymond Roussel. Der britische Guardian beschrieb das Ergebnis so: als würde man unter der Einwirkung von LSD durch ein Filmarchiv wandeln. Das Rausch- oder zumindest Traumähnliche teilt diese Arbeit Maddins mit seinen früheren, die kürzer dimensioniert waren. The Forbidden Room ist durch seine Dauer von mehr als zwei Stunden schon nahe an der Überdosis, soll heißen: Die Überforderung ist Programm. Maddin und Johnson geben sich mit keinen Häppchen zufrieden, sondern wollen ein immersives Seherlebnis ermöglichen, in einem mehr an Filmpionier Georges Méliès orientierten Sinne. Sie nehmen die fantastische Qualität des Kinos als seine eigentliche Realität wahr – eine wild Bilder pumpende, an unsere Psyche gekoppelte (und daher auch manchmal humorvoll kindliche) Maschine, wie sie schon in Maddins Kurzfilm The Heart of the World (2000) zur Geltung kam. Wer nach einem Zusammenhang sucht, findet ihn im Bekenntnis zur Abschweifung. Die Verbindung von einem Waldarbeiter (Roy Dupuis), der der Spur einer verschwundenen Frau folgt, zu einem (von Udo Kier verkörperten) Arzt mit einem Fetisch für Gesäße oder zu jenem seltsamen Reklamemenschen, der dem Zuschauer erklärt, wie man das perfekte Bad nimmt – sie liegt allenfalls in der Oberfläche, jener digital in der Postproduktion hergestellten Ästhetik des frühen Kinos, die The Forbidden Room wie ein Gespenst des analogen Zeitalters wachruft. Künstlich verwittert Die Farben der Laufbilder, die auf das eingeschränkte Zwei-Farben-Technicolor-Verfahren verweisen, sind künstlich heruntergestuft, als wäre das Filmmaterial der Verwitterung ausgesetzt gewesen; manche Doppelbelichtungen wirken so, als wären die Mate rialien ineinandergeschmolzen. Auch mit Zwischentiteln und dem weitgehenden Verzicht auf herkömmliche Dialoge schließen Maddin und Evan an den Stummfilm an, dessen stilistische Bandbreite sie in der Montage und szenischen Regie spielerisch betonen und ausagieren. Die Amnesie, heißt es in diesem visuell betörenden Film einmal, befällt jene Menschen, zu denen die Figuren aus der Ferne zurückkehren. Der Gedanke lässt sich auch auf die Bilder des Films anwenden: Er enthält die Fragmente eines Kinos, an das wir uns nicht mehr erinnern können, weil wir es für verloren hielten.</td>\n",
       "      <td>Erfundene, Bilder, zu, Filmen,, die, als, verloren, gelten:, \"The, Forbidden, Room\", von, Guy, Maddin, und, Evan, Johnson, ist, ein, surrealer, Ritt, durch, die, magischen, Labyrinthe, des, frühen, Kinos., Wien, –, Die, Filmgeschichte, ist, ein, Friedhof, der, Verlorenen., Unter, den, Begrabenen, finden, sich, zahllose, Filme,, von, denen, nur, noch, mysteriös, oder, abenteuerlich, klingende, Namen, kursieren;, und, solche,, über, die, verstreut, herumliegendes, Sekundärmaterial, Aufschluss, erlaubt., Einer, davon, ist, The, Forbidden, Room,, ein, Two-Reeler, von, 1913/14,, den, der, arbeitswütige, US-Regisseur, Allan, Dwan, u., a., mit, dem, Horrordarsteller, Lon, Chaney, gedreht, hat., Ein, passender, Titel, für, einen, Film,, der, als, verschollen, gilt., Verbote, sind, Einladungen, zur, Überschreitung., Einen, ähnlichen, Gedanken, hatte, wohl, auch, der, kanadische, Experimentalfilmemacher, Guy, Maddin,, als, er, seinem, Film, von, 2015</td>\n",
       "      <td>Erfundene, Bild, Film, verlieren, gelten, The, Forbidden, Room, Guy, Maddin, Evan, Johnson, surrealer, Ritt, magisch, Labyrinth, früh, Kino, Wien, Filmgeschichte, Friedhof, Verlorene, Begrabene, finden, zahllos, Film, mysteriös, abenteuerlich, klingend, Name, kursieren, verstreuen, herumliegend, Sekundärmaterial, Aufschluss, erlauben, The, Forbidden, Room, Two-Reeler, arbeitswütige, US-Regisseur, Allan, Dwan, u., a., Horrordarsteller, Lon, Chaney, drehen, passend, Titel, Film, verschollen, gelten, Verbot, Einladung, Überschreitung, ähnlich, Gedanke, kanadische, Experimentalfilmemacher, Guy, Maddin, Film, gleich, Titel, Gemeinsam, Koregisseur, Evan, Johnson, vergessen, verschwunden, Arbeit, Film, geschichte, Ausgangspunkt, Neuerfindung, erkiesen, historische, Genauigkeit, freilich, erlauben, vielmehr, Fantasie, ausspucken, Arg, angespannt, Szene, U-Boot, Besatzung, tief, Ozean, Art, explosiv, Gelee, umhertaucht, Sauerstoff, Pfannkuchen, generieren, Erinnerung, Schnurrbart, Oberlippe, Sohnes, Tote, heften, derart, Witwe, Trost, spenden, Letzteres, frei, erfunden, Handlung, Mikio-Naruse-Films, Titel, The, Strength, of, Moustache, Volten, schlagen, Handlung, verlaufen, jemals, linear, sprunghaft, surreal, Unerwartete, irgendwo, Jules, Verne, Jacques, Tourneur, F., W., Murnau, Maddin, verehren, Modernisten, Raymond, Roussel, britische, Guardian, beschreiben, Ergebnis, Einwirkung, LSD, Filmarchiv, wandeln, Rausch-, zumindest, Traumähnliche, teilen, Arbeit, Maddins, früh, kurz, dimensionieren, The, Forbidden, Room, Dauer, Stunde, nahe, Überdosis, heiß, Überforderung, Programm, Maddin, Johnson, geben, Häppchen, zufrieden, immersives, Seherlebnis, ermöglichen, Filmpionier, George, Méliès, orientieren, Sinn, nehmen, fantastische, Qualität, Kino, eigentlich, Realität, wild, Bild, pumpend, Psyche, gekoppelt, manchmal, humorvoll, kindlich, Maschine, Maddins, Kurzfilm, The, Heart, of, the, World, Geltung, Zusammenhang, suchen, finden, Bekenntnis, Abschweifung, Verbindung, Waldarbeiter, Roy, Dupuis, Spur, verschwunden, Frau, folgen, Udo, Kier, verkörpern, Arzt, Fetisch, Gesäße, seltsam, Reklamemenschen, Zuschauer, erklären, perfekte, Bad, nehmen, liegen, allenfalls, Oberfläche, digital, Postproduktion, hergestellt, Ästhetik, früh, Kino, The, Forbidden, Room, Gespenst, analog, Zeitalters, wachrufen, Künstlich, verwittert, Farbe, Laufbilder, eingeschränkt, Zwei-Farben-Technicolor-Verfahren, verweisen, künstlich, heruntergestuft, Filmmaterial, Verwitterung, aussetzen, Doppelbelichtungen, wirken, sein, Mate, rialien, ineinandergeschmolzen, Zwischentiteln, weitgehenden, Verzicht, herkömmlich, Dialog, schließen, Maddin, Evan, Stummfilm, stilistische, Bandbreite, Montag, szenisch, Regie, spielerisch, betonen, ausagieren, Amnesie, visuell, betörend, Film, befallen, Mensch, Figur, Ferne, zurückkehren, Gedanke, lässt, Bild, Film, anwenden, enthalten, Fragment, Kino, erinnern, verlieren, halten</td>\n",
       "    </tr>\n",
       "    <tr>\n",
       "      <th>2</th>\n",
       "      <td>6</td>\n",
       "      <td>Web</td>\n",
       "      <td>Der frischgekürte CEO Sundar Pichai setzt auf ein umgänglicheres Führungsteam. Die Atmosphäre im Silicon Valley ist rau. Da werden massenhaft Mitarbeiter der direkten Konkurrenz abgeworben, Löhne mit firmenübergreifenden Mauscheleien niedrig gehalten und Untergebene wegen leicht verfehlter Ziele vor die Tür gesetzt. Auch in der höchsten Firmenebene werden brutale Umgangsformen gepflegt: Die Wutausbrüche von Apple-Mitgründer Steve Jobs sind legendär, sein früherer Geschäftspartner Steve Wozniak hätte ihn zu Lebzeiten gerne als Arschloch beschimpft, traute sich aber nicht. Auch Google-Mitgründer Larry Page gilt als Choleriker, für den ein humaner Umgang mit Mitarbeitern nicht an erster Stelle steht. Doch die Zeiten des harten Management-Stils sind bei Google vorbei. Das belegen zahlreiche ehemalige Mitarbeiter und Geschäftspartner. Wie ein Ex-Manager gegenüber re:code pointiert verlautbart: Alle Arschlöcher sind jetzt weg. Verantwortlich dafür zeichnet sich Sundar Pichai, der nach Googles großer Umstrukturierung (Gründung des Dachunternehmens Alphabet) zum CEO des Suchmaschinisten wurde. In den wenigen Monaten als Google-Chef hat Pichai nun bereits einige Umstrukturierungen vorgenommen – und erhält dafür viel Lob aus der Branche. So wurde beispielsweise Hiroshi Lockheimer zum Android-Chef gemacht. Ehemalige Kollegen, etwa Motorola-Präsident Rick Osterloh, schwärmen von ihm als großartigen Typen, den man sehr gern hat. So soll Lockheimer dafür gesorgt haben, dass alle Smartphone-Hersteller, die auf Android setzen, gleichberechtigten Zugang zu Entwicklungen des Betriebssystems haben – auch, als Motorola noch zu Google gehörte. Ein anderes Beispiel ist Philipp Schindler, der Googles Werbegeschäft leiten soll. Medienpartner beschreiben ihn als kompromissbereit und umgänglich. Gelernt hat Schindler das in Europa, wo er Google jahrelang gegen Monopol-Vorwürfe aus Regierungskreisen verteidigen musste. Älterer Semester im Google-Umfeld befürchten laut re:code allerdings, dass ein softes Google wichtige Scharmützel verlieren wird. Doch die Zeit der ausgefahrenen Ellbogen ist vorerst vorbei.</td>\n",
       "      <td>Der, frischgekürte, CEO, Sundar, Pichai, setzt, auf, ein, umgänglicheres, Führungsteam., Die, Atmosphäre, im, Silicon, Valley, ist, rau., Da, werden, massenhaft, Mitarbeiter, der, direkten, Konkurrenz, abgeworben,, Löhne, mit, firmenübergreifenden, Mauscheleien, niedrig, gehalten, und, Untergebene, wegen, leicht, verfehlter, Ziele, vor, die, Tür, gesetzt., Auch, in, der, höchsten, Firmenebene, werden, brutale, Umgangsformen, gepflegt:, Die, Wutausbrüche, von, Apple-Mitgründer, Steve, Jobs, sind, legendär,, sein, früherer, Geschäftspartner, Steve, Wozniak, hätte, ihn, zu, Lebzeiten, gerne, als, Arschloch, beschimpft,, traute, sich, aber, nicht., Auch, Google-Mitgründer, Larry, Page, gilt, als, Choleriker,, für, den, ein, humaner, Umgang, mit, Mitarbeitern, nicht, an, erster, Stelle, steht., Doch, die, Zeiten, des, harten, Management-Stils, sind, bei, Google, vorbei., Das, belegen, zahlreiche, ehemalige, Mitarbeiter, und, Geschäftspartner., Wie, ein, Ex-Manager, gegenüber, re:code, pointiert, verlautbart:, Alle, Arschlöcher</td>\n",
       "      <td>frischgekürte, CEO, Sundar, Pichai, setzen, umgänglich, Führungsteam, Atmosphäre, Silicon, Valley, rau, massenhaft, Mitarbeiter, direkt, Konkurrenz, abwerben, Löhne, firmenübergreifenden, Mauscheleien, niedrig, halten, Untergebener, verfehlt, Ziel, Tür, setzen, hoch, Firmenebene, brutale, Umgangsformen, pflegen, Wutausbrüche, Apple-Mitgründer, Steve, Job, legendär, früh, Geschäftspartner, Steve, Wozniak, Lebzeiten, gerne, Arschloch, beschimpfen, trauen, Google-Mitgründer, Larry, Page, gelten, Choleriker, human, Umgang, Mitarbeiter, Stelle, stehen, Zeit, harten, Management-Stils, Google, vorbei, belegen, zahlreiche, ehemalig, Mitarbeiter, Geschäftspartner, Ex-Manager, re, code, pointiert, verlautbart, Arschlöcher, weg, Verantwortlich, zeichnen, Sundar, Pichai, Googles, Umstrukturierung, Gründung, Dachunternehmens, Alphabet, CEO, Suchmaschinisten, wenig, Monat, Google-Chef, Pichai, Umstrukturierung, vornehmen, erhalten, Lob, Branche, beispielsweise, Hiroshi, Lockheimer, Android-Chef, Ehemalige, Kollege, Motorola-Präsident, Rick, Osterloh, schwärmen, großartig, Typus, Lockheimer, sorgen, Smartphone-Hersteller, Android, setzen, gleichberechtigt, Zugang, Entwicklung, Betriebssystems, Motorola, Google, gehören, ander, Philipp, Schindler, Googles, Werbegeschäft, leiten, Medienpartner, beschreiben, kompromissbereit, umgänglich, Gelernt, Schindler, Europa, Google, jahrelang, Monopol-Vorwürfe, Regierungskreisen, verteidigen, Älterer, Semester, Google-Umfeld, befürchten, laut, re, code, softes, Google, wichtig, Scharmützel, verlieren, ausgefahren, Ellbogen, vorerst, vorbei</td>\n",
       "    </tr>\n",
       "    <tr>\n",
       "      <th>3</th>\n",
       "      <td>7</td>\n",
       "      <td>Wirtschaft</td>\n",
       "      <td>Putin: \"Einigung, dass wir Menge auf Niveau von Jänner halten\". Moskau – Die russischen Ölproduzenten wollen nach den Worten von Präsident Wladimir Putin ihre Förderung in diesem Jahr einfrieren. Im Großen und Ganzen wurde eine Einigung erzielt, dass wir die Ölproduktion auf dem Niveau von Jänner halten werden, sagte Putin am Mittwoch in Moskau. Russland leidet wie andere Förderstaaten unter dem drastischen Einbruch der Ölpreise. Putin will die Preise durch eine begrenzte Förderung im In- und Ausland stabilisieren. Dazu hatte Russland jüngst mit Saudi-Arabien und anderen großen Förderländern über ein Einfrieren der Produktion auf dem Jänner-Niveau beraten.</td>\n",
       "      <td>Putin:, \"Einigung,, dass, wir, Menge, auf, Niveau, von, Jänner, halten\"., Moskau, –, Die, russischen, Ölproduzenten, wollen, nach, den, Worten, von, Präsident, Wladimir, Putin, ihre, Förderung, in, diesem, Jahr, einfrieren., Im, Großen, und, Ganzen, wurde, eine, Einigung, erzielt,, dass, wir, die, Ölproduktion, auf, dem, Niveau, von, Jänner, halten, werden,, sagte, Putin, am, Mittwoch, in, Moskau., Russland, leidet, wie, andere, Förderstaaten, unter, dem, drastischen, Einbruch, der, Ölpreise., Putin, will, die, Preise, durch, eine, begrenzte, Förderung, im, In-, und, Ausland, stabilisieren., Dazu, hatte, Russland, jüngst, mit, Saudi-Arabien, und, anderen, großen, Förderländern, über, ein, Einfrieren, der, Produktion, auf, dem, Jänner-Niveau, beraten.</td>\n",
       "      <td>Putin, Einigung, Menge, Niveau, Jänner, halten, Moskau, russisch, Ölproduzenten, Worten, Präsident, Wladimir, Putin, Förderung, einfrieren, Einigung, erzielen, Ölproduktion, Niveau, Jänner, halten, Putin, Mittwoch, Moskau, Russland, leiden, Förderstaaten, drastisch, Einbruch, Ölpreise, Putin, Preis, begrenzen, Förderung, In-, Ausland, stabilisieren, Russland, jüngst, Saudi-Arabien, Förderländern, Einfrieren, Produktion, Jänner-Niveau, beraten</td>\n",
       "    </tr>\n",
       "    <tr>\n",
       "      <th>4</th>\n",
       "      <td>1</td>\n",
       "      <td>Inland</td>\n",
       "      <td>Estland sieht den künftigen österreichischen Präsidenten auch als estnischen Staatsbürger. Wien/Tallinn/Pskow – Die Eltern des künftigen Bundespräsidenten waren 1941 aus dem von Sowjets besetzten Estland in das damalige Deutsche Reich geflohen, wo 1944 in Wien Sascha Van der Bellen zur Welt kam. Estnische Verwandte jubelten am Dienstag über dessen Wahlsieg, Freude herrscht auch unter Politikern des Landes. Interesse an Van der Bellen gibt es auch in der russischen Stadt Pskow, der Geburtsstadt seiner Eltern. Wir haben von ganzem Herzen und mit der ganzen Familie mitgefiebert, sagt Irina Steinberg, eine Cousine des künftigen Präsidenten. Der Sonntag sei für sie deshalb ein großer Stress gewesen, erzählt Steinberg im Telefonat mit der APA. Sein Sieg zeugt davon, dass die österreichische Intelligenzija, die denkenden Menschen, für Sascha gestimmt haben, so die studierte Philologin, die in einem Dorf im Süden Estlands lebt. Freudig wird der Wahlsieg des ehemaligen Grünen-Chefs auch von estnischen Politikern kommentiert. Die Wahl eines Präsidenten mit estnischen Wurzeln schafft günstige Bedingungen für eine engere Zusammenarbeit zwischen Estland und Österreich, erklärt der Vorsitzende des außenpolitischen Ausschusses im estnischen Parlament, Sven Mikser. Da Estland aber auch den Aufschwung europaskeptischer Kräfte mit Sorge beobachte, sei er froh, dass sich die Österreicher für Van der Bellen entscheiden haben, sagt der Vertreter der Sozialdemokratischen Partei Estlands gegenüber der APA. Das Wahlergebnis ist ein guter Grund, den Österreichern gleich doppelt zu gratulieren, betont der ehemalige Außenminister und nunmehrige liberale Europaparlamentsabgeordnete Urmas Paet. Van der Bellen sei für die jetzige Zeit eine sehr vernünftige Wahl, sie sei gut für Europa und Österreich, sagt Paet im Gespräch mit der APA. Für Estland und das estnische Volk spielt aber auch die Tatsache eine Rolle, dass Österreich einen estnischen Staatsbürger zum Präsidenten gewählt hat. Nach Auskunft des estnischen Außenministeriums gelten Kinder von Bewohnern des 1940 zerstörten unabhängigen Estland, die vor dem 16. Juni 1940 über die estnische Staatsbürgerschaft verfügten, automatisch als Staatsbürger des nunmehrigen Estland. Der APA vorliegende Dokumente des estnischen Staatsarchivs und des deutschen Bundesarchivs belegen, dass Alma und Alexander Van der Bellen senior, die Eltern des künftigen Präsidenten, damals im Besitz der estnischen Staatsbürgerschaft waren. Interesse am künftigen Präsidenten zeigt aber auch Pskow, das im Westen Russland an der heutigen estnischen Grenze liegt. Die ursprünglich aus Holland stammende Familie war hier im 19. Jahrhundert in den russischen Adelstand erhoben worden, insbesondere der ebenso gleichnamige Großvater von Alexander Van der Bellen hatte vor der Oktoberrevolution des Jahres 1917 eine tragende politische Funktion in der Region gespielt. Nach der bürgerlichen Februarrevolution von 1917 war dieser Vertreter eines russischen Liberalismus zum Kommissar der Übergangsregierung für das Gouvernement Pskow und somit zum lokalen Regierungschef ernannt worden. In einigen Lokalmedien finden sich Schlagzeilen, in denen vom Sieg des Nachfahren eines Aristokraten aus Pskow oder des Enkels des Pskower Gouverneurs die Rede ist, berichtet der Direktor des Archivs der Region Pskow, Waleri Kusmin. In diesem Archiv finden sich zahlreiche Akten zur Familie Van der Bellen, insbesondere zur politischen Tätigkeit der Vorfahren. Kusmin geht im Gespräch mit der APA davon aus, dass in der nächsten Zeit auch einige wissenschaftliche Publikationen über die Van der Bellens in Pskow erscheinen werden. Die Geschichte dieser Kleinaristokraten in Pskow ging nach der Machtübernahme der Bolschewiken zu Ende: 1919 floh die Familie, darunter die Großeltern und der Vater des künftigen Präsidenten, nach Estland. Als die Sowjets 1940 Estland eroberten, floh man erneut Richtung Westen. Van der Bellens Vater hatte zu diesem Zeitpunkt aufgrund seiner Herkunft und insbesondere als international tätiger Banker Repressionen des sowjetischen Geheimdiensts NKWD zu befürchten. Die Flucht ging zunächst nach Wien und Ende 1944, Anfang 1945 und somit rechtzeitig vor dem Eintreffen der Rote Armee in Ostösterreich weiter nach Tirol, wo Van der Bellen senior eine Existenz im Außenhandel aufbauen konnte und zudem ein künftiger Präsident heranwachsen sollte.</td>\n",
       "      <td>Estland, sieht, den, künftigen, österreichischen, Präsidenten, auch, als, estnischen, Staatsbürger., Wien/Tallinn/Pskow, –, Die, Eltern, des, künftigen, Bundespräsidenten, waren, 1941, aus, dem, von, Sowjets, besetzten, Estland, in, das, damalige, Deutsche, Reich, geflohen,, wo, 1944, in, Wien, Sascha, Van, der, Bellen, zur, Welt, kam., Estnische, Verwandte, jubelten, am, Dienstag, über, dessen, Wahlsieg,, Freude, herrscht, auch, unter, Politikern, des, Landes., Interesse, an, Van, der, Bellen, gibt, es, auch, in, der, russischen, Stadt, Pskow,, der, Geburtsstadt, seiner, Eltern., Wir, haben, von, ganzem, Herzen, und, mit, der, ganzen, Familie, mitgefiebert,, sagt, Irina, Steinberg,, eine, Cousine, des, künftigen, Präsidenten., Der, Sonntag, sei, für, sie, deshalb, ein, großer, Stress, gewesen,, erzählt, Steinberg, im, Telefonat, mit, der, APA., Sein, Sieg, zeugt, davon,, dass, die, österreichische, Intelligenzija,, die, denkenden</td>\n",
       "      <td>Estland, sehen, künftig, österreichisch, Präsident, estnischen, Staatsbürger, Wien/Tallinn/Pskow, Eltern, künftig, Bundespräsidenten, Sowjet, besetzen, Estland, damalige, deutschen, Reich, fliehen, Wien, Sascha, Van, Bellen, Welt, Estnische, verwenden, jubeln, Dienstag, Wahlsieg, Freude, herrschen, Politiker, Land, Interesse, Van, Bellen, russisch, Stadt, Pskow, Geburtsstadt, Eltern, ganz, Herz, Familie, mitgefiebert, Irina, Steinberg, Cousine, künftig, Präsident, Sonntag, Stress, erzählen, Steinberg, Telefonat, APA, Sieg, zeugen, österreichisch, Intelligenzija, denkend, Mensch, Sascha, stimmen, studieren, Philologin, Dorf, Süden, Estland, leben, Freudig, Wahlsieg, ehemalig, Grünen-Chefs, estnischen, Politiker, kommentieren, Wahl, Präsident, estnischen, Wurzel, schaffen, günstige, Bedingung, eng, Zusammenarbeit, Estland, Österreich, erklären, Vorsitzende, außenpolitisch, Ausschuß, estnischen, Parlament, Sven, Mikser, Estland, Aufschwung, europaskeptischer, Kraft, Sorge, beobachten, froh, Österreicher, Van, Bellen, entscheiden, Vertreter, Sozialdemokratische, Partei, Estland, APA, Wahlergebnis, Grund, Österreicher, doppeln, gratulieren, betonen, ehemalig, Außenminister, nunmehrige, liberale, Europaparlamentsabgeordnete, Urmas, Paet, Van, Bellen, jetzige, vernünftig, Wahl, Europa, Österreich, Paet, Gespräch, APA, Estland, estnische, Volk, spielen, Tatsache, Rolle, Österreich, estnischen, Staatsbürger, Präsident, wählen, Auskunft, estnischen, Außenministerium, gelten, Kind, Bewohner, zerstören, unabhängig, Estland, Juni, estnische, Staatsbürgerschaft, verfügt, automatisch, Staatsbürger, nunmehrigen, Estland, APA, vorliegend, Dokument, estnischen, Staatsarchivs, deutsch, Bundesarchivs, belegen, Alma, Alexander, Van, Bellen, senior, Eltern, künftig, Präsident, Besitz, estnischen, Staatsbürgerschaft, Interesse, künftig, Präsident, zeigen, Pskow, Westen, Russland, heutig, estnischen, Grenze, liegen, ursprünglich, Holland, stammend, Familie, Jahrhundert, russisch, Adelstand, erheben, insbesondere, gleichnamig, Großvater, Alexander, Van, Bellen, Oktoberrevolution, Jahr, tragend, politische, Funktion, Region, spielen, bürgerlich, Februarrevolution, Vertreter, russisch, Liberalismus, Kommissar, Übergangsregierung, Gouvernement, Pskow, somit, lokal, Regierungschef, ernennen, Lokalmedien, finden, Schlagzeile, Sieg, Nachfahr, Aristokrat, Pskow, Enkel, Pskower, Gouverneur, Rede, berichten, Direktor, Archiv, Region, Pskow, Waleri, Kusmin, Archiv, finden, zahlreiche, Akte, Familie, Van, Bellen, insbesondere, politisch, Tätigkeit, Vorfahr, Kusmin, Gespräch, APA, nächst, wissenschaftliche, Publikation, Van, Bellen, Pskow, erscheinen, Geschichte, Kleinaristokraten, Pskow, Machtübernahme, Bolschewiken, fliehen, Familie, Großeltern, Vater, künftig, Präsident, Estland, Sowjet, Estland, erobern, fliehen, erneut, Richtung, Westen, Van, Bellen, Vater, Zeitpunkt, aufgrund, Herkunft, insbesondere, international, tätig, Banker, Repression, sowjetisch, Geheimdienst, NKWD, befürchten, Flucht, Wien, Anfang, somit, rechtzeitig, Eintreffen, rot, Armee, Ostösterreich, Tirol, Van, Bellen, senior, Existenz, Außenhandel, aufbauen, zudem, künftig, Präsident, heranwachsen</td>\n",
       "    </tr>\n",
       "  </tbody>\n",
       "</table>\n",
       "</div>"
      ],
      "text/plain": [
       "   label  ...                                                                                                                                                                                                                                                                                                                                                                                                                                                                                                                                                                                                                                                                                                                                                                                                                                                                                                                                                                                                                                                                                                                                                                                                                                                                                                                                                                                                                                                                                                                                                                                                                                                                                                                                                                                                                                                                                                                                                                                                                                                                                                                                                                                                                                                                                                                                                                                                                                                                                                                                                                                                                                                                                                                                                                                                                                                                                                                                                                                                                                                                                                                                                                                                                                                                                                                  prepro\n",
       "0      5  ...                                                                                                                                                                                                                                                                                                                                                                                                                                                                                                                                                                                                                                                                                                                                                                                                                                                                                                                                                                                                                                                                                                                                                                                                                                                                                                                                                                                                                                                                                                                                                                                                                                                                                                                                                                                                                                                                                                                                                                                                                                                                                                                                                                                                                                                                                                                                                                                                                                                                                                                                                                                                                                                                                                                                                                                                                                                                                                                                                21-Jähriger, fällen, Saisonende, Wien, Rapid, Saisonende, Offensivspieler, Thoma, Murg, verzichten, Winter, Ried, gekommen, 21-Jährige, erleiden, 0:4-Heimdebakel, Admira, Wacker, Mödling, Samstag, Teilriss, Innenbandes, link, Knie, Magnetresonanz-Untersuchung, Donnerstag, ergeben, Murg, erhalten, Schiene, operieren, Dennoch, stehen, mehrwöchige, Pause, bevor\n",
       "1      3  ...                                                                                                                                                                                                                                                                               Erfundene, Bild, Film, verlieren, gelten, The, Forbidden, Room, Guy, Maddin, Evan, Johnson, surrealer, Ritt, magisch, Labyrinth, früh, Kino, Wien, Filmgeschichte, Friedhof, Verlorene, Begrabene, finden, zahllos, Film, mysteriös, abenteuerlich, klingend, Name, kursieren, verstreuen, herumliegend, Sekundärmaterial, Aufschluss, erlauben, The, Forbidden, Room, Two-Reeler, arbeitswütige, US-Regisseur, Allan, Dwan, u., a., Horrordarsteller, Lon, Chaney, drehen, passend, Titel, Film, verschollen, gelten, Verbot, Einladung, Überschreitung, ähnlich, Gedanke, kanadische, Experimentalfilmemacher, Guy, Maddin, Film, gleich, Titel, Gemeinsam, Koregisseur, Evan, Johnson, vergessen, verschwunden, Arbeit, Film, geschichte, Ausgangspunkt, Neuerfindung, erkiesen, historische, Genauigkeit, freilich, erlauben, vielmehr, Fantasie, ausspucken, Arg, angespannt, Szene, U-Boot, Besatzung, tief, Ozean, Art, explosiv, Gelee, umhertaucht, Sauerstoff, Pfannkuchen, generieren, Erinnerung, Schnurrbart, Oberlippe, Sohnes, Tote, heften, derart, Witwe, Trost, spenden, Letzteres, frei, erfunden, Handlung, Mikio-Naruse-Films, Titel, The, Strength, of, Moustache, Volten, schlagen, Handlung, verlaufen, jemals, linear, sprunghaft, surreal, Unerwartete, irgendwo, Jules, Verne, Jacques, Tourneur, F., W., Murnau, Maddin, verehren, Modernisten, Raymond, Roussel, britische, Guardian, beschreiben, Ergebnis, Einwirkung, LSD, Filmarchiv, wandeln, Rausch-, zumindest, Traumähnliche, teilen, Arbeit, Maddins, früh, kurz, dimensionieren, The, Forbidden, Room, Dauer, Stunde, nahe, Überdosis, heiß, Überforderung, Programm, Maddin, Johnson, geben, Häppchen, zufrieden, immersives, Seherlebnis, ermöglichen, Filmpionier, George, Méliès, orientieren, Sinn, nehmen, fantastische, Qualität, Kino, eigentlich, Realität, wild, Bild, pumpend, Psyche, gekoppelt, manchmal, humorvoll, kindlich, Maschine, Maddins, Kurzfilm, The, Heart, of, the, World, Geltung, Zusammenhang, suchen, finden, Bekenntnis, Abschweifung, Verbindung, Waldarbeiter, Roy, Dupuis, Spur, verschwunden, Frau, folgen, Udo, Kier, verkörpern, Arzt, Fetisch, Gesäße, seltsam, Reklamemenschen, Zuschauer, erklären, perfekte, Bad, nehmen, liegen, allenfalls, Oberfläche, digital, Postproduktion, hergestellt, Ästhetik, früh, Kino, The, Forbidden, Room, Gespenst, analog, Zeitalters, wachrufen, Künstlich, verwittert, Farbe, Laufbilder, eingeschränkt, Zwei-Farben-Technicolor-Verfahren, verweisen, künstlich, heruntergestuft, Filmmaterial, Verwitterung, aussetzen, Doppelbelichtungen, wirken, sein, Mate, rialien, ineinandergeschmolzen, Zwischentiteln, weitgehenden, Verzicht, herkömmlich, Dialog, schließen, Maddin, Evan, Stummfilm, stilistische, Bandbreite, Montag, szenisch, Regie, spielerisch, betonen, ausagieren, Amnesie, visuell, betörend, Film, befallen, Mensch, Figur, Ferne, zurückkehren, Gedanke, lässt, Bild, Film, anwenden, enthalten, Fragment, Kino, erinnern, verlieren, halten\n",
       "2      6  ...                                                                                                                                                                                                                                                                                                                                                                                                                                                                                                                                                                                                                                                                                                                                                                                                                                                                                                                                                                                                                                                                                                                                                                                                                                                                                                                                                                                                                                                                                                                                                                                                                                                                    frischgekürte, CEO, Sundar, Pichai, setzen, umgänglich, Führungsteam, Atmosphäre, Silicon, Valley, rau, massenhaft, Mitarbeiter, direkt, Konkurrenz, abwerben, Löhne, firmenübergreifenden, Mauscheleien, niedrig, halten, Untergebener, verfehlt, Ziel, Tür, setzen, hoch, Firmenebene, brutale, Umgangsformen, pflegen, Wutausbrüche, Apple-Mitgründer, Steve, Job, legendär, früh, Geschäftspartner, Steve, Wozniak, Lebzeiten, gerne, Arschloch, beschimpfen, trauen, Google-Mitgründer, Larry, Page, gelten, Choleriker, human, Umgang, Mitarbeiter, Stelle, stehen, Zeit, harten, Management-Stils, Google, vorbei, belegen, zahlreiche, ehemalig, Mitarbeiter, Geschäftspartner, Ex-Manager, re, code, pointiert, verlautbart, Arschlöcher, weg, Verantwortlich, zeichnen, Sundar, Pichai, Googles, Umstrukturierung, Gründung, Dachunternehmens, Alphabet, CEO, Suchmaschinisten, wenig, Monat, Google-Chef, Pichai, Umstrukturierung, vornehmen, erhalten, Lob, Branche, beispielsweise, Hiroshi, Lockheimer, Android-Chef, Ehemalige, Kollege, Motorola-Präsident, Rick, Osterloh, schwärmen, großartig, Typus, Lockheimer, sorgen, Smartphone-Hersteller, Android, setzen, gleichberechtigt, Zugang, Entwicklung, Betriebssystems, Motorola, Google, gehören, ander, Philipp, Schindler, Googles, Werbegeschäft, leiten, Medienpartner, beschreiben, kompromissbereit, umgänglich, Gelernt, Schindler, Europa, Google, jahrelang, Monopol-Vorwürfe, Regierungskreisen, verteidigen, Älterer, Semester, Google-Umfeld, befürchten, laut, re, code, softes, Google, wichtig, Scharmützel, verlieren, ausgefahren, Ellbogen, vorerst, vorbei\n",
       "3      7  ...                                                                                                                                                                                                                                                                                                                                                                                                                                                                                                                                                                                                                                                                                                                                                                                                                                                                                                                                                                                                                                                                                                                                                                                                                                                                                                                                                                                                                                                                                                                                                                                                                                                                                                                                                                                                                                                                                                                                                                                                                                                                                                                                                                                                                                                                                                                                                                                                                                                                                                                                                                                                                                                                                                                                                                                                                                                          Putin, Einigung, Menge, Niveau, Jänner, halten, Moskau, russisch, Ölproduzenten, Worten, Präsident, Wladimir, Putin, Förderung, einfrieren, Einigung, erzielen, Ölproduktion, Niveau, Jänner, halten, Putin, Mittwoch, Moskau, Russland, leiden, Förderstaaten, drastisch, Einbruch, Ölpreise, Putin, Preis, begrenzen, Förderung, In-, Ausland, stabilisieren, Russland, jüngst, Saudi-Arabien, Förderländern, Einfrieren, Produktion, Jänner-Niveau, beraten\n",
       "4      1  ...  Estland, sehen, künftig, österreichisch, Präsident, estnischen, Staatsbürger, Wien/Tallinn/Pskow, Eltern, künftig, Bundespräsidenten, Sowjet, besetzen, Estland, damalige, deutschen, Reich, fliehen, Wien, Sascha, Van, Bellen, Welt, Estnische, verwenden, jubeln, Dienstag, Wahlsieg, Freude, herrschen, Politiker, Land, Interesse, Van, Bellen, russisch, Stadt, Pskow, Geburtsstadt, Eltern, ganz, Herz, Familie, mitgefiebert, Irina, Steinberg, Cousine, künftig, Präsident, Sonntag, Stress, erzählen, Steinberg, Telefonat, APA, Sieg, zeugen, österreichisch, Intelligenzija, denkend, Mensch, Sascha, stimmen, studieren, Philologin, Dorf, Süden, Estland, leben, Freudig, Wahlsieg, ehemalig, Grünen-Chefs, estnischen, Politiker, kommentieren, Wahl, Präsident, estnischen, Wurzel, schaffen, günstige, Bedingung, eng, Zusammenarbeit, Estland, Österreich, erklären, Vorsitzende, außenpolitisch, Ausschuß, estnischen, Parlament, Sven, Mikser, Estland, Aufschwung, europaskeptischer, Kraft, Sorge, beobachten, froh, Österreicher, Van, Bellen, entscheiden, Vertreter, Sozialdemokratische, Partei, Estland, APA, Wahlergebnis, Grund, Österreicher, doppeln, gratulieren, betonen, ehemalig, Außenminister, nunmehrige, liberale, Europaparlamentsabgeordnete, Urmas, Paet, Van, Bellen, jetzige, vernünftig, Wahl, Europa, Österreich, Paet, Gespräch, APA, Estland, estnische, Volk, spielen, Tatsache, Rolle, Österreich, estnischen, Staatsbürger, Präsident, wählen, Auskunft, estnischen, Außenministerium, gelten, Kind, Bewohner, zerstören, unabhängig, Estland, Juni, estnische, Staatsbürgerschaft, verfügt, automatisch, Staatsbürger, nunmehrigen, Estland, APA, vorliegend, Dokument, estnischen, Staatsarchivs, deutsch, Bundesarchivs, belegen, Alma, Alexander, Van, Bellen, senior, Eltern, künftig, Präsident, Besitz, estnischen, Staatsbürgerschaft, Interesse, künftig, Präsident, zeigen, Pskow, Westen, Russland, heutig, estnischen, Grenze, liegen, ursprünglich, Holland, stammend, Familie, Jahrhundert, russisch, Adelstand, erheben, insbesondere, gleichnamig, Großvater, Alexander, Van, Bellen, Oktoberrevolution, Jahr, tragend, politische, Funktion, Region, spielen, bürgerlich, Februarrevolution, Vertreter, russisch, Liberalismus, Kommissar, Übergangsregierung, Gouvernement, Pskow, somit, lokal, Regierungschef, ernennen, Lokalmedien, finden, Schlagzeile, Sieg, Nachfahr, Aristokrat, Pskow, Enkel, Pskower, Gouverneur, Rede, berichten, Direktor, Archiv, Region, Pskow, Waleri, Kusmin, Archiv, finden, zahlreiche, Akte, Familie, Van, Bellen, insbesondere, politisch, Tätigkeit, Vorfahr, Kusmin, Gespräch, APA, nächst, wissenschaftliche, Publikation, Van, Bellen, Pskow, erscheinen, Geschichte, Kleinaristokraten, Pskow, Machtübernahme, Bolschewiken, fliehen, Familie, Großeltern, Vater, künftig, Präsident, Estland, Sowjet, Estland, erobern, fliehen, erneut, Richtung, Westen, Van, Bellen, Vater, Zeitpunkt, aufgrund, Herkunft, insbesondere, international, tätig, Banker, Repression, sowjetisch, Geheimdienst, NKWD, befürchten, Flucht, Wien, Anfang, somit, rechtzeitig, Eintreffen, rot, Armee, Ostösterreich, Tirol, Van, Bellen, senior, Existenz, Außenhandel, aufbauen, zudem, künftig, Präsident, heranwachsen\n",
       "\n",
       "[5 rows x 5 columns]"
      ]
     },
     "execution_count": 6,
     "metadata": {
      "tags": []
     },
     "output_type": "execute_result"
    }
   ],
   "source": [
    "gnd[\"text120\"] = (gnd.text.str.split().str[:120]).apply(\", \".join)\n",
    "gnd[\"prepro\"] = gnd.text.apply(textcleaner).apply(\", \".join)\n",
    "gnd.head()"
   ]
  },
  {
   "cell_type": "code",
   "execution_count": null,
   "metadata": {
    "colab": {},
    "colab_type": "code",
    "id": "WV-fy4SKl4Aa"
   },
   "outputs": [],
   "source": [
    "def SavePickle(name, object):\n",
    "    save_df = open(str(name)+'.pickle','wb')\n",
    "    pickle.dump(object,save_df)\n",
    "    save_df.close()\n",
    "\n",
    "path = '/gdrive/My Drive/data/'\n",
    "SavePickle(path+'10kGNAD_preprocessed', gnd)"
   ]
  },
  {
   "cell_type": "markdown",
   "metadata": {
    "colab_type": "text",
    "id": "sgsFHKJRlsgj"
   },
   "source": [
    "# Preprocessed 10kGND einlesen (pickle-Objekt)"
   ]
  },
  {
   "cell_type": "code",
   "execution_count": null,
   "metadata": {
    "colab": {
     "base_uri": "https://localhost:8080/",
     "height": 102
    },
    "colab_type": "code",
    "id": "rvcDCdNfnFOp",
    "outputId": "2f981d88-c172-449b-ad21-cf33d4659995"
   },
   "outputs": [
    {
     "data": {
      "text/plain": [
       "['TIMEGenderData.csv',\n",
       " 'times_magazin.csv',\n",
       " 'noten.csv',\n",
       " '10kGNAD_train.csv',\n",
       " '10kGNAD_preprocessed.pickle']"
      ]
     },
     "execution_count": 4,
     "metadata": {
      "tags": []
     },
     "output_type": "execute_result"
    }
   ],
   "source": [
    "path = '/gdrive/My Drive/data/'\n",
    "os.listdir(path)"
   ]
  },
  {
   "cell_type": "code",
   "execution_count": 3,
   "metadata": {
    "colab": {
     "base_uri": "https://localhost:8080/",
     "height": 238
    },
    "colab_type": "code",
    "id": "5q9KBiyflrtz",
    "outputId": "e78d5e06-1398-42a6-97a8-763a19d764bc"
   },
   "outputs": [
    {
     "name": "stdout",
     "output_type": "stream",
     "text": [
      "<class 'pandas.core.frame.DataFrame'>\n",
      "RangeIndex: 9245 entries, 0 to 9244\n",
      "Data columns (total 5 columns):\n",
      " #   Column    Non-Null Count  Dtype \n",
      "---  ------    --------------  ----- \n",
      " 0   label     9245 non-null   int32 \n",
      " 1   labelEnc  9245 non-null   object\n",
      " 2   text      9245 non-null   object\n",
      " 3   text120   9245 non-null   object\n",
      " 4   prepro    9245 non-null   object\n",
      "dtypes: int32(1), object(4)\n",
      "memory usage: 325.1+ KB\n",
      "Preprocessed Datenset 10k German News in Dataframe gnd geladen\n"
     ]
    }
   ],
   "source": [
    "FILE = '10kGNAD_preprocessed'\n",
    "# open_df = open(path+FILE+'.pickle','rb')\n",
    "open_df = open(FILE+'.pickle','rb')\n",
    "gnd = pickle.load(open_df)\n",
    "open_df.close()\n",
    "\n",
    "\n",
    "le = LabelEncoder()\n",
    "gnd.label = le.fit_transform(gnd.labelEnc)\n",
    "gnd.info()\n",
    "print(\"Preprocessed Datenset 10k German News in Dataframe gnd geladen\")"
   ]
  },
  {
   "cell_type": "markdown",
   "metadata": {
    "colab_type": "text",
    "id": "hkccITHO5MNr"
   },
   "source": [
    "# SVC Classification auf voll gelabeltem Datenset"
   ]
  },
  {
   "cell_type": "code",
   "execution_count": null,
   "metadata": {
    "colab": {
     "base_uri": "https://localhost:8080/",
     "height": 34
    },
    "colab_type": "code",
    "id": "0PRaVh3C5rtJ",
    "outputId": "291786c9-4a63-49ed-f9be-37fab59fecb0"
   },
   "outputs": [
    {
     "name": "stdout",
     "output_type": "stream",
     "text": [
      "(6471,) (2774,)\n"
     ]
    }
   ],
   "source": [
    "txt = \"text\"  # Alternative Methodik mit \"prepro\" := legt fest, ob auf Rawtext (text) oder Prepro-Text (prepro) trainiert wird\n",
    "\n",
    "X_train, X_test, y_train, y_test = train_test_split(gnd[txt], gnd[\"label\"], test_size=.3, stratify=gnd.label)\n",
    "print(X_train.shape, X_test.shape)\n"
   ]
  },
  {
   "cell_type": "code",
   "execution_count": null,
   "metadata": {
    "colab": {
     "base_uri": "https://localhost:8080/",
     "height": 421
    },
    "colab_type": "code",
    "id": "jgmOLVY-42hO",
    "outputId": "b47dfce1-8aec-4df2-baa6-67d8d0424651"
   },
   "outputs": [
    {
     "data": {
      "text/html": [
       "<div>\n",
       "<style scoped>\n",
       "    .dataframe tbody tr th:only-of-type {\n",
       "        vertical-align: middle;\n",
       "    }\n",
       "\n",
       "    .dataframe tbody tr th {\n",
       "        vertical-align: top;\n",
       "    }\n",
       "\n",
       "    .dataframe thead th {\n",
       "        text-align: right;\n",
       "    }\n",
       "</style>\n",
       "<table border=\"1\" class=\"dataframe\">\n",
       "  <thead>\n",
       "    <tr style=\"text-align: right;\">\n",
       "      <th></th>\n",
       "      <th>precision</th>\n",
       "      <th>recall</th>\n",
       "      <th>f1-score</th>\n",
       "      <th>support</th>\n",
       "    </tr>\n",
       "  </thead>\n",
       "  <tbody>\n",
       "    <tr>\n",
       "      <th>Etat</th>\n",
       "      <td>0.772222</td>\n",
       "      <td>0.902597</td>\n",
       "      <td>0.832335</td>\n",
       "      <td>154.000000</td>\n",
       "    </tr>\n",
       "    <tr>\n",
       "      <th>Inland</th>\n",
       "      <td>0.755474</td>\n",
       "      <td>0.784091</td>\n",
       "      <td>0.769517</td>\n",
       "      <td>264.000000</td>\n",
       "    </tr>\n",
       "    <tr>\n",
       "      <th>International</th>\n",
       "      <td>0.872549</td>\n",
       "      <td>0.896725</td>\n",
       "      <td>0.884472</td>\n",
       "      <td>397.000000</td>\n",
       "    </tr>\n",
       "    <tr>\n",
       "      <th>Kultur</th>\n",
       "      <td>0.917808</td>\n",
       "      <td>0.837500</td>\n",
       "      <td>0.875817</td>\n",
       "      <td>160.000000</td>\n",
       "    </tr>\n",
       "    <tr>\n",
       "      <th>Panorama</th>\n",
       "      <td>0.845475</td>\n",
       "      <td>0.804622</td>\n",
       "      <td>0.824543</td>\n",
       "      <td>476.000000</td>\n",
       "    </tr>\n",
       "    <tr>\n",
       "      <th>Sport</th>\n",
       "      <td>0.959877</td>\n",
       "      <td>0.984177</td>\n",
       "      <td>0.971875</td>\n",
       "      <td>316.000000</td>\n",
       "    </tr>\n",
       "    <tr>\n",
       "      <th>Web</th>\n",
       "      <td>0.887417</td>\n",
       "      <td>0.885463</td>\n",
       "      <td>0.886439</td>\n",
       "      <td>454.000000</td>\n",
       "    </tr>\n",
       "    <tr>\n",
       "      <th>Wirtschaft</th>\n",
       "      <td>0.850394</td>\n",
       "      <td>0.778846</td>\n",
       "      <td>0.813049</td>\n",
       "      <td>416.000000</td>\n",
       "    </tr>\n",
       "    <tr>\n",
       "      <th>Wissenschaft</th>\n",
       "      <td>0.812903</td>\n",
       "      <td>0.919708</td>\n",
       "      <td>0.863014</td>\n",
       "      <td>137.000000</td>\n",
       "    </tr>\n",
       "    <tr>\n",
       "      <th>accuracy</th>\n",
       "      <td>0.858688</td>\n",
       "      <td>0.858688</td>\n",
       "      <td>0.858688</td>\n",
       "      <td>0.858688</td>\n",
       "    </tr>\n",
       "    <tr>\n",
       "      <th>macro avg</th>\n",
       "      <td>0.852680</td>\n",
       "      <td>0.865970</td>\n",
       "      <td>0.857896</td>\n",
       "      <td>2774.000000</td>\n",
       "    </tr>\n",
       "    <tr>\n",
       "      <th>weighted avg</th>\n",
       "      <td>0.859915</td>\n",
       "      <td>0.858688</td>\n",
       "      <td>0.858362</td>\n",
       "      <td>2774.000000</td>\n",
       "    </tr>\n",
       "  </tbody>\n",
       "</table>\n",
       "</div>"
      ],
      "text/plain": [
       "               precision    recall  f1-score      support\n",
       "Etat            0.772222  0.902597  0.832335   154.000000\n",
       "Inland          0.755474  0.784091  0.769517   264.000000\n",
       "International   0.872549  0.896725  0.884472   397.000000\n",
       "Kultur          0.917808  0.837500  0.875817   160.000000\n",
       "Panorama        0.845475  0.804622  0.824543   476.000000\n",
       "Sport           0.959877  0.984177  0.971875   316.000000\n",
       "Web             0.887417  0.885463  0.886439   454.000000\n",
       "Wirtschaft      0.850394  0.778846  0.813049   416.000000\n",
       "Wissenschaft    0.812903  0.919708  0.863014   137.000000\n",
       "accuracy        0.858688  0.858688  0.858688     0.858688\n",
       "macro avg       0.852680  0.865970  0.857896  2774.000000\n",
       "weighted avg    0.859915  0.858688  0.858362  2774.000000"
      ]
     },
     "execution_count": 8,
     "metadata": {
      "tags": []
     },
     "output_type": "execute_result"
    }
   ],
   "source": [
    "# classifier pipeline mit Support Vektor Machine als Classifier definieren\n",
    "lsvc_classifier = Pipeline([\n",
    "  ('vect', CountVectorizer()),\n",
    "  ('tfidf', TfidfTransformer(sublinear_tf=True)),                   \n",
    "  ('clf', LinearSVC(dual=False, C=1.6, class_weight=\"balanced\")),\n",
    "])\n",
    "\n",
    "# classifier mit vorgeschalteter Pipeline trainieren:\n",
    "lsvc_classifier.fit(X_train, y_train)  # train the classifier\n",
    "\n",
    "# trainierten classifier auf die Testdaten anwenden, um den Accuracy Score zu ermitteln:\n",
    "predicted = lsvc_classifier.predict(X_test)  # predict the test set \n",
    "\n",
    "score_report = classification_report(predicted, y_test, target_names=le.classes_.tolist(), output_dict=True)\n",
    "scores_SVC_FullData = pd.DataFrame(score_report).transpose()\n",
    "scores_SVC_FullData"
   ]
  },
  {
   "cell_type": "markdown",
   "metadata": {
    "colab_type": "text",
    "id": "8girgb5G6gnU"
   },
   "source": [
    "# Active Labeling mit 50 Trainingsdaten auf Basis k-Means (k=50)"
   ]
  },
  {
   "cell_type": "code",
   "execution_count": null,
   "metadata": {
    "colab": {
     "base_uri": "https://localhost:8080/",
     "height": 34
    },
    "colab_type": "code",
    "id": "v3MEDmXx43CG",
    "outputId": "98220830-0f54-48fc-c8eb-c3ceb4b16536"
   },
   "outputs": [
    {
     "name": "stdout",
     "output_type": "stream",
     "text": [
      "(100,) (100,)\n"
     ]
    }
   ],
   "source": [
    "k = 100\n",
    "\n",
    "km = Pipeline([\n",
    "  ('vect', CountVectorizer()),\n",
    "  ('tfidf', TfidfTransformer(sublinear_tf=True)),                   \n",
    "  ('kmeans', KMeans(n_clusters = k, n_jobs=-1,  )),\n",
    "])\n",
    "\n",
    "\n",
    "X_digits_dist = km.fit_transform(X_train) # X_digits_dist: Distanz jedes Datensatzes zu den 50 Centroids: Shape: n / k\n",
    "\n",
    "# Repräsentative Datenpunkte (sind am nähesten zum Centroid des jeweiligen k-Clusters)\n",
    "representative_digit_idx = np.argmin(X_digits_dist, axis=0)\n",
    "X_representative_digits = X_train.iloc[representative_digit_idx]\n",
    "y_representative_digits = y_train.iloc[representative_digit_idx]\n",
    "\n",
    "print(X_representative_digits.shape, y_representative_digits.shape)\n"
   ]
  },
  {
   "cell_type": "code",
   "execution_count": null,
   "metadata": {
    "colab": {
     "base_uri": "https://localhost:8080/",
     "height": 455
    },
    "colab_type": "code",
    "id": "mRMISQ5J7LUM",
    "outputId": "325a15c9-cd54-4dff-9de4-7d92c7507985"
   },
   "outputs": [
    {
     "name": "stderr",
     "output_type": "stream",
     "text": [
      "/usr/local/lib/python3.6/dist-packages/sklearn/metrics/_classification.py:1272: UndefinedMetricWarning: Recall and F-score are ill-defined and being set to 0.0 in labels with no true samples. Use `zero_division` parameter to control this behavior.\n",
      "  _warn_prf(average, modifier, msg_start, len(result))\n"
     ]
    },
    {
     "data": {
      "text/html": [
       "<div>\n",
       "<style scoped>\n",
       "    .dataframe tbody tr th:only-of-type {\n",
       "        vertical-align: middle;\n",
       "    }\n",
       "\n",
       "    .dataframe tbody tr th {\n",
       "        vertical-align: top;\n",
       "    }\n",
       "\n",
       "    .dataframe thead th {\n",
       "        text-align: right;\n",
       "    }\n",
       "</style>\n",
       "<table border=\"1\" class=\"dataframe\">\n",
       "  <thead>\n",
       "    <tr style=\"text-align: right;\">\n",
       "      <th></th>\n",
       "      <th>precision</th>\n",
       "      <th>recall</th>\n",
       "      <th>f1-score</th>\n",
       "      <th>support</th>\n",
       "    </tr>\n",
       "  </thead>\n",
       "  <tbody>\n",
       "    <tr>\n",
       "      <th>Etat</th>\n",
       "      <td>0.133333</td>\n",
       "      <td>1.000000</td>\n",
       "      <td>0.235294</td>\n",
       "      <td>24.000000</td>\n",
       "    </tr>\n",
       "    <tr>\n",
       "      <th>Inland</th>\n",
       "      <td>0.697080</td>\n",
       "      <td>0.434091</td>\n",
       "      <td>0.535014</td>\n",
       "      <td>440.000000</td>\n",
       "    </tr>\n",
       "    <tr>\n",
       "      <th>International</th>\n",
       "      <td>0.779412</td>\n",
       "      <td>0.637275</td>\n",
       "      <td>0.701213</td>\n",
       "      <td>499.000000</td>\n",
       "    </tr>\n",
       "    <tr>\n",
       "      <th>Kultur</th>\n",
       "      <td>0.000000</td>\n",
       "      <td>0.000000</td>\n",
       "      <td>0.000000</td>\n",
       "      <td>0.000000</td>\n",
       "    </tr>\n",
       "    <tr>\n",
       "      <th>Panorama</th>\n",
       "      <td>0.785872</td>\n",
       "      <td>0.489011</td>\n",
       "      <td>0.602879</td>\n",
       "      <td>728.000000</td>\n",
       "    </tr>\n",
       "    <tr>\n",
       "      <th>Sport</th>\n",
       "      <td>0.904321</td>\n",
       "      <td>0.794038</td>\n",
       "      <td>0.845599</td>\n",
       "      <td>369.000000</td>\n",
       "    </tr>\n",
       "    <tr>\n",
       "      <th>Web</th>\n",
       "      <td>0.766004</td>\n",
       "      <td>0.755991</td>\n",
       "      <td>0.760965</td>\n",
       "      <td>459.000000</td>\n",
       "    </tr>\n",
       "    <tr>\n",
       "      <th>Wirtschaft</th>\n",
       "      <td>0.433071</td>\n",
       "      <td>0.647059</td>\n",
       "      <td>0.518868</td>\n",
       "      <td>255.000000</td>\n",
       "    </tr>\n",
       "    <tr>\n",
       "      <th>Wissenschaft</th>\n",
       "      <td>0.000000</td>\n",
       "      <td>0.000000</td>\n",
       "      <td>0.000000</td>\n",
       "      <td>0.000000</td>\n",
       "    </tr>\n",
       "    <tr>\n",
       "      <th>accuracy</th>\n",
       "      <td>0.610671</td>\n",
       "      <td>0.610671</td>\n",
       "      <td>0.610671</td>\n",
       "      <td>0.610671</td>\n",
       "    </tr>\n",
       "    <tr>\n",
       "      <th>macro avg</th>\n",
       "      <td>0.499899</td>\n",
       "      <td>0.528607</td>\n",
       "      <td>0.466648</td>\n",
       "      <td>2774.000000</td>\n",
       "    </tr>\n",
       "    <tr>\n",
       "      <th>weighted avg</th>\n",
       "      <td>0.745018</td>\n",
       "      <td>0.610671</td>\n",
       "      <td>0.657345</td>\n",
       "      <td>2774.000000</td>\n",
       "    </tr>\n",
       "  </tbody>\n",
       "</table>\n",
       "</div>"
      ],
      "text/plain": [
       "               precision    recall  f1-score      support\n",
       "Etat            0.133333  1.000000  0.235294    24.000000\n",
       "Inland          0.697080  0.434091  0.535014   440.000000\n",
       "International   0.779412  0.637275  0.701213   499.000000\n",
       "Kultur          0.000000  0.000000  0.000000     0.000000\n",
       "Panorama        0.785872  0.489011  0.602879   728.000000\n",
       "Sport           0.904321  0.794038  0.845599   369.000000\n",
       "Web             0.766004  0.755991  0.760965   459.000000\n",
       "Wirtschaft      0.433071  0.647059  0.518868   255.000000\n",
       "Wissenschaft    0.000000  0.000000  0.000000     0.000000\n",
       "accuracy        0.610671  0.610671  0.610671     0.610671\n",
       "macro avg       0.499899  0.528607  0.466648  2774.000000\n",
       "weighted avg    0.745018  0.610671  0.657345  2774.000000"
      ]
     },
     "execution_count": 12,
     "metadata": {
      "tags": []
     },
     "output_type": "execute_result"
    }
   ],
   "source": [
    "# classifier pipeline mit Support Vektor Machine als Classifier definieren\n",
    "lsvc_classifier = Pipeline([\n",
    "  ('vect', CountVectorizer()),\n",
    "  ('tfidf', TfidfTransformer(sublinear_tf=True)),                   \n",
    "  ('clf', LinearSVC(dual=False, C=1.6, class_weight=\"balanced\")),\n",
    "])\n",
    "\n",
    "# classifier mit vorgeschalteter Pipeline trainieren:\n",
    "lsvc_classifier.fit(X_representative_digits, y_representative_digits)  \n",
    "\n",
    "# trainierten classifier auf die Testdaten anwenden, um den Accuracy Score zu ermitteln:\n",
    "predicted = lsvc_classifier.predict(X_test)  \n",
    "\n",
    "score_report = classification_report(predicted, y_test, target_names=le.classes_.tolist(), output_dict=True)\n",
    "scores_SVC_50Labels = pd.DataFrame(score_report).transpose()\n",
    "scores_SVC_50Labels\n"
   ]
  },
  {
   "cell_type": "markdown",
   "metadata": {
    "colab_type": "text",
    "id": "4WbOIObo9mq5"
   },
   "source": [
    "# Active Labeling mit propagierten Labels\n",
    "Basis: 50 gelabelte Ausgangsdatenpunkte und k-Means mit k = 50\n",
    "\n",
    "Labels propagieren:"
   ]
  },
  {
   "cell_type": "code",
   "execution_count": null,
   "metadata": {
    "colab": {
     "base_uri": "https://localhost:8080/",
     "height": 204
    },
    "colab_type": "code",
    "id": "WSA-YOGFKA8u",
    "outputId": "3c5277f1-534f-4167-9a51-11c61142b102"
   },
   "outputs": [
    {
     "name": "stdout",
     "output_type": "stream",
     "text": [
      "Umfang propagiertes Labelset:  (6471,) \n",
      "\n"
     ]
    },
    {
     "data": {
      "text/plain": [
       "4    0.193788\n",
       "0    0.152218\n",
       "1    0.146809\n",
       "6    0.145263\n",
       "2    0.132437\n",
       "7    0.128728\n",
       "5    0.097976\n",
       "8    0.002782\n",
       "dtype: float64"
      ]
     },
     "execution_count": 13,
     "metadata": {
      "tags": []
     },
     "output_type": "execute_result"
    }
   ],
   "source": [
    "y_train_propagated = np.empty(len(X_train), dtype=np.int32)  # arbitrary filler data\n",
    "\n",
    "for idx, lbl in enumerate(y_representative_digits):          # ruft für jeden der 50 Cluster das entsprechende repräsentative Label auf\n",
    "    y_train_propagated[km[\"kmeans\"].labels_==idx] = lbl      # Leerer Vektor wird mit dem jeweils repräsentativen Labelwert befüllt (lbl)\n",
    "    # print(y_train_propagated[km[\"kmeans\"].labels_==idx])\n",
    "\n",
    "print(\"Umfang propagiertes Labelset: \", y_train_propagated.shape, \"\\n\")\n",
    "pd.Series(y_train_propagated).value_counts(normalize=True)  # "
   ]
  },
  {
   "cell_type": "markdown",
   "metadata": {
    "colab_type": "text",
    "id": "BHmgGt_ZxWP8"
   },
   "source": [
    "Gesamtes Datenset X_train auf die propagierten Labels fitten (y_train_propagated).\n",
    "Dann auf Testdatenset anwenden"
   ]
  },
  {
   "cell_type": "code",
   "execution_count": null,
   "metadata": {
    "colab": {
     "base_uri": "https://localhost:8080/",
     "height": 455
    },
    "colab_type": "code",
    "id": "62059v2sW-_B",
    "outputId": "ad95d245-278c-4c29-bef2-313c46aadc6b"
   },
   "outputs": [
    {
     "name": "stderr",
     "output_type": "stream",
     "text": [
      "/usr/local/lib/python3.6/dist-packages/sklearn/metrics/_classification.py:1272: UndefinedMetricWarning: Recall and F-score are ill-defined and being set to 0.0 in labels with no true samples. Use `zero_division` parameter to control this behavior.\n",
      "  _warn_prf(average, modifier, msg_start, len(result))\n"
     ]
    },
    {
     "data": {
      "text/html": [
       "<div>\n",
       "<style scoped>\n",
       "    .dataframe tbody tr th:only-of-type {\n",
       "        vertical-align: middle;\n",
       "    }\n",
       "\n",
       "    .dataframe tbody tr th {\n",
       "        vertical-align: top;\n",
       "    }\n",
       "\n",
       "    .dataframe thead th {\n",
       "        text-align: right;\n",
       "    }\n",
       "</style>\n",
       "<table border=\"1\" class=\"dataframe\">\n",
       "  <thead>\n",
       "    <tr style=\"text-align: right;\">\n",
       "      <th></th>\n",
       "      <th>precision</th>\n",
       "      <th>recall</th>\n",
       "      <th>f1-score</th>\n",
       "      <th>support</th>\n",
       "    </tr>\n",
       "  </thead>\n",
       "  <tbody>\n",
       "    <tr>\n",
       "      <th>Etat</th>\n",
       "      <td>0.666667</td>\n",
       "      <td>0.279070</td>\n",
       "      <td>0.393443</td>\n",
       "      <td>430.000000</td>\n",
       "    </tr>\n",
       "    <tr>\n",
       "      <th>Inland</th>\n",
       "      <td>0.671533</td>\n",
       "      <td>0.438095</td>\n",
       "      <td>0.530259</td>\n",
       "      <td>420.000000</td>\n",
       "    </tr>\n",
       "    <tr>\n",
       "      <th>International</th>\n",
       "      <td>0.708333</td>\n",
       "      <td>0.809524</td>\n",
       "      <td>0.755556</td>\n",
       "      <td>357.000000</td>\n",
       "    </tr>\n",
       "    <tr>\n",
       "      <th>Kultur</th>\n",
       "      <td>0.000000</td>\n",
       "      <td>0.000000</td>\n",
       "      <td>0.000000</td>\n",
       "      <td>0.000000</td>\n",
       "    </tr>\n",
       "    <tr>\n",
       "      <th>Panorama</th>\n",
       "      <td>0.724062</td>\n",
       "      <td>0.631985</td>\n",
       "      <td>0.674897</td>\n",
       "      <td>519.000000</td>\n",
       "    </tr>\n",
       "    <tr>\n",
       "      <th>Sport</th>\n",
       "      <td>0.882716</td>\n",
       "      <td>0.993056</td>\n",
       "      <td>0.934641</td>\n",
       "      <td>288.000000</td>\n",
       "    </tr>\n",
       "    <tr>\n",
       "      <th>Web</th>\n",
       "      <td>0.810155</td>\n",
       "      <td>0.851508</td>\n",
       "      <td>0.830317</td>\n",
       "      <td>431.000000</td>\n",
       "    </tr>\n",
       "    <tr>\n",
       "      <th>Wirtschaft</th>\n",
       "      <td>0.509186</td>\n",
       "      <td>0.593272</td>\n",
       "      <td>0.548023</td>\n",
       "      <td>327.000000</td>\n",
       "    </tr>\n",
       "    <tr>\n",
       "      <th>Wissenschaft</th>\n",
       "      <td>0.012903</td>\n",
       "      <td>1.000000</td>\n",
       "      <td>0.025478</td>\n",
       "      <td>2.000000</td>\n",
       "    </tr>\n",
       "    <tr>\n",
       "      <th>accuracy</th>\n",
       "      <td>0.638068</td>\n",
       "      <td>0.638068</td>\n",
       "      <td>0.638068</td>\n",
       "      <td>0.638068</td>\n",
       "    </tr>\n",
       "    <tr>\n",
       "      <th>macro avg</th>\n",
       "      <td>0.553951</td>\n",
       "      <td>0.621834</td>\n",
       "      <td>0.521401</td>\n",
       "      <td>2774.000000</td>\n",
       "    </tr>\n",
       "    <tr>\n",
       "      <th>weighted avg</th>\n",
       "      <td>0.709193</td>\n",
       "      <td>0.638068</td>\n",
       "      <td>0.655440</td>\n",
       "      <td>2774.000000</td>\n",
       "    </tr>\n",
       "  </tbody>\n",
       "</table>\n",
       "</div>"
      ],
      "text/plain": [
       "               precision    recall  f1-score      support\n",
       "Etat            0.666667  0.279070  0.393443   430.000000\n",
       "Inland          0.671533  0.438095  0.530259   420.000000\n",
       "International   0.708333  0.809524  0.755556   357.000000\n",
       "Kultur          0.000000  0.000000  0.000000     0.000000\n",
       "Panorama        0.724062  0.631985  0.674897   519.000000\n",
       "Sport           0.882716  0.993056  0.934641   288.000000\n",
       "Web             0.810155  0.851508  0.830317   431.000000\n",
       "Wirtschaft      0.509186  0.593272  0.548023   327.000000\n",
       "Wissenschaft    0.012903  1.000000  0.025478     2.000000\n",
       "accuracy        0.638068  0.638068  0.638068     0.638068\n",
       "macro avg       0.553951  0.621834  0.521401  2774.000000\n",
       "weighted avg    0.709193  0.638068  0.655440  2774.000000"
      ]
     },
     "execution_count": 14,
     "metadata": {
      "tags": []
     },
     "output_type": "execute_result"
    }
   ],
   "source": [
    "# classifier pipeline mit Support Vektor Machine als Classifier definieren\n",
    "lsvc_classifier = Pipeline([\n",
    "  ('vect', CountVectorizer()),\n",
    "  ('tfidf', TfidfTransformer(sublinear_tf=True)),                   \n",
    "  ('clf', LinearSVC(dual=False, C=1.6, class_weight=\"balanced\")),\n",
    "])\n",
    "\n",
    "# classifier mit vorgeschalteter Pipeline trainieren:\n",
    "lsvc_classifier.fit(X_train, y_train_propagated)  \n",
    "\n",
    "# trainierten classifier auf die Testdaten anwenden, um den Accuracy Score zu ermitteln:\n",
    "predicted = lsvc_classifier.predict(X_test)  \n",
    "\n",
    "score_report = classification_report(predicted, y_test, target_names=le.classes_.tolist(), output_dict=True)\n",
    "scores_SVC_AllProp50Labels = pd.DataFrame(score_report).transpose()\n",
    "scores_SVC_AllProp50Labels\n"
   ]
  },
  {
   "cell_type": "code",
   "execution_count": null,
   "metadata": {
    "colab": {},
    "colab_type": "code",
    "id": "f5ilbRjEW5Da"
   },
   "outputs": [],
   "source": []
  },
  {
   "cell_type": "markdown",
   "metadata": {
    "colab_type": "text",
    "id": "4R69VFw0gW8E"
   },
   "source": [
    "# Active Labeling  mit 20% der zentralsten Datenpunkte\n",
    "Basis: Nur die 20% nähestgelegenen Datenpunkte zum Centroid werden mit dem Label des nähesgelegenen Datenpunktes gelabelt"
   ]
  },
  {
   "cell_type": "code",
   "execution_count": null,
   "metadata": {
    "colab": {
     "base_uri": "https://localhost:8080/",
     "height": 34
    },
    "colab_type": "code",
    "id": "mggab0iLgWZr",
    "outputId": "4ccedfe8-f86f-4d8c-a67f-c23b1eeb1c60"
   },
   "outputs": [
    {
     "data": {
      "text/plain": [
       "((1334,), (1334,))"
      ]
     },
     "execution_count": 15,
     "metadata": {
      "tags": []
     },
     "output_type": "execute_result"
    }
   ],
   "source": [
    "percentile_closest = 20\n",
    "\n",
    "X_cluster_dist = X_digits_dist[np.arange(len(X_train)), km[\"kmeans\"].labels_]\n",
    "for i in range(k):\n",
    "    in_cluster = (km[\"kmeans\"].labels_ == i)\n",
    "    cluster_dist = X_cluster_dist[in_cluster]\n",
    "    cutoff_distance = np.percentile(cluster_dist, percentile_closest)\n",
    "    above_cutoff = (X_cluster_dist > cutoff_distance)\n",
    "    X_cluster_dist[in_cluster & above_cutoff] = -1\n",
    "\n",
    "partially_propagated = (X_cluster_dist != -1)\n",
    "X_train_partially_propagated = X_train[partially_propagated]\n",
    "y_train_partially_propagated = y_train_propagated[partially_propagated]\n",
    "X_train_partially_propagated.shape, y_train_partially_propagated.shape"
   ]
  },
  {
   "cell_type": "code",
   "execution_count": null,
   "metadata": {
    "colab": {
     "base_uri": "https://localhost:8080/",
     "height": 455
    },
    "colab_type": "code",
    "id": "bPyqyqvOgWT_",
    "outputId": "a0143456-5d7f-4ddd-b9e0-fc8e6b5f73a3"
   },
   "outputs": [
    {
     "name": "stderr",
     "output_type": "stream",
     "text": [
      "/usr/local/lib/python3.6/dist-packages/sklearn/metrics/_classification.py:1272: UndefinedMetricWarning: Recall and F-score are ill-defined and being set to 0.0 in labels with no true samples. Use `zero_division` parameter to control this behavior.\n",
      "  _warn_prf(average, modifier, msg_start, len(result))\n"
     ]
    },
    {
     "data": {
      "text/html": [
       "<div>\n",
       "<style scoped>\n",
       "    .dataframe tbody tr th:only-of-type {\n",
       "        vertical-align: middle;\n",
       "    }\n",
       "\n",
       "    .dataframe tbody tr th {\n",
       "        vertical-align: top;\n",
       "    }\n",
       "\n",
       "    .dataframe thead th {\n",
       "        text-align: right;\n",
       "    }\n",
       "</style>\n",
       "<table border=\"1\" class=\"dataframe\">\n",
       "  <thead>\n",
       "    <tr style=\"text-align: right;\">\n",
       "      <th></th>\n",
       "      <th>precision</th>\n",
       "      <th>recall</th>\n",
       "      <th>f1-score</th>\n",
       "      <th>support</th>\n",
       "    </tr>\n",
       "  </thead>\n",
       "  <tbody>\n",
       "    <tr>\n",
       "      <th>Etat</th>\n",
       "      <td>0.750000</td>\n",
       "      <td>0.210280</td>\n",
       "      <td>0.328467</td>\n",
       "      <td>642.000000</td>\n",
       "    </tr>\n",
       "    <tr>\n",
       "      <th>Inland</th>\n",
       "      <td>0.631387</td>\n",
       "      <td>0.570957</td>\n",
       "      <td>0.599653</td>\n",
       "      <td>303.000000</td>\n",
       "    </tr>\n",
       "    <tr>\n",
       "      <th>International</th>\n",
       "      <td>0.664216</td>\n",
       "      <td>0.831288</td>\n",
       "      <td>0.738420</td>\n",
       "      <td>326.000000</td>\n",
       "    </tr>\n",
       "    <tr>\n",
       "      <th>Kultur</th>\n",
       "      <td>0.000000</td>\n",
       "      <td>0.000000</td>\n",
       "      <td>0.000000</td>\n",
       "      <td>0.000000</td>\n",
       "    </tr>\n",
       "    <tr>\n",
       "      <th>Panorama</th>\n",
       "      <td>0.728477</td>\n",
       "      <td>0.676230</td>\n",
       "      <td>0.701382</td>\n",
       "      <td>488.000000</td>\n",
       "    </tr>\n",
       "    <tr>\n",
       "      <th>Sport</th>\n",
       "      <td>0.836420</td>\n",
       "      <td>0.992674</td>\n",
       "      <td>0.907873</td>\n",
       "      <td>273.000000</td>\n",
       "    </tr>\n",
       "    <tr>\n",
       "      <th>Web</th>\n",
       "      <td>0.772627</td>\n",
       "      <td>0.862069</td>\n",
       "      <td>0.814901</td>\n",
       "      <td>406.000000</td>\n",
       "    </tr>\n",
       "    <tr>\n",
       "      <th>Wirtschaft</th>\n",
       "      <td>0.566929</td>\n",
       "      <td>0.644776</td>\n",
       "      <td>0.603352</td>\n",
       "      <td>335.000000</td>\n",
       "    </tr>\n",
       "    <tr>\n",
       "      <th>Wissenschaft</th>\n",
       "      <td>0.006452</td>\n",
       "      <td>1.000000</td>\n",
       "      <td>0.012821</td>\n",
       "      <td>1.000000</td>\n",
       "    </tr>\n",
       "    <tr>\n",
       "      <th>accuracy</th>\n",
       "      <td>0.629776</td>\n",
       "      <td>0.629776</td>\n",
       "      <td>0.629776</td>\n",
       "      <td>0.629776</td>\n",
       "    </tr>\n",
       "    <tr>\n",
       "      <th>macro avg</th>\n",
       "      <td>0.550723</td>\n",
       "      <td>0.643142</td>\n",
       "      <td>0.522985</td>\n",
       "      <td>2774.000000</td>\n",
       "    </tr>\n",
       "    <tr>\n",
       "      <th>weighted avg</th>\n",
       "      <td>0.712616</td>\n",
       "      <td>0.629776</td>\n",
       "      <td>0.633167</td>\n",
       "      <td>2774.000000</td>\n",
       "    </tr>\n",
       "  </tbody>\n",
       "</table>\n",
       "</div>"
      ],
      "text/plain": [
       "               precision    recall  f1-score      support\n",
       "Etat            0.750000  0.210280  0.328467   642.000000\n",
       "Inland          0.631387  0.570957  0.599653   303.000000\n",
       "International   0.664216  0.831288  0.738420   326.000000\n",
       "Kultur          0.000000  0.000000  0.000000     0.000000\n",
       "Panorama        0.728477  0.676230  0.701382   488.000000\n",
       "Sport           0.836420  0.992674  0.907873   273.000000\n",
       "Web             0.772627  0.862069  0.814901   406.000000\n",
       "Wirtschaft      0.566929  0.644776  0.603352   335.000000\n",
       "Wissenschaft    0.006452  1.000000  0.012821     1.000000\n",
       "accuracy        0.629776  0.629776  0.629776     0.629776\n",
       "macro avg       0.550723  0.643142  0.522985  2774.000000\n",
       "weighted avg    0.712616  0.629776  0.633167  2774.000000"
      ]
     },
     "execution_count": 16,
     "metadata": {
      "tags": []
     },
     "output_type": "execute_result"
    }
   ],
   "source": [
    "# classifier pipeline mit Support Vektor Machine als Classifier definieren\n",
    "lsvc_classifier = Pipeline([\n",
    "  ('vect', CountVectorizer()),\n",
    "  ('tfidf', TfidfTransformer(sublinear_tf=True)),                   \n",
    "  ('clf', LinearSVC(dual=False, C=1.6, class_weight=\"balanced\")),\n",
    "])\n",
    "\n",
    "# classifier mit vorgeschalteter Pipeline trainieren:\n",
    "lsvc_classifier.fit(X_train_partially_propagated, y_train_partially_propagated)  \n",
    "\n",
    "# trainierten classifier auf die Testdaten anwenden, um den Accuracy Score zu ermitteln:\n",
    "predicted = lsvc_classifier.predict(X_test)  \n",
    "\n",
    "score_report = classification_report(predicted, y_test, target_names=le.classes_.tolist(), output_dict=True)\n",
    "scores_SVC_AllProp50Labels = pd.DataFrame(score_report).transpose()\n",
    "scores_SVC_AllProp50Labels\n"
   ]
  },
  {
   "cell_type": "markdown",
   "metadata": {
    "colab_type": "text",
    "id": "MYh3YQaPPt9c"
   },
   "source": [
    "# Active Label mit Voting Propagated Labels \n",
    "Basis 50 k-Means Cluster"
   ]
  },
  {
   "cell_type": "code",
   "execution_count": null,
   "metadata": {
    "colab": {},
    "colab_type": "code",
    "id": "YN2YG7iWaDP0"
   },
   "outputs": [],
   "source": []
  },
  {
   "cell_type": "code",
   "execution_count": null,
   "metadata": {
    "colab": {
     "base_uri": "https://localhost:8080/",
     "height": 170
    },
    "colab_type": "code",
    "id": "TyF9HdLnaDDs",
    "outputId": "7fd076ed-aa4f-44ea-de46-4b6f387dc41f"
   },
   "outputs": [
    {
     "data": {
      "text/plain": [
       "999    4085\n",
       "6       603\n",
       "7       513\n",
       "4       488\n",
       "5       338\n",
       "1       221\n",
       "2       180\n",
       "0        43\n",
       "dtype: int64"
      ]
     },
     "execution_count": 28,
     "metadata": {
      "tags": []
     },
     "output_type": "execute_result"
    }
   ],
   "source": [
    "i = 0\n",
    "in_cluster = (km[\"kmeans\"].labels_ == i)\n",
    "y_in_cluster = y_train.iloc[in_cluster]\n",
    "# y_in_cluster\n",
    "zaehler = y_in_cluster.count()\n",
    "zaehlerGesamt += zaehler\n",
    "modus = y_in_cluster.mode().values\n",
    "anzLab = y_in_cluster.nunique()\n",
    "purity = (1-(1/(zaehler/anzLab)))*100\n",
    "clusterLabelTab.loc[i,:] = [i, zaehler, modus, anzLab,]\n",
    "y_train_propVote[in_cluster] = modus\n",
    "\n",
    "clusterLabelTab = clusterLabelTab.astype(int, copy=False)\n",
    "clusterLabelTab.T\n",
    "\n",
    "pd.Series(y_train_propVote).value_counts()"
   ]
  },
  {
   "cell_type": "code",
   "execution_count": null,
   "metadata": {
    "colab": {
     "base_uri": "https://localhost:8080/",
     "height": 231
    },
    "colab_type": "code",
    "id": "Nv7HDI69EMYX",
    "outputId": "2476e05c-e188-4f41-8162-3ed240680461"
   },
   "outputs": [
    {
     "ename": "ValueError",
     "evalue": "ignored",
     "output_type": "error",
     "traceback": [
      "\u001b[0;31m---------------------------------------------------------------------------\u001b[0m",
      "\u001b[0;31mValueError\u001b[0m                                Traceback (most recent call last)",
      "\u001b[0;32m<ipython-input-25-23392b87befd>\u001b[0m in \u001b[0;36m<module>\u001b[0;34m()\u001b[0m\n\u001b[1;32m     13\u001b[0m     \u001b[0mpurity\u001b[0m \u001b[0;34m=\u001b[0m \u001b[0;34m(\u001b[0m\u001b[0;36m1\u001b[0m\u001b[0;34m-\u001b[0m\u001b[0;34m(\u001b[0m\u001b[0;36m1\u001b[0m\u001b[0;34m/\u001b[0m\u001b[0;34m(\u001b[0m\u001b[0mzaehler\u001b[0m\u001b[0;34m/\u001b[0m\u001b[0manzLab\u001b[0m\u001b[0;34m)\u001b[0m\u001b[0;34m)\u001b[0m\u001b[0;34m)\u001b[0m\u001b[0;34m*\u001b[0m\u001b[0;36m100\u001b[0m\u001b[0;34m\u001b[0m\u001b[0;34m\u001b[0m\u001b[0m\n\u001b[1;32m     14\u001b[0m     \u001b[0;31m# clusterLabelTab.loc[i,:] = [i, zaehler, modus, anzLab,]\u001b[0m\u001b[0;34m\u001b[0m\u001b[0;34m\u001b[0m\u001b[0;34m\u001b[0m\u001b[0m\n\u001b[0;32m---> 15\u001b[0;31m     \u001b[0my_train_propVote\u001b[0m\u001b[0;34m[\u001b[0m\u001b[0min_cluster\u001b[0m\u001b[0;34m]\u001b[0m \u001b[0;34m=\u001b[0m \u001b[0mmodus\u001b[0m\u001b[0;34m\u001b[0m\u001b[0;34m\u001b[0m\u001b[0m\n\u001b[0m\u001b[1;32m     16\u001b[0m \u001b[0;34m\u001b[0m\u001b[0m\n\u001b[1;32m     17\u001b[0m \u001b[0mclusterLabelTab\u001b[0m \u001b[0;34m=\u001b[0m \u001b[0mclusterLabelTab\u001b[0m\u001b[0;34m.\u001b[0m\u001b[0mastype\u001b[0m\u001b[0;34m(\u001b[0m\u001b[0mint\u001b[0m\u001b[0;34m,\u001b[0m \u001b[0mcopy\u001b[0m\u001b[0;34m=\u001b[0m\u001b[0;32mFalse\u001b[0m\u001b[0;34m)\u001b[0m\u001b[0;34m\u001b[0m\u001b[0;34m\u001b[0m\u001b[0m\n",
      "\u001b[0;31mValueError\u001b[0m: NumPy boolean array indexing assignment cannot assign 2 input values to the 80 output values where the mask is true"
     ]
    }
   ],
   "source": [
    "# Majority Label Voting\n",
    "\n",
    "y_train_propVote = np.full(  len(X_train), 999, dtype=np.int32)\n",
    "zaehlerGesamt = 0\n",
    "clusterLabelTab = pd.DataFrame({\"cid\":[], \"anzahl\":[], \"modus\":[], \"anzLab\":[]}) #  \"purity\":[]\n",
    "for i in range(k):\n",
    "    in_cluster = (km[\"kmeans\"].labels_ == i)\n",
    "    y_in_cluster = y_train.iloc[in_cluster]\n",
    "    # y_in_cluster\n",
    "    zaehler = y_in_cluster.count()\n",
    "    zaehlerGesamt += zaehler\n",
    "    modus = y_in_cluster.mode().values\n",
    "    anzLab = y_in_cluster.nunique()\n",
    "    purity = (1-(1/(zaehler/anzLab)))*100\n",
    "    # clusterLabelTab.loc[i,:] = [i, zaehler, modus, anzLab,]\n",
    "    y_train_propVote[in_cluster] = modus\n",
    "\n",
    "clusterLabelTab = clusterLabelTab.astype(int, copy=False)\n",
    "# clusterLabelTab.T\n",
    "\n",
    "y_train_propVote.value_counts()"
   ]
  },
  {
   "cell_type": "code",
   "execution_count": null,
   "metadata": {
    "colab": {},
    "colab_type": "code",
    "id": "J6ObAC_MQiAv"
   },
   "outputs": [],
   "source": [
    "clusterLabelTab.T"
   ]
  },
  {
   "cell_type": "code",
   "execution_count": null,
   "metadata": {
    "colab": {},
    "colab_type": "code",
    "id": "9zf2fEYpW4_V"
   },
   "outputs": [],
   "source": [
    "# classifier pipeline mit Support Vektor Machine als Classifier definieren\n",
    "lsvc_classifier = Pipeline([\n",
    "  ('vect', CountVectorizer()),\n",
    "  ('tfidf', TfidfTransformer(sublinear_tf=True)),                   \n",
    "  ('clf', LinearSVC(dual=False, C=1.6, class_weight=\"balanced\")),\n",
    "])\n",
    "\n",
    "# classifier mit vorgeschalteter Pipeline trainieren:\n",
    "lsvc_classifier.fit(X_train, y_train_propVote)  \n",
    "\n",
    "# trainierten classifier auf die Testdaten anwenden, um den Accuracy Score zu ermitteln:\n",
    "predicted = lsvc_classifier.predict(X_test)  \n",
    "\n",
    "score_report = classification_report(predicted, y_test, target_names=le.classes_.tolist(), output_dict=True)\n",
    "scores_SVC_PropVotedLabels = pd.DataFrame(score_report).transpose()\n",
    "scores_SVC_PropVotedLabels\n"
   ]
  },
  {
   "cell_type": "code",
   "execution_count": null,
   "metadata": {
    "colab": {},
    "colab_type": "code",
    "id": "V8H4b4CQQSm-"
   },
   "outputs": [],
   "source": []
  }
 ],
 "metadata": {
  "accelerator": "GPU",
  "colab": {
   "collapsed_sections": [
    "7Ua6eEsy3zg0",
    "TJuVjSYa48Hc"
   ],
   "name": "10k GND Active Labeling Test-01",
   "provenance": []
  },
  "kernelspec": {
   "display_name": "Python 3",
   "language": "python",
   "name": "python3"
  },
  "language_info": {
   "codemirror_mode": {
    "name": "ipython",
    "version": 3
   },
   "file_extension": ".py",
   "mimetype": "text/x-python",
   "name": "python",
   "nbconvert_exporter": "python",
   "pygments_lexer": "ipython3",
   "version": "3.7.6"
  }
 },
 "nbformat": 4,
 "nbformat_minor": 4
}
