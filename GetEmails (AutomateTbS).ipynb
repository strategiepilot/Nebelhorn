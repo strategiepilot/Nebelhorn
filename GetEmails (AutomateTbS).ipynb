{
 "cells": [
  {
   "cell_type": "markdown",
   "metadata": {},
   "source": [
    "# Automate the Boring Stuff - EMAILS!\n",
    "\n",
    "[PyzMail Package Doku](http://magiksys.net/pyzmail/)  \n",
    "[ImapClient Package Doku](https://imapclient.readthedocs.org)  \n",
    "[Automate the Boring Stuff](https://automatetheboringstuff.com/chapter16)  "
   ]
  },
  {
   "cell_type": "code",
   "execution_count": null,
   "metadata": {},
   "outputs": [],
   "source": [
    "!pip install imapclient\n",
    "# !pip install pyzmail # funktioniert nicht!!!\n",
    "!pip install pyzmail36 "
   ]
  },
  {
   "cell_type": "markdown",
   "metadata": {},
   "source": [
    "### Imports"
   ]
  },
  {
   "cell_type": "code",
   "execution_count": 1,
   "metadata": {},
   "outputs": [],
   "source": [
    "import pandas as pd\n",
    "import imapclient\n",
    "import pyzmail"
   ]
  },
  {
   "cell_type": "code",
   "execution_count": 2,
   "metadata": {},
   "outputs": [
    {
     "name": "stdin",
     "output_type": "stream",
     "text": [
      "Emailadresse: barth.andreas@web.de\n",
      "Passwort: sauron\n"
     ]
    },
    {
     "data": {
      "text/plain": [
       "b'LOGIN completed'"
      ]
     },
     "execution_count": 2,
     "metadata": {},
     "output_type": "execute_result"
    }
   ],
   "source": [
    "HOST = 'imap.web.de'\n",
    "ADRESS = input(\"Emailadresse:\")\n",
    "PW = input(\"Passwort:\")\n",
    "\n",
    "conn = imapclient.IMAPClient(HOST, ssl=True)\n",
    "conn.login(ADRESS, PW)"
   ]
  },
  {
   "cell_type": "code",
   "execution_count": 3,
   "metadata": {},
   "outputs": [
    {
     "data": {
      "text/plain": [
       "{b'PERMANENTFLAGS': (b'\\\\Answered',\n",
       "  b'\\\\Flagged',\n",
       "  b'\\\\Draft',\n",
       "  b'\\\\Deleted',\n",
       "  b'\\\\Seen',\n",
       "  b'NonJunk',\n",
       "  b'\\\\*'),\n",
       " b'EXISTS': 13,\n",
       " b'RECENT': 0,\n",
       " b'FLAGS': (b'\\\\Answered',\n",
       "  b'\\\\Flagged',\n",
       "  b'\\\\Deleted',\n",
       "  b'\\\\Seen',\n",
       "  b'\\\\Draft',\n",
       "  b'NonJunk'),\n",
       " b'UIDNEXT': 14,\n",
       " b'UIDVALIDITY': 1591783832,\n",
       " b'READ-ONLY': [b'']}"
      ]
     },
     "execution_count": 3,
     "metadata": {},
     "output_type": "execute_result"
    }
   ],
   "source": [
    "folder = 'Mailtest' # 'INBOX'\n",
    "\n",
    "conn.select_folder(folder, readonly=True)"
   ]
  },
  {
   "cell_type": "markdown",
   "metadata": {},
   "source": [
    "[Enum IMAPClient.SEARCH_CRITERIA](https://commons.apache.org/proper/commons-net/javadocs/api-3.6/org/apache/commons/net/imap/IMAPClient.SEARCH_CRITERIA.html)\n",
    "\n",
    "[IMAP Search Strings](http://www.marshallsoft.com/ImapSearch.htm)"
   ]
  },
  {
   "cell_type": "code",
   "execution_count": 4,
   "metadata": {},
   "outputs": [
    {
     "data": {
      "text/plain": [
       "[1, 2, 3, 4, 5, 6, 7, 8, 9, 10, 11, 12, 13]"
      ]
     },
     "execution_count": 4,
     "metadata": {},
     "output_type": "execute_result"
    }
   ],
   "source": [
    "UIDS = conn.search(['ALL'])\n",
    "# UIDS = conn.search(['BEFORE-05-06-2020'])\n",
    "\n",
    "UIDS"
   ]
  },
  {
   "cell_type": "code",
   "execution_count": 5,
   "metadata": {
    "collapsed": true,
    "jupyter": {
     "outputs_hidden": true
    }
   },
   "outputs": [
    {
     "data": {
      "text/plain": [
       "['PyzMessage',\n",
       " 'PzMessage',\n",
       " '__all__',\n",
       " '__builtins__',\n",
       " '__cached__',\n",
       " '__doc__',\n",
       " '__file__',\n",
       " '__loader__',\n",
       " '__name__',\n",
       " '__package__',\n",
       " '__path__',\n",
       " '__spec__',\n",
       " '__version__',\n",
       " 'compose_mail',\n",
       " 'decode_text',\n",
       " 'email_address_re',\n",
       " 'generate',\n",
       " 'message_from_binary_file',\n",
       " 'message_from_bytes',\n",
       " 'message_from_file',\n",
       " 'message_from_string',\n",
       " 'parse',\n",
       " 'send_mail',\n",
       " 'send_mail2',\n",
       " 'utils',\n",
       " 'version']"
      ]
     },
     "execution_count": 5,
     "metadata": {},
     "output_type": "execute_result"
    }
   ],
   "source": [
    "dir(pyzmail)"
   ]
  },
  {
   "cell_type": "code",
   "execution_count": 6,
   "metadata": {},
   "outputs": [
    {
     "ename": "AttributeError",
     "evalue": "'NoneType' object has no attribute 'get_payload'",
     "output_type": "error",
     "traceback": [
      "\u001b[1;31m---------------------------------------------------------------------------\u001b[0m",
      "\u001b[1;31mAttributeError\u001b[0m                            Traceback (most recent call last)",
      "\u001b[1;32m<ipython-input-6-a7cef93accf5>\u001b[0m in \u001b[0;36m<module>\u001b[1;34m\u001b[0m\n\u001b[0;32m     13\u001b[0m \u001b[1;33m\u001b[0m\u001b[0m\n\u001b[0;32m     14\u001b[0m     \u001b[1;31m# Email Textbody auslesen\u001b[0m\u001b[1;33m\u001b[0m\u001b[1;33m\u001b[0m\u001b[1;33m\u001b[0m\u001b[0m\n\u001b[1;32m---> 15\u001b[1;33m     \u001b[0mmessageBody\u001b[0m \u001b[1;33m=\u001b[0m \u001b[0mmessage\u001b[0m\u001b[1;33m.\u001b[0m\u001b[0mtext_part\u001b[0m\u001b[1;33m.\u001b[0m\u001b[0mget_payload\u001b[0m\u001b[1;33m(\u001b[0m\u001b[1;33m)\u001b[0m\u001b[1;33m.\u001b[0m\u001b[0mdecode\u001b[0m\u001b[1;33m(\u001b[0m\u001b[1;34m'UTF-8'\u001b[0m\u001b[1;33m)\u001b[0m\u001b[1;33m\u001b[0m\u001b[1;33m\u001b[0m\u001b[0m\n\u001b[0m\u001b[0;32m     16\u001b[0m     \u001b[0mmessageBodyClean\u001b[0m \u001b[1;33m=\u001b[0m \u001b[0mmessageBody\u001b[0m\u001b[1;33m.\u001b[0m\u001b[0mreplace\u001b[0m\u001b[1;33m(\u001b[0m\u001b[1;34m\"\\r\\n\"\u001b[0m\u001b[1;33m,\u001b[0m \u001b[1;34m\" <NL> \"\u001b[0m\u001b[1;33m)\u001b[0m\u001b[1;33m\u001b[0m\u001b[1;33m\u001b[0m\u001b[0m\n\u001b[0;32m     17\u001b[0m \u001b[1;33m\u001b[0m\u001b[0m\n",
      "\u001b[1;31mAttributeError\u001b[0m: 'NoneType' object has no attribute 'get_payload'"
     ]
    }
   ],
   "source": [
    "emailsDF = pd.DataFrame(columns=[\"FROM\", \"TO\", \"CC\", \"BCC\", \"SUB\", \"TXT\"])\n",
    "for messageKey in UIDS:\n",
    "    # Get Message\n",
    "    rawMessage = conn.fetch(messageKey, ['BODY[]', 'FLAGS'] )\n",
    "    message = pyzmail.PyzMessage.factory(rawMessage[messageKey] [b'BODY[]'])\n",
    "    \n",
    "    # From / To / CC / BCC / Subject auslesen\n",
    "    sentFROM = message.get_addresses('from')\n",
    "    sentTO = message.get_addresses('to')\n",
    "    sentCC = message.get_addresses('cc')\n",
    "    sentBCC = message.get_addresses('bcc')\n",
    "    SUBJECT = message.get_subject()\n",
    "    \n",
    "    # Email Textbody auslesen\n",
    "    messageBody = message.text_part.get_payload().decode('UTF-8')\n",
    "    messageBodyClean = messageBody.replace(\"\\r\\n\", \" <NL> \")\n",
    "    \n",
    "    emailsDF.loc[messageKey,:] = [sentFROM, sentTO, sentCC, sentBCC, SUBJECT, messageBodyClean]\n",
    "   "
   ]
  },
  {
   "cell_type": "code",
   "execution_count": null,
   "metadata": {},
   "outputs": [],
   "source": []
  },
  {
   "cell_type": "code",
   "execution_count": 22,
   "metadata": {},
   "outputs": [
    {
     "data": {
      "text/html": [
       "<div>\n",
       "<style scoped>\n",
       "    .dataframe tbody tr th:only-of-type {\n",
       "        vertical-align: middle;\n",
       "    }\n",
       "\n",
       "    .dataframe tbody tr th {\n",
       "        vertical-align: top;\n",
       "    }\n",
       "\n",
       "    .dataframe thead th {\n",
       "        text-align: right;\n",
       "    }\n",
       "</style>\n",
       "<table border=\"1\" class=\"dataframe\">\n",
       "  <thead>\n",
       "    <tr style=\"text-align: right;\">\n",
       "      <th></th>\n",
       "      <th>FROM</th>\n",
       "      <th>TO</th>\n",
       "      <th>CC</th>\n",
       "      <th>BCC</th>\n",
       "      <th>SUB</th>\n",
       "      <th>TXT</th>\n",
       "    </tr>\n",
       "  </thead>\n",
       "  <tbody>\n",
       "    <tr>\n",
       "      <th>155</th>\n",
       "      <td>[(Aboalarm GmbH, receipts+k6Blo61skcL6x0thb2Cy...</td>\n",
       "      <td>[(barth.andreas@web.de, barth.andreas@web.de)]</td>\n",
       "      <td>[]</td>\n",
       "      <td>[]</td>\n",
       "      <td>Your Aboalarm GmbH receipt [#1912-5086]</td>\n",
       "      <td>&lt;NL&gt;  &lt;NL&gt;  &lt;NL&gt; Thanks for your €1.49 paymen...</td>\n",
       "    </tr>\n",
       "    <tr>\n",
       "      <th>159</th>\n",
       "      <td>[(Central Krankenversicherung, info@central.de)]</td>\n",
       "      <td>[(barth.andreas@web.de, barth.andreas@web.de)]</td>\n",
       "      <td>[]</td>\n",
       "      <td>[]</td>\n",
       "      <td>Ihr Dialog mit der Central</td>\n",
       "      <td>Sehr geehrte Damen und Herren, &lt;NL&gt;  &lt;NL&gt; Ihr ...</td>\n",
       "    </tr>\n",
       "    <tr>\n",
       "      <th>167</th>\n",
       "      <td>[(www.peterkleine.com, mail@peterkleine.com)]</td>\n",
       "      <td>[(Andreas Barth, barth.andreas@web.de)]</td>\n",
       "      <td>[]</td>\n",
       "      <td>[]</td>\n",
       "      <td>Mail vom 13.12.2015</td>\n",
       "      <td>&lt;NL&gt; Moin Andreas! &lt;NL&gt; Ich hoffe, es geht Di...</td>\n",
       "    </tr>\n",
       "    <tr>\n",
       "      <th>172</th>\n",
       "      <td>[(Andreas Barth, barth.andreas@web.de)]</td>\n",
       "      <td>[(customer-service@oanda.co.uk, customer-servi...</td>\n",
       "      <td>[]</td>\n",
       "      <td>[]</td>\n",
       "      <td>Change of Adress - Primary 538070</td>\n",
       "      <td>Dear Sirs and Madams,  &lt;NL&gt;  &lt;NL&gt;   &lt;NL&gt;  &lt;NL&gt;...</td>\n",
       "    </tr>\n",
       "  </tbody>\n",
       "</table>\n",
       "</div>"
      ],
      "text/plain": [
       "                                                  FROM  \\\n",
       "155  [(Aboalarm GmbH, receipts+k6Blo61skcL6x0thb2Cy...   \n",
       "159   [(Central Krankenversicherung, info@central.de)]   \n",
       "167      [(www.peterkleine.com, mail@peterkleine.com)]   \n",
       "172            [(Andreas Barth, barth.andreas@web.de)]   \n",
       "\n",
       "                                                    TO  CC BCC  \\\n",
       "155     [(barth.andreas@web.de, barth.andreas@web.de)]  []  []   \n",
       "159     [(barth.andreas@web.de, barth.andreas@web.de)]  []  []   \n",
       "167            [(Andreas Barth, barth.andreas@web.de)]  []  []   \n",
       "172  [(customer-service@oanda.co.uk, customer-servi...  []  []   \n",
       "\n",
       "                                         SUB  \\\n",
       "155  Your Aboalarm GmbH receipt [#1912-5086]   \n",
       "159               Ihr Dialog mit der Central   \n",
       "167                      Mail vom 13.12.2015   \n",
       "172        Change of Adress - Primary 538070   \n",
       "\n",
       "                                                   TXT  \n",
       "155   <NL>  <NL>  <NL> Thanks for your €1.49 paymen...  \n",
       "159  Sehr geehrte Damen und Herren, <NL>  <NL> Ihr ...  \n",
       "167   <NL> Moin Andreas! <NL> Ich hoffe, es geht Di...  \n",
       "172  Dear Sirs and Madams,  <NL>  <NL>   <NL>  <NL>...  "
      ]
     },
     "execution_count": 22,
     "metadata": {},
     "output_type": "execute_result"
    }
   ],
   "source": [
    "emailsDF"
   ]
  },
  {
   "cell_type": "code",
   "execution_count": 24,
   "metadata": {},
   "outputs": [
    {
     "data": {
      "text/plain": [
       "' <NL> Moin Andreas! <NL> Ich hoffe, es geht Dir gut und die OP ist gut verlaufen? <NL> Wie versprochen sende ich Dir mal ein paar Infos über unser kleines  <NL> Start-up! <NL>  <NL> Wäre gut, wenn das nicht jeder lesen würde, okay? <NL>  <NL> Wir schnacken! <NL>  <NL> LG, <NL> P. <NL>  <NL>  <NL> Keyfacts: <NL> pellybay gmbh <NL> An der Alster 18 <NL> 20099 Hamburg <NL> Gründung 8.1.2013 aus der GmbH \"Boutique de Films\" <NL> Neueröffnung am 15.5.2013 <NL> Angestellte: <NL> Philip, Head of Production <NL> Marie, PA <NL> Lars, PA <NL> Gesellschafter: Seydlitz und Kleine zu je 50%. <NL> GF: Seydlitz (nicht aktiv), Bothe (nicht aktiv), Kleine (richtig aktiv) <NL>  <NL>  <NL> Warum gibt es pellybay? <NL> 1. Bewegtbild für Unternehmen wird es immer geben <NL> 2. Unternehmen benötigen in immer kürzeren Abständen gutes Bewegtbild <NL> 3. Bewegtbild, Umsetzung und Endfertigung liegen immer mehr in einer Hand,  <NL> da Technik und Software günstig sind. <NL> Jeder kann technisch zwar alles machen aber das Beste unterscheidet sich vom  <NL> Guten immer noch an der Idee und seiner Umsetzung! <NL> 4. Unternehmen geben aber immer weniger Geld für Ideen zu Bewegtbild aus <NL> 5. diejenigen, die die Ideen zu Bewegtbild produzieren (Agenturen) schöpfen  <NL> sehr viel Geld im Prozess ab, sodass für die Produktion wenig bleibt, um  <NL> qualitativ Hochwertiges zu liefern oder Regisseure einzukaufen, die die  <NL> Ideen auf eben das Niveau bringen. <NL> 6. pellybay kann durch seine Expertise und Erfahrung zum einen sehr gute  <NL> Ideen für Bewegtbild liefern und diese umsetzen. <NL>  <NL>  <NL> Das Geschäftsmodell und der Ablauf: <NL> 1. Ein Unternehmen benötigt eine Idee für ein Bewegtbild. <NL> 2. Das Unternehmen gibt pellybay ein Briefing. <NL> 3. pellybay liefert Ideen -gegen Geld. <NL> 4. pellybay setzt die Idee um -gegen Geld. <NL>  <NL> Vorteile für das Unternehmen/den Kunden: <NL> - extrem hohe Kostenersparniss, da sich Unternehmen die Schnittstelle  <NL> Agentur spart <NL> - extrem hohe Zeitersparniss, Stichwort: kurze Wege <NL>  <NL> unsre Zielgruppe: <NL> - Marketingentscheider in Unternehmen <NL> - Inhaber von Unternehmen <NL> - Gründer von Unternehmen (Start-ups) <NL> - Investoren <NL>  <NL> Probleme: <NL> - Kunden denken, dass wir kein \"Marketing\" im klassischen Sinn können  <NL> würden. <NL> - das Marketing für pellybay wurde aufgrund des einigermaßen guten Starts  <NL> versäumt <NL> - die Vertriebsstruktur muss weiter aufgebaut werden <NL>  <NL> Philosophie: <NL> wir wollen unsere Kunden besser machen! Das geht nur, wenn wir besser sind. <NL>  <NL> Wettbewerber: <NL> Keine. <NL> In D, A,CH bieten viele Filmproduktionen sogenannte \"Directors Rooms\" an.  <NL> Diese werden aber nicht <NL> angenommen, da alle75 im Markt tätigen Filmproduktionen zu 94% Jobs von  <NL> Agenturen bekommen. <NL> Würden diese jetzt beginnen direkt mit dem Kunden zu arbeiten, würde ihnen  <NL> sofort eine Hauptumsatzquelle <NL> wegbrechen. <NL>  <NL> Ziel 2016: <NL> - Ausbau des Kreativdepartments <NL> - Ausbau des übergeordneten kaufmännisches Bereiches <NL> - Umsetzung des Marketing-, und Vertriebplans <NL> - deutlichere Wahrnehmung von pellybay als Marke hinsichtlich einer  <NL> hochkreativen Bewegtbildfirma <NL>  <NL>  <NL> --  <NL> \\ufeffPETER KLEINE www.peterkleine.com <http://www.peterkleine.com> <NL> '"
      ]
     },
     "execution_count": 24,
     "metadata": {},
     "output_type": "execute_result"
    }
   ],
   "source": [
    "emailsDF.loc[167,\"TXT\"]"
   ]
  },
  {
   "cell_type": "markdown",
   "metadata": {},
   "source": [
    "Abgreifen einzelner Informationen einer Message"
   ]
  },
  {
   "cell_type": "code",
   "execution_count": null,
   "metadata": {},
   "outputs": [],
   "source": [
    "messageKey = 167\n",
    "rawMessage = conn.fetch(messageKey, ['BODY[]', 'FLAGS'] )"
   ]
  },
  {
   "cell_type": "code",
   "execution_count": null,
   "metadata": {},
   "outputs": [],
   "source": [
    "message = pyzmail.PyzMessage.factory(rawMessage[messageKey] [b'BODY[]'])"
   ]
  },
  {
   "cell_type": "code",
   "execution_count": null,
   "metadata": {},
   "outputs": [],
   "source": [
    "message.get_subject()"
   ]
  },
  {
   "cell_type": "code",
   "execution_count": null,
   "metadata": {},
   "outputs": [],
   "source": [
    "message.get_addresses('from')"
   ]
  },
  {
   "cell_type": "code",
   "execution_count": null,
   "metadata": {},
   "outputs": [],
   "source": [
    "message.get_addresses('to')"
   ]
  },
  {
   "cell_type": "code",
   "execution_count": null,
   "metadata": {},
   "outputs": [],
   "source": [
    "message.get_addresses('cc')"
   ]
  },
  {
   "cell_type": "code",
   "execution_count": null,
   "metadata": {},
   "outputs": [],
   "source": [
    "message.text_part"
   ]
  },
  {
   "cell_type": "code",
   "execution_count": 15,
   "metadata": {},
   "outputs": [
    {
     "ename": "AttributeError",
     "evalue": "'PyzMessage' object has no attribute 'get_date'",
     "output_type": "error",
     "traceback": [
      "\u001b[1;31m---------------------------------------------------------------------------\u001b[0m",
      "\u001b[1;31mAttributeError\u001b[0m                            Traceback (most recent call last)",
      "\u001b[1;32m<ipython-input-15-3acb117abae8>\u001b[0m in \u001b[0;36m<module>\u001b[1;34m\u001b[0m\n\u001b[1;32m----> 1\u001b[1;33m \u001b[0mmessage\u001b[0m\u001b[1;33m.\u001b[0m\u001b[0mget_date\u001b[0m\u001b[1;33m(\u001b[0m\u001b[1;33m)\u001b[0m\u001b[1;33m\u001b[0m\u001b[1;33m\u001b[0m\u001b[0m\n\u001b[0m",
      "\u001b[1;31mAttributeError\u001b[0m: 'PyzMessage' object has no attribute 'get_date'"
     ]
    }
   ],
   "source": [
    "message."
   ]
  },
  {
   "cell_type": "code",
   "execution_count": null,
   "metadata": {},
   "outputs": [],
   "source": [
    "message.html_part"
   ]
  },
  {
   "cell_type": "code",
   "execution_count": null,
   "metadata": {},
   "outputs": [],
   "source": [
    "message.html_part == None"
   ]
  },
  {
   "cell_type": "code",
   "execution_count": null,
   "metadata": {},
   "outputs": [],
   "source": [
    "messageBody = message.text_part.get_payload().decode('UTF-8')\n",
    "messageBody = messageBody.replace(\"\\r\\n\", \" <NL> \")\n",
    "messageBody"
   ]
  },
  {
   "cell_type": "code",
   "execution_count": null,
   "metadata": {},
   "outputs": [],
   "source": [
    "conn.list_folders()  # 3. Tupel pro Zeile ist der entsprechende Ordner"
   ]
  },
  {
   "cell_type": "code",
   "execution_count": null,
   "metadata": {},
   "outputs": [],
   "source": []
  },
  {
   "cell_type": "code",
   "execution_count": null,
   "metadata": {},
   "outputs": [],
   "source": [
    "import pandas as pd"
   ]
  },
  {
   "cell_type": "code",
   "execution_count": null,
   "metadata": {},
   "outputs": [],
   "source": [
    "UIDS"
   ]
  },
  {
   "cell_type": "code",
   "execution_count": null,
   "metadata": {},
   "outputs": [],
   "source": [
    "emailsDF = pd.DataFrame(columns=[\"FROM\", \"TO\", \"CC\", \"BCC\", \"SUB\", \"TXT\"])\n",
    "emailsDF"
   ]
  },
  {
   "cell_type": "code",
   "execution_count": null,
   "metadata": {},
   "outputs": [],
   "source": [
    "emailsDF = pd.DataFrame(columns=[\"FROM\", \"TO\", \"CC\", \"BCC\", \"SUB\", \"TXT\"])\n",
    "for messageKey in UIDS:\n",
    "    # Get Message\n",
    "    rawMessage = conn.fetch(messageKey, ['BODY[]', 'FLAGS'] )\n",
    "    message = pyzmail.PyzMessage.factory(rawMessage[messageKey] [b'BODY[]'])\n",
    "    \n",
    "    # From / To / CC / BCC / Subject auslesen\n",
    "    sentFROM = message.get_addresses('from')\n",
    "    sentTO = message.get_addresses('to')\n",
    "    sentCC = message.get_addresses('cc')\n",
    "    sentBCC = message.get_addresses('bcc')\n",
    "    SUBJECT = message.get_subject()\n",
    "    \n",
    "    # Email Textbody auslesen\n",
    "    messageBody = message.text_part.get_payload().decode('UTF-8')\n",
    "    messageBody = messageBody.replace(\"\\r\\n\", \" <NL> \")\n",
    "    \n",
    "    emailsDF[messageKey] = [sentFROM, sentTO, sentCC, sentBCC, SUBJECT, messageBody]\n",
    "    \n",
    "    \n",
    "    "
   ]
  },
  {
   "cell_type": "code",
   "execution_count": null,
   "metadata": {},
   "outputs": [],
   "source": []
  }
 ],
 "metadata": {
  "kernelspec": {
   "display_name": "Python 3",
   "language": "python",
   "name": "python3"
  },
  "language_info": {
   "codemirror_mode": {
    "name": "ipython",
    "version": 3
   },
   "file_extension": ".py",
   "mimetype": "text/x-python",
   "name": "python",
   "nbconvert_exporter": "python",
   "pygments_lexer": "ipython3",
   "version": "3.7.6"
  }
 },
 "nbformat": 4,
 "nbformat_minor": 4
}
