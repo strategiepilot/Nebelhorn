{
 "cells": [
  {
   "cell_type": "code",
   "execution_count": 1,
   "metadata": {},
   "outputs": [],
   "source": [
    "import pandas as pd\n",
    "import numpy as np\n",
    "import matplotlib.pyplot as plt\n",
    "import os\n",
    "\n",
    "import requests\n",
    "from bs4 import BeautifulSoup\n",
    "import datetime"
   ]
  },
  {
   "cell_type": "markdown",
   "metadata": {},
   "source": [
    "# Scrap newsarticle headlines from The Guardian & The Daily Mail"
   ]
  },
  {
   "cell_type": "code",
   "execution_count": 2,
   "metadata": {},
   "outputs": [],
   "source": [
    "headlines = []\n",
    "labels = []\n",
    "\n",
    "r = requests.get('https://www.theguardian.com/uk').text #get html\n",
    "soup = BeautifulSoup(r, 'html5lib') #run html through beautiful soup\n",
    "headlines += [headline.text for headline in\n",
    "              soup.find_all('span', class_='js-headline-text')][:10]\n",
    "labels += ['guardian'] * (len(headlines) - len(labels))\n",
    "\n",
    "soup = BeautifulSoup(requests.get('http://www.dailymail.co.uk/home/index.html').text, 'html5lib')\n",
    "headlines += [headline.text.replace('\\n', '').replace('\\xa0', '').strip()\n",
    "              for headline in soup.find_all(class_=\"linkro-darkred\")][:10]\n",
    "labels += ['daily mail'] * (len(headlines) - len(labels))"
   ]
  },
  {
   "cell_type": "code",
   "execution_count": 3,
   "metadata": {},
   "outputs": [
    {
     "data": {
      "application/vnd.jupyter.widget-view+json": {
       "model_id": "aa83fbb990a7406f84cf56c10a63ddaa",
       "version_major": 2,
       "version_minor": 0
      },
      "text/plain": [
       "ClassLabeller(children=(HBox(children=(FloatProgress(value=0.0, description='Progress:', max=1.0),)), Box(chil…"
      ]
     },
     "metadata": {},
     "output_type": "display_data"
    }
   ],
   "source": [
    "from superintendent import ClassLabeller\n",
    "from IPython import display\n",
    "\n",
    "labelling_widget = ClassLabeller(\n",
    "    features=headlines,\n",
    "    display_func=lambda x: display.display(display.Markdown(\"# \" + x)),\n",
    "    options=['professional', 'not professional'],\n",
    ")\n",
    "\n",
    "labelling_widget\n"
   ]
  },
  {
   "cell_type": "code",
   "execution_count": 6,
   "metadata": {
    "collapsed": true,
    "jupyter": {
     "outputs_hidden": true
    }
   },
   "outputs": [
    {
     "data": {
      "text/plain": [
       "[('UK coronavirus: government publishes new batch of papers from Sage',\n",
       "  'guardian'),\n",
       " ('UK coronavirus: government publishes new batch of papers from Sage',\n",
       "  'guardian'),\n",
       " (\"Coronavirus: Australian PM says virus 'most likely' came from Wuhan market\",\n",
       "  'guardian'),\n",
       " (\"Coronavirus: Australian PM says virus 'most likely' came from Wuhan market\",\n",
       "  'guardian'),\n",
       " ('Path out of Covid lockdown complicated by polarised politics', 'guardian'),\n",
       " ('Path out of Covid lockdown complicated by polarised politics', 'guardian'),\n",
       " ('Just 273 people arriving in UK in run-up to lockdown were quarantined',\n",
       "  'guardian'),\n",
       " ('Just 273 people arriving in UK in run-up to lockdown were quarantined',\n",
       "  'guardian'),\n",
       " ('Covid-19: the psychology of conspiracy theories', 'guardian'),\n",
       " ('Coronavirus latest developments', 'guardian'),\n",
       " (\"Unions threaten to stage mass walkouts and tell workers to simply not turn up to jobs if health and safety demands are not met when coronavirus lockdown eases - as Labour's Keir Starmer jibes that PPE is not a 'luxury item'\",\n",
       "  'daily mail'),\n",
       " (\"We can't go on like this: More than HALF of UK adults are now being paid by the government with the furlough bailout alone equivalent to the NHS budget - as Chancellor Rishi Sunak warns bill is 'not sustainable'\",\n",
       "  'daily mail'),\n",
       " (\"NHS Covid contact-tracing app could be ILLEGAL and will cause chaos for Brits' foreign travel because it's incompatible with Apple-Google system, warn critics as it goes live on the Isle of Wight\",\n",
       "  'daily mail'),\n",
       " (\"The lockdown lust files: Cyber sex, late-night liaisons and married men desperate to see their lovers ... what it's like being a mistress during the coronavirus pandemic\",\n",
       "  'daily mail'),\n",
       " ('Piers Morgan gets the ALL CLEAR for coronavirus - but will stay off work at GMB while he recovers from the symptoms that caused him to be tested',\n",
       "  'daily mail'),\n",
       " ('We should lift lockdown to help prepare for a more deadly winter second wave, writes health reporter JOHN NAISH',\n",
       "  'daily mail'),\n",
       " ('From a face shield to a phone sanitiser and a hook to open doors... Gadgets that claim to stop you catching Covid',\n",
       "  'daily mail'),\n",
       " ('Will you get fined if you refuse to send your child back to school? Headteachers ask ministers if parents will face truancy fines once lockdown ends',\n",
       "  'daily mail'),\n",
       " ('Urgent probe into obesity link to Covid-19 deaths: Matt Hancock orders health officials to find why certain groups including the overweight, men and ethnic minorities are more likely to die',\n",
       "  'daily mail'),\n",
       " ('A first-class degree in greed and ineptitude: Our universities are facing financial chaos and begging for a bailout after years of over-expansion and fat-cat salaries. So will they finally learn their lesson, asks DOMINIC SANDBROOK',\n",
       "  'daily mail')]"
      ]
     },
     "execution_count": 6,
     "metadata": {},
     "output_type": "execute_result"
    }
   ],
   "source": [
    "list(zip(headlines, labels))"
   ]
  },
  {
   "cell_type": "code",
   "execution_count": 9,
   "metadata": {},
   "outputs": [
    {
     "data": {
      "text/plain": [
       "['professional',\n",
       " 'Redo',\n",
       " 'Redo',\n",
       " 'professional',\n",
       " 'professional',\n",
       " 'professional',\n",
       " 'professional',\n",
       " 'professional',\n",
       " 'professional',\n",
       " 'professional',\n",
       " 'Neue Klasse 1',\n",
       " None,\n",
       " None,\n",
       " None,\n",
       " None,\n",
       " None,\n",
       " None,\n",
       " None,\n",
       " None,\n",
       " None]"
      ]
     },
     "execution_count": 9,
     "metadata": {},
     "output_type": "execute_result"
    }
   ],
   "source": [
    "labelling_widget.new_labels"
   ]
  },
  {
   "cell_type": "code",
   "execution_count": null,
   "metadata": {},
   "outputs": [],
   "source": []
  }
 ],
 "metadata": {
  "kernelspec": {
   "display_name": "Python 3.7.4 64-bit ('barth': virtualenv)",
   "language": "python",
   "name": "python37464bitbarthvirtualenv4fd83aa2831946d0ba80e05978ebc743"
  },
  "language_info": {
   "codemirror_mode": {
    "name": "ipython",
    "version": 3
   },
   "file_extension": ".py",
   "mimetype": "text/x-python",
   "name": "python",
   "nbconvert_exporter": "python",
   "pygments_lexer": "ipython3",
   "version": "3.7.6"
  }
 },
 "nbformat": 4,
 "nbformat_minor": 4
}
