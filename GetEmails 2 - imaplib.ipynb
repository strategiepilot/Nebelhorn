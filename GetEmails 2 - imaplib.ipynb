{
 "cells": [
  {
   "cell_type": "markdown",
   "metadata": {},
   "source": [
    "### Imports"
   ]
  },
  {
   "cell_type": "code",
   "execution_count": 1,
   "metadata": {},
   "outputs": [
    {
     "name": "stdout",
     "output_type": "stream",
     "text": [
      "3.7.6 (default, Jan  8 2020, 20:23:39) [MSC v.1916 64 bit (AMD64)]\n",
      "utf-8\n"
     ]
    }
   ],
   "source": [
    "import pandas as pd\n",
    "import datetime as dt\n",
    "from dateutil import parser as date_parser\n",
    "import os\n",
    "import sys\n",
    "\n",
    "import json\n",
    "import imaplib\n",
    "import email\n",
    "import mimetypes\n",
    "\n",
    "print(sys.version)\n",
    "print(sys.getdefaultencoding())"
   ]
  },
  {
   "cell_type": "markdown",
   "metadata": {},
   "source": [
    "### Functions"
   ]
  },
  {
   "cell_type": "code",
   "execution_count": 2,
   "metadata": {},
   "outputs": [],
   "source": [
    "def auth(path_credentials = \"F:/Data/DataBases/creds.json\"):\n",
    "    '''\n",
    "    \n",
    "    Automatisches Anmelden an einer Imap-Emailinbox.\n",
    "    Input:   Pfad mit den Credentials (json-File)\n",
    "    Output:  Connection Objekt für weitere Abfragen an die Mailbox\n",
    "    \n",
    "    '''\n",
    "    import json\n",
    "    import imaplib\n",
    "    \n",
    "    pcreds = path_credentials    \n",
    "    with open(pcreds, encoding=\"utf-8-sig\") as f:\n",
    "        creds = json.load(f)\n",
    "    ID, SERVER, EMAIL, PASSCODE = creds[\"ID\"], creds[\"host\"], creds[\"users\"], creds[\"pw\"]\n",
    "    con = imaplib.IMAP4_SSL(SERVER)\n",
    "    con.login(EMAIL, PASSCODE)\n",
    "    print(f\"Mailbox mit ID {ID} connected.\")\n",
    "    return con"
   ]
  },
  {
   "cell_type": "code",
   "execution_count": 3,
   "metadata": {},
   "outputs": [],
   "source": [
    "def get_mail_ids(con, filter='ALL'):\n",
    "    '''\n",
    "    Auslesen der Email-IDs eines vorab selektieren Postfaches \n",
    "    Input:   Connection Objekt (default=\"mail\"), Filterdefinition (default=\"All\")\n",
    "    Output:  Liste mit Email-IDS: mail_ids\n",
    "    ''' \n",
    "    status, data = con.search(None, filter)\n",
    "    mail_ids = []\n",
    "    for block in data:\n",
    "        mail_ids += block.split()\n",
    "    print(f\"{len(mail_ids)} Mail IDs ausgelesen\")\n",
    "    return mail_ids"
   ]
  },
  {
   "cell_type": "code",
   "execution_count": 4,
   "metadata": {},
   "outputs": [],
   "source": [
    "def get_emails(con, mail_ids, ):                  # get_emails(result_bytes)\n",
    "    '''\n",
    "    Auslesen der Emails (Messages) anhand der Email-IDs eines vorab selektieren Postfaches \n",
    "    Input:   Connection Objekt (default=\"mail\"), Liste der Email-IDs\n",
    "    Output:  Liste mit Emails (Messages)\n",
    "    '''    \n",
    "    messages = []\n",
    "    for mid in mail_ids:\n",
    "        typ, data = mail.fetch(mid, '(RFC822)')\n",
    "        messages.append(data)\n",
    "    print(f\"{len(mail_ids)} Emails ausgelesen\")\n",
    "    return messages"
   ]
  },
  {
   "cell_type": "code",
   "execution_count": 5,
   "metadata": {},
   "outputs": [],
   "source": [
    "def search(key,value,con):\n",
    "    '''\n",
    "    Abfrage der selektierten Email-Postfachs mit Suchbegriffe / Selektion\n",
    "    Input:   key: Suchbegriff , Value: Selektionsbegriff, con: Connection-Objekt\n",
    "    Output:  Selektierte Mail-IDs\n",
    "    '''\n",
    "    result, data  = con.search(None, key, '\"{}\"'.format(value))\n",
    "    return data"
   ]
  },
  {
   "cell_type": "code",
   "execution_count": 6,
   "metadata": {},
   "outputs": [],
   "source": [
    "def get_header(msg):\n",
    "    '''\n",
    "    Extrahiert den Email-Header einer Email-Message (email-message Objekt).\n",
    "    # funktioniert noch nicht: Und ruft Decoding (utf-8) und Cleaning Funktion auf\n",
    "    Input:   email-message Objekt\n",
    "    Output:  Dekodierter und gecleanter Email-Body\n",
    "    '''\n",
    "    header_dict = {}\n",
    "    header_dict[\"to\"] = msg[\"to\"]\n",
    "    header_dict[\"from\"] = msg[\"from\"]\n",
    "    header_dict[\"cc\"] = msg[\"cc\"]\n",
    "    header_dict[\"bcc\"] = msg[\"bcc\"]\n",
    "    header_dict[\"sub\"] = msg[\"subject\"]\n",
    "    header_dict[\"date_raw\"] = msg[\"date\"]\n",
    "    header_dict[\"date\"] =  date_parser.parse(header_dict['date_raw']).strftime (\"%d-%m-%Y\")\n",
    "    header_dict[\"time\"] =  date_parser.parse(header_dict['date_raw']).strftime (\"%H:%M:%S\")\n",
    "        \n",
    "#   FUNKTIONIERT NICHT  header_dict = {k: v.decode(\"utf-8\") for k,v in header_dict.items()}\n",
    "    return header_dict    "
   ]
  },
  {
   "cell_type": "code",
   "execution_count": 7,
   "metadata": {},
   "outputs": [],
   "source": [
    "def decodeAndclean(raw):\n",
    "    '''\n",
    "    Funktionsaufruf durch andere Funktion (z.B. get_body).\n",
    "    Decoding (utf-8) und Cleaning Funktion auf dem übergebenen Email-Text\n",
    "    Input:   email-message Objekt\n",
    "    Output:  Dekodierter und gecleanter Email-Text\n",
    "    '''\n",
    "    rawDecoded = raw.decode()\n",
    "    msgClean = rawDecoded.replace(\"\\r\\n\", \"<NL>\")\n",
    "    return msgClean\n",
    "    "
   ]
  },
  {
   "cell_type": "code",
   "execution_count": 84,
   "metadata": {},
   "outputs": [],
   "source": [
    "def get_attachments(msg, save2disk=True):\n",
    "    '''\n",
    "    Liest die Attachments einer zugeführten Raw-Email-Message (byte-Codierung) aus und speichert diese ab\n",
    "    Input:   email-message Objekt\n",
    "    Output:  Bei save2disk = True: wird jeder Anhang im <save_path_> Ordner abgespeichert\n",
    "    '''\n",
    "    \n",
    "    import mimetypes\n",
    "    email_message = msg\n",
    "    attachments = []\n",
    "    \n",
    "    counter = 1\n",
    "    for part in email_message.walk():\n",
    "        if part.get_content_maintype() == 'multipart':\n",
    "            continue\n",
    "        \n",
    "        filename = part.get_filename()\n",
    "        content_type = part.get_content_type()\n",
    "        \n",
    "        if not filename:\n",
    "            ext = mimetypes.guess_extension(part.get_content_type())\n",
    "            if 'text' in content_type:\n",
    "                ext = '.txt'\n",
    "            if not ext:\n",
    "                ext = '.bin'\n",
    "            \n",
    "            elif 'html' in content_type:\n",
    "                ext = '.html'\n",
    "                \n",
    "            filename = 'msg-part-%08d%s' %(counter, ext)\n",
    "        counter += 1\n",
    "        \n",
    "        attachments.append(filename)\n",
    "        print(filename)\n",
    "        \n",
    "        # Save File\n",
    "        today = dt.date.today().strftime(\"%d%m%Y\")\n",
    "        filename = today+'__'+m_id.decode()+'__'+filename\n",
    "        save_path = os.path.join(os.getcwd(), \"attachment_downloads\", today,) #date_\n",
    "        \n",
    "        if save2disk == False:\n",
    "            return print(\"\\n\\n\\nAttachments wurden NICHT abgespeichert\"), attachments\n",
    "        \n",
    "        else:  \n",
    "            if not os.path.exists(save_path):\n",
    "                os.makedirs(save_path)\n",
    "            \n",
    "            with open(os.path.join(save_path, filename), 'wb') as fp:\n",
    "                fp.write(part.get_payload(decode=True))\n",
    "                \n",
    "            return print(f\"{len(attachments)} Attachments in {save_path} abgespeichert\"), attachments \n",
    "    "
   ]
  },
  {
   "cell_type": "code",
   "execution_count": 79,
   "metadata": {},
   "outputs": [],
   "source": [
    "def get_body(msg):\n",
    "    '''\n",
    "    Extrahiert den Email-Body einer Email-Message (email-message Objekt).\n",
    "    # Funktioniert nicht: Und ruft Decoding (utf-8) und Cleaning Funktion auf\n",
    "    Input:   email-message Objekt\n",
    "    Output:  Dekodierter und gecleanter Email-Body\n",
    "    '''\n",
    "    if msg.is_multipart():\n",
    "        raw =  get_body(msg.get_payload(0, decode=False))\n",
    "    else:\n",
    "        raw =  msg.get_payload(None,True)\n",
    "        \n",
    "#     return decodeAndclean(raw)  # return cleaned body text\n",
    "    return raw\n"
   ]
  },
  {
   "cell_type": "markdown",
   "metadata": {},
   "source": [
    "### Execute"
   ]
  },
  {
   "cell_type": "code",
   "execution_count": 120,
   "metadata": {},
   "outputs": [
    {
     "name": "stdout",
     "output_type": "stream",
     "text": [
      "Mailbox mit ID 999 connected.\n",
      "14 Mail IDs ausgelesen\n",
      "[b'1', b'2', b'3', b'4', b'5', b'6', b'7', b'8', b'9', b'10', b'11', b'12', b'13', b'14']\n"
     ]
    },
    {
     "data": {
      "text/plain": [
       "['1', '2', '3', '4', '5', '6', '7', '8', '9', '10', '11', '12', '13', '14']"
      ]
     },
     "execution_count": 120,
     "metadata": {},
     "output_type": "execute_result"
    }
   ],
   "source": [
    "mail = auth()\n",
    "folder = 'Mailtest'\n",
    "mail.select(folder)\n",
    "mail_ids = get_mail_ids(mail)\n",
    "# mail.list()\n",
    "# msgs = get_emails((get_mail_ids()))\n",
    "print(mail_ids)\n",
    "[mid.decode() for mid in mail_ids]\n",
    "\n"
   ]
  },
  {
   "cell_type": "code",
   "execution_count": null,
   "metadata": {},
   "outputs": [],
   "source": [
    " header_dict[\"to\"] = msg[\"to\"]\n",
    "    header_dict[\"from\"] = msg[\"from\"]\n",
    "    header_dict[\"cc\"] = msg[\"cc\"]\n",
    "    header_dict[\"bcc\"] = msg[\"bcc\"]\n",
    "    header_dict[\"sub\"] = msg[\"subject\"]\n",
    "    header_dict[\"date_raw\"] = msg[\"date\"]\n",
    "    header_dict[\"date\"] =  date_parser.parse(header_dict['date_raw']).strftime (\"%d-%m-%Y\")\n",
    "    header_dict[\"time\"] =  date_parser.parse(header_dict['date_raw']).strftime (\"%H:%M:%S\")"
   ]
  },
  {
   "cell_type": "code",
   "execution_count": 105,
   "metadata": {},
   "outputs": [
    {
     "data": {
      "text/plain": [
       "[b'1',\n",
       " '30-03-2017',\n",
       " '16:57:37',\n",
       " '=?utf-8?Q?S=C3=B6nke_Mail?= <017662099018@o2online.de>',\n",
       " 'Andreas Barth <barth.andreas@web.de>',\n",
       " None,\n",
       " None,\n",
       " 'Re: Zweites Standbein?']"
      ]
     },
     "execution_count": 105,
     "metadata": {},
     "output_type": "execute_result"
    }
   ],
   "source": [
    "[ m_id, header[\"date\"], header['time'], header[\"from\"],\n",
    "                                 header['to'], header['cc'], header['bcc'], header['sub'],]"
   ]
  },
  {
   "cell_type": "code",
   "execution_count": 125,
   "metadata": {},
   "outputs": [
    {
     "ename": "UnicodeDecodeError",
     "evalue": "'utf-8' codec can't decode byte 0xf6 in position 40: invalid start byte",
     "output_type": "error",
     "traceback": [
      "\u001b[1;31m---------------------------------------------------------------------------\u001b[0m",
      "\u001b[1;31mUnicodeDecodeError\u001b[0m                        Traceback (most recent call last)",
      "\u001b[1;32m<ipython-input-125-1a69bd95c080>\u001b[0m in \u001b[0;36m<module>\u001b[1;34m\u001b[0m\n\u001b[0;32m     18\u001b[0m \u001b[1;33m\u001b[0m\u001b[0m\n\u001b[0;32m     19\u001b[0m     \u001b[0mheader\u001b[0m \u001b[1;33m=\u001b[0m \u001b[0mget_header\u001b[0m\u001b[1;33m(\u001b[0m\u001b[0mraw_msg\u001b[0m\u001b[1;33m)\u001b[0m\u001b[1;33m\u001b[0m\u001b[1;33m\u001b[0m\u001b[0m\n\u001b[1;32m---> 20\u001b[1;33m     \u001b[0mbody\u001b[0m \u001b[1;33m=\u001b[0m \u001b[0mdecodeAndclean\u001b[0m\u001b[1;33m(\u001b[0m\u001b[0mget_body\u001b[0m\u001b[1;33m(\u001b[0m\u001b[0mraw_msg\u001b[0m\u001b[1;33m)\u001b[0m\u001b[1;33m)\u001b[0m \u001b[1;31m#\"DUMMY\"\u001b[0m\u001b[1;33m\u001b[0m\u001b[1;33m\u001b[0m\u001b[0m\n\u001b[0m\u001b[0;32m     21\u001b[0m     \u001b[1;31m# p, files = get_attachments(raw_msg, save2disk=False)\u001b[0m\u001b[1;33m\u001b[0m\u001b[1;33m\u001b[0m\u001b[1;33m\u001b[0m\u001b[0m\n\u001b[0;32m     22\u001b[0m     \u001b[0mnbrFiles\u001b[0m \u001b[1;33m=\u001b[0m \u001b[1;36m99\u001b[0m \u001b[1;31m#sum([1 for file in files])\u001b[0m\u001b[1;33m\u001b[0m\u001b[1;33m\u001b[0m\u001b[0m\n",
      "\u001b[1;32m<ipython-input-7-df4093c17eb7>\u001b[0m in \u001b[0;36mdecodeAndclean\u001b[1;34m(raw)\u001b[0m\n\u001b[0;32m      6\u001b[0m     \u001b[0mOutput\u001b[0m\u001b[1;33m:\u001b[0m  \u001b[0mDekodierter\u001b[0m \u001b[0mund\u001b[0m \u001b[0mgecleanter\u001b[0m \u001b[0mEmail\u001b[0m\u001b[1;33m-\u001b[0m\u001b[0mText\u001b[0m\u001b[1;33m\u001b[0m\u001b[1;33m\u001b[0m\u001b[0m\n\u001b[0;32m      7\u001b[0m     '''\n\u001b[1;32m----> 8\u001b[1;33m     \u001b[0mrawDecoded\u001b[0m \u001b[1;33m=\u001b[0m \u001b[0mraw\u001b[0m\u001b[1;33m.\u001b[0m\u001b[0mdecode\u001b[0m\u001b[1;33m(\u001b[0m\u001b[1;33m)\u001b[0m\u001b[1;33m\u001b[0m\u001b[1;33m\u001b[0m\u001b[0m\n\u001b[0m\u001b[0;32m      9\u001b[0m     \u001b[0mmsgClean\u001b[0m \u001b[1;33m=\u001b[0m \u001b[0mrawDecoded\u001b[0m\u001b[1;33m.\u001b[0m\u001b[0mreplace\u001b[0m\u001b[1;33m(\u001b[0m\u001b[1;34m\"\\r\\n\"\u001b[0m\u001b[1;33m,\u001b[0m \u001b[1;34m\"<NL>\"\u001b[0m\u001b[1;33m)\u001b[0m\u001b[1;33m\u001b[0m\u001b[1;33m\u001b[0m\u001b[0m\n\u001b[0;32m     10\u001b[0m     \u001b[1;32mreturn\u001b[0m \u001b[0mmsgClean\u001b[0m\u001b[1;33m\u001b[0m\u001b[1;33m\u001b[0m\u001b[0m\n",
      "\u001b[1;31mUnicodeDecodeError\u001b[0m: 'utf-8' codec can't decode byte 0xf6 in position 40: invalid start byte"
     ]
    }
   ],
   "source": [
    "# mail = auth()\n",
    "# folder = 'Mailtest'\n",
    "# mail.select(folder)\n",
    "# mail_ids = get_mail_ids(mail)\n",
    "\n",
    "# TODAY = dt.date.today().strftime(\"%d%m%Y\")\n",
    "# SAVE_PATH = os.path.join(os.getcwd(), \"attachment_downloads\", TODAY,)\n",
    "\n",
    "# cols=\"MID DATE TIME FROM TO CC BCC SUBJECT \".split(\", \")\n",
    "cols=\"MID DATE TIME FROM TO CC BCC SUBJECT BODY #FILES FILES\".split()\n",
    "MAILCONTAINER = pd.DataFrame(columns=cols)\n",
    "\n",
    "for m_id in mail_ids:  \n",
    "    result, data = mail.fetch(m_id,'(RFC822)')\n",
    "    raw_msg = email.message_from_bytes(data[0][1])\n",
    "    \n",
    "    idx = m_id.decode()\n",
    "    \n",
    "    header = get_header(raw_msg)\n",
    "    body = decodeAndclean(get_body(raw_msg)) #\"DUMMY\"\n",
    "    # p, files = get_attachments(raw_msg, save2disk=False) \n",
    "    nbrFiles = 99 #sum([1 for file in files])\n",
    "    files = []\n",
    "    \n",
    "    MAILCONTAINER.loc[idx, :] = [ m_id, header[\"date\"], header['time'], header[\"from\"],\n",
    "                                 header['to'], header['cc'], header['bcc'], header['sub'],\n",
    "                                 body, nbrFiles, files]\n",
    "\n",
    "MAILCONTAINER"
   ]
  },
  {
   "cell_type": "code",
   "execution_count": null,
   "metadata": {},
   "outputs": [],
   "source": [
    "MAILCONTAINER"
   ]
  },
  {
   "cell_type": "markdown",
   "metadata": {},
   "source": [
    "### Aufruf der einzelnen Email"
   ]
  },
  {
   "cell_type": "code",
   "execution_count": 41,
   "metadata": {},
   "outputs": [],
   "source": [
    "result, data = mail.fetch(b'11','(RFC822)')\n",
    "raw_msg = email.message_from_bytes(data[0][1])"
   ]
  },
  {
   "cell_type": "markdown",
   "metadata": {},
   "source": [
    "#### Header auslesen"
   ]
  },
  {
   "cell_type": "code",
   "execution_count": 42,
   "metadata": {},
   "outputs": [
    {
     "data": {
      "text/plain": [
       "['\"Andreas Barth\" <barth.andreas@web.de>',\n",
       " '<barth@strategiepilot.de>',\n",
       " None,\n",
       " None,\n",
       " 'Testmail mit Anhang jpeg',\n",
       " 'Wed, 10 Jun 2020 12:24:40 +0200',\n",
       " '10-06-2020',\n",
       " '12:24:40']"
      ]
     },
     "execution_count": 42,
     "metadata": {},
     "output_type": "execute_result"
    }
   ],
   "source": [
    "header = get_header(raw_msg)\n",
    "[i for i in header.values()]"
   ]
  },
  {
   "cell_type": "markdown",
   "metadata": {},
   "source": [
    "#### Body auslesen"
   ]
  },
  {
   "cell_type": "code",
   "execution_count": 64,
   "metadata": {},
   "outputs": [
    {
     "name": "stdout",
     "output_type": "stream",
     "text": [
      "[None, None, 'utf-8', 'utf-8', None, None]\n",
      "\n"
     ]
    },
    {
     "data": {
      "text/plain": [
       "'<NL><NL>Sent from on the go .... Please excuse brevity!<NL><NL>Anfang der weitergeleiteten Nachricht:<NL><NL>Von: \"Lochmann, Heike\" <lochmann@hs-albsig.de><NL>Datum: 10. Juni 2020 um 12:32:02 MESZ<NL>An: HS_Studierende_Albstadt <HS_Studierende_Albstadt@hs-albsig.de>, HS_Studierende_Sigmaringen <HS_Studierende_Sigmaringen@hs-albsig.de><NL>Kopie: rektorat <rektorat@hs-albsig.de>, \"Leu, Sabine\" <leu@hs-albsig.de>, \"Sick, Christina\" <sick@hs-albsig.de>, \"Pfefferle, Hannah\" <pfefferle@hs-albsig.de>, \"Brandauer, Heidi\" <brandauer@hs-albsig.de>, \"Nell, Katrin\" <nell@hs-albsig.de>, \"Limbeck, Ulrike\" <limbeck@hs-albsig.de><NL>Betreff: Gremienwahl 2020: Wahlbekanntmachung<NL><NL>\\ufeff<NL>Sehr geehrte Damen und Herren,<NL><NL>bitte beachten Sie die beigefügte Wahlbekanntmachung.<NL>Bei Fragen dürfen Sie sich gerne melden.<NL><NL>Mit freundlichen Grüßen<NL><NL>Lochmann<NL>Wahlleitung<NL><NL>'"
      ]
     },
     "execution_count": 64,
     "metadata": {},
     "output_type": "execute_result"
    }
   ],
   "source": [
    "# get_body(raw_msg).decode()\n",
    "\n",
    "print(raw_msg.get_charsets())\n",
    "\n",
    "print()\n",
    "\n",
    "decodeAndclean(get_body(raw_msg))\n",
    "\n",
    "# get_body(raw_msg).decode()"
   ]
  },
  {
   "cell_type": "code",
   "execution_count": 56,
   "metadata": {},
   "outputs": [
    {
     "data": {
      "text/plain": [
       "['1', '2', '3', '4', '5', '6', '7', '8', '9', '10', '11', '12', '13', '14']"
      ]
     },
     "execution_count": 56,
     "metadata": {},
     "output_type": "execute_result"
    }
   ],
   "source": [
    "[mid.decode() for mid in mail_ids]"
   ]
  },
  {
   "cell_type": "code",
   "execution_count": 44,
   "metadata": {},
   "outputs": [
    {
     "data": {
      "text/plain": [
       "'C:\\\\Users\\\\barth\\\\Data\\\\DataScienceUni\\\\60100'"
      ]
     },
     "execution_count": 44,
     "metadata": {},
     "output_type": "execute_result"
    }
   ],
   "source": [
    "os.getcwd()"
   ]
  },
  {
   "cell_type": "code",
   "execution_count": 83,
   "metadata": {},
   "outputs": [
    {
     "name": "stdout",
     "output_type": "stream",
     "text": [
      "=?utf-8?Q?S=C3=B6nke_Mail?= <017662099018@o2online.de>\n",
      "msg-part-00000001.txt\n",
      "1 Attachments in C:\\Users\\barth\\Data\\DataScienceUni\\60100\\attachment_downloads\\15062020 abgespeichert\n",
      "--------------------------------------------------  Nächste Email:  --------------------------------------------------\n",
      "Jon Banks <Jon@thepitchagency.com>\n",
      "msg-part-00000001.txt\n",
      "1 Attachments in C:\\Users\\barth\\Data\\DataScienceUni\\60100\\attachment_downloads\\15062020 abgespeichert\n",
      "--------------------------------------------------  Nächste Email:  --------------------------------------------------\n",
      "Kim.Boestam@creata.com\n",
      "msg-part-00000001.txt\n",
      "1 Attachments in C:\\Users\\barth\\Data\\DataScienceUni\\60100\\attachment_downloads\\15062020 abgespeichert\n",
      "--------------------------------------------------  Nächste Email:  --------------------------------------------------\n",
      "=?utf-8?B?R3LDvG5ld2FsZCwgQW5kcmVhcw==?= <ag@fivv.de>\n",
      "msg-part-00000001.txt\n",
      "1 Attachments in C:\\Users\\barth\\Data\\DataScienceUni\\60100\\attachment_downloads\\15062020 abgespeichert\n",
      "--------------------------------------------------  Nächste Email:  --------------------------------------------------\n",
      "Apple <no_reply@email.apple.com>\n",
      "msg-part-00000001.txt\n",
      "1 Attachments in C:\\Users\\barth\\Data\\DataScienceUni\\60100\\attachment_downloads\\15062020 abgespeichert\n",
      "--------------------------------------------------  Nächste Email:  --------------------------------------------------\n",
      "\"Der neue comdirect Kontowechsel-Service\"\n",
      " <noreply@comdirect.kontowechselservice.de>\n",
      "msg-part-00000001.html\n",
      "1 Attachments in C:\\Users\\barth\\Data\\DataScienceUni\\60100\\attachment_downloads\\15062020 abgespeichert\n",
      "--------------------------------------------------  Nächste Email:  --------------------------------------------------\n",
      "\"Aboalarm GmbH\" <receipts+k6Blo61skcL6x0thb2Cy@stripe.com>\n",
      "msg-part-00000001.txt\n",
      "1 Attachments in C:\\Users\\barth\\Data\\DataScienceUni\\60100\\attachment_downloads\\15062020 abgespeichert\n",
      "--------------------------------------------------  Nächste Email:  --------------------------------------------------\n",
      "\"Webinar BigData-Insider\" <webinar@bigdata-insider.de>\n",
      "msg-part-00000001.txt\n",
      "1 Attachments in C:\\Users\\barth\\Data\\DataScienceUni\\60100\\attachment_downloads\\15062020 abgespeichert\n",
      "--------------------------------------------------  Nächste Email:  --------------------------------------------------\n",
      "\"iShares Team\" <ishares@blackrock.com>\n",
      "msg-part-00000001.txt\n",
      "1 Attachments in C:\\Users\\barth\\Data\\DataScienceUni\\60100\\attachment_downloads\\15062020 abgespeichert\n",
      "--------------------------------------------------  Nächste Email:  --------------------------------------------------\n",
      "<barth@strategiepilot.de>\n",
      "msg-part-00000001.txt\n",
      "1 Attachments in C:\\Users\\barth\\Data\\DataScienceUni\\60100\\attachment_downloads\\15062020 abgespeichert\n",
      "--------------------------------------------------  Nächste Email:  --------------------------------------------------\n",
      "<barth@strategiepilot.de>\n",
      "msg-part-00000001.txt\n",
      "1 Attachments in C:\\Users\\barth\\Data\\DataScienceUni\\60100\\attachment_downloads\\15062020 abgespeichert\n",
      "--------------------------------------------------  Nächste Email:  --------------------------------------------------\n",
      "<barth@strategiepilot.de>\n",
      "msg-part-00000001.txt\n",
      "1 Attachments in C:\\Users\\barth\\Data\\DataScienceUni\\60100\\attachment_downloads\\15062020 abgespeichert\n",
      "--------------------------------------------------  Nächste Email:  --------------------------------------------------\n",
      "<barth@strategiepilot.de>\n",
      "msg-part-00000001.txt\n",
      "1 Attachments in C:\\Users\\barth\\Data\\DataScienceUni\\60100\\attachment_downloads\\15062020 abgespeichert\n",
      "--------------------------------------------------  Nächste Email:  --------------------------------------------------\n",
      "\"Barth, Andreas\" <barthand@hs-albsig.de>\n",
      "msg-part-00000001.txt\n",
      "1 Attachments in C:\\Users\\barth\\Data\\DataScienceUni\\60100\\attachment_downloads\\15062020 abgespeichert\n",
      "--------------------------------------------------  Nächste Email:  --------------------------------------------------\n"
     ]
    }
   ],
   "source": [
    "for m_id in mail_ids:\n",
    "    result, data = mail.fetch(m_id,'(RFC822)')\n",
    "    raw_msg = email.message_from_bytes(data[0][1])\n",
    "    print(get_header(raw_msg)['from'])\n",
    "    get_attachments(raw_msg, save_attachm=True)  \n",
    "    \n",
    "    print('-'*50+\"  Nächste Email:  \"+\"-\"*50)"
   ]
  },
  {
   "cell_type": "code",
   "execution_count": null,
   "metadata": {},
   "outputs": [],
   "source": []
  },
  {
   "cell_type": "markdown",
   "metadata": {},
   "source": [
    "Parkplatz"
   ]
  },
  {
   "cell_type": "code",
   "execution_count": null,
   "metadata": {},
   "outputs": [],
   "source": []
  },
  {
   "cell_type": "code",
   "execution_count": null,
   "metadata": {},
   "outputs": [],
   "source": []
  },
  {
   "cell_type": "code",
   "execution_count": null,
   "metadata": {},
   "outputs": [],
   "source": [
    "mail = auth()\n",
    "folder = 'Mailtest'\n",
    "mail.select(folder)"
   ]
  },
  {
   "cell_type": "code",
   "execution_count": null,
   "metadata": {},
   "outputs": [],
   "source": []
  },
  {
   "cell_type": "code",
   "execution_count": null,
   "metadata": {},
   "outputs": [],
   "source": []
  },
  {
   "cell_type": "code",
   "execution_count": null,
   "metadata": {},
   "outputs": [],
   "source": [
    "# tutorial:\n",
    "# Day 30: Login with IMAP in Python Programming: https://youtu.be/Gql_NQv3ND4\n",
    "\n",
    "mail = auth()\n",
    "folder = 'Mailtest'\n",
    "mail.select(folder)\n",
    "\n",
    "result, data = mail.uid('search', None, 'All')\n",
    "folder_item_list = data[0].split()\n",
    "print(folder_item_list)\n",
    "\n",
    "\n",
    "from bs4 import BeautifulSoup\n",
    "import mimetypes\n",
    "\n",
    "for item in folder_item_list: \n",
    "    \n",
    "    res, email_data = mail.uid('fetch', item, '(RFC822)')\n",
    "    \n",
    "#     raw_email = email_data[0][1].decode('utf-8')\n",
    "#     email_message = email.message_from_string(raw_email)\n",
    "    raw_email = email_data[0][1]\n",
    "    email_message = email.message_from_bytes(raw_email)\n",
    "    \n",
    "    \n",
    "    to_  = email_message[\"To\"]\n",
    "    from_ = email_message[\"From\"]\n",
    "    subject_ = email_message[\"Subject\"]\n",
    "    date_ = date_parser.parse(email_message['date']).strftime (\"%d-%m-%Y\")\n",
    "    print(f\"Email vom {date_}, Betreff: {subject_}\")\n",
    "    \n",
    "    counter = 1\n",
    "    for part in email_message.walk():\n",
    "        if part.get_content_maintype() == 'multipart':\n",
    "            continue\n",
    "        \n",
    "        filename = part.get_filename()\n",
    "        content_type = part.get_content_type()\n",
    "        \n",
    "        if not filename:\n",
    "            ext = mimetypes.guess_extension(part.get_content_type())\n",
    "            if 'text' in content_type:\n",
    "                ext = '.txt'\n",
    "            if not ext:\n",
    "                ext = '.bin'\n",
    "            \n",
    "            elif 'html' in content_type:\n",
    "                ext = '.html'\n",
    "                \n",
    "            filename = 'msg-part-%08d%s' %(counter, ext)\n",
    "        counter += 1\n",
    "        print(filename)\n",
    "        \n",
    "    # Save File\n",
    "    save_path = os.path.join(os.getcwd(), \"emails\", date_,)\n",
    "    if not os.path.exists(save_path):\n",
    "        os.makedirs(save_path)\n",
    "    with open(os.path.join(save_path, filename), 'wb') as fp:\n",
    "        fp.write(part.get_payload(decode=True))\n",
    "    \n",
    " \n",
    "    # print(subject_)\n",
    "    print(content_type)    \n",
    "    \n",
    "    if \"plain\" in content_type:\n",
    "#       print(part.get_payload())\n",
    "        pass\n",
    "    \n",
    "    elif \"html\" in content_type:\n",
    "        html_ = part.get_payload()\n",
    "        soup = BeautifulSoup(html_, \"html.parser\")\n",
    "        text = soup.get_text()\n",
    "        # print(text)\n",
    "\n",
    "    else:\n",
    "        pass #print(content_type)\n",
    "\n",
    "\n",
    "\n",
    "\n",
    "\n",
    "            \n",
    "        \n",
    "#     email_message.get_payload()"
   ]
  },
  {
   "cell_type": "code",
   "execution_count": null,
   "metadata": {},
   "outputs": [],
   "source": [
    "os.getcwd()"
   ]
  },
  {
   "cell_type": "code",
   "execution_count": null,
   "metadata": {},
   "outputs": [],
   "source": []
  },
  {
   "cell_type": "code",
   "execution_count": null,
   "metadata": {},
   "outputs": [],
   "source": []
  },
  {
   "cell_type": "code",
   "execution_count": null,
   "metadata": {},
   "outputs": [],
   "source": []
  },
  {
   "cell_type": "code",
   "execution_count": null,
   "metadata": {},
   "outputs": [],
   "source": []
  },
  {
   "cell_type": "code",
   "execution_count": null,
   "metadata": {},
   "outputs": [],
   "source": []
  },
  {
   "cell_type": "code",
   "execution_count": null,
   "metadata": {},
   "outputs": [],
   "source": []
  },
  {
   "cell_type": "code",
   "execution_count": null,
   "metadata": {},
   "outputs": [],
   "source": [
    "# tutorial:\n",
    "# Day 30: Login with IMAP in Python Programming: https://youtu.be/Gql_NQv3ND4\n",
    "\n",
    "mail = auth()\n",
    "folder = 'Mailtest'\n",
    "mail.select(folder)\n",
    "\n",
    "result, data = mail.uid('search', None, 'All')\n",
    "folder_item_list = data[0].split()\n",
    "res, email_data = mail.uid('fetch', b'1', '(RFC822)')\n",
    "raw_email = email_data[0][1].decode('utf-8')\n",
    "email_message = email.message_from_string(raw_email)\n",
    "email_message[\"from\"]"
   ]
  },
  {
   "cell_type": "code",
   "execution_count": null,
   "metadata": {},
   "outputs": [],
   "source": [
    "msg = MIMEText(\"döner\",\"utf-8\")\n",
    "\n",
    "print(msg)"
   ]
  },
  {
   "cell_type": "code",
   "execution_count": null,
   "metadata": {},
   "outputs": [],
   "source": [
    "from email.mime.text import MIMEText\n",
    "txt = MIMEText(raw_msg[\"From\"], 'utf-8', 'latin-1')\n",
    "print(txt)\n",
    "# msg = MIMEText(\"döner\",\"utf-8\")"
   ]
  },
  {
   "cell_type": "code",
   "execution_count": null,
   "metadata": {},
   "outputs": [],
   "source": []
  },
  {
   "cell_type": "code",
   "execution_count": null,
   "metadata": {},
   "outputs": [],
   "source": [
    "import email\n",
    "\n",
    "# we'll search using the ALL criteria to retrieve\n",
    "# every message inside the inbox\n",
    "# it will return with its status and a list of ids\n",
    "status, data = mail.search(None, 'ALL')\n",
    "# the list returned is a list of bytes separated\n",
    "# by white spaces on this format: [b'1 2 3', b'4 5 6']\n",
    "# so, to separate it first we create an empty list\n",
    "mail_ids = []\n",
    "# then we go through the list splitting its blocks\n",
    "# of bytes and appending to the mail_ids list\n",
    "for block in data:\n",
    "    # the split function called without parameter\n",
    "    # transforms the text or bytes into a list using\n",
    "    # as separator the white spaces:\n",
    "    # b'1 2 3'.split() => [b'1', b'2', b'3']\n",
    "    mail_ids += block.split()\n",
    "\n",
    "# now for every id we'll fetch the email\n",
    "# to extract its content\n",
    "for i in mail_ids:\n",
    "    # the fetch function fetch the email given its id\n",
    "    # and format that you want the message to be\n",
    "    status, data = mail.fetch(i, '(RFC822)')\n",
    "\n",
    "    # the content data at the '(RFC822)' format comes on\n",
    "    # a list with a tuple with header, content, and the closing\n",
    "    # byte b')'\n",
    "    for response_part in data:\n",
    "        # so if its a tuple...\n",
    "        if isinstance(response_part, tuple):\n",
    "            # we go for the content at its second element\n",
    "            # skipping the header at the first and the closing\n",
    "            # at the third\n",
    "            message = email.message_from_bytes(response_part[1])\n",
    "         \n",
    "            # with the content we can extract the info about\n",
    "            # who sent the message and its subject\n",
    "            mail_from = message['from']\n",
    "            mail_subject = message['subject']\n",
    "\n",
    "            # then for the text we have a little more work to do\n",
    "            # because it can be in plain text or multipart\n",
    "            # if its not plain text we need to separate the message\n",
    "            # from its annexes to get the text\n",
    "            if message.is_multipart():\n",
    "                mail_content = ''\n",
    "\n",
    "                # on multipart we have the text message and\n",
    "                # another things like annex, and html version\n",
    "                # of the message, in that case we loop through\n",
    "                # the email payload\n",
    "                for part in message.get_payload():\n",
    "                    # if the content type is text/plain\n",
    "                    # we extract it\n",
    "                    if part.get_content_type() == 'text/plain':\n",
    "                        mail_content += part.get_payload()\n",
    "            else:\n",
    "                # if the message isn't multipart, just extract it\n",
    "                mail_content = message.get_payload()\n",
    "\n",
    "            # and then let's show its result\n",
    "            print(\"#\"*40+\" NEXT EMAIL \"+\"#\"*40)\n",
    "            print(f'From: {mail_from}')\n",
    "            print(f'Subject: {mail_subject}')\n",
    "            print(f'Content: {mail_content}')\n",
    "            "
   ]
  }
 ],
 "metadata": {
  "kernelspec": {
   "display_name": "Python 3",
   "language": "python",
   "name": "python3"
  },
  "language_info": {
   "codemirror_mode": {
    "name": "ipython",
    "version": 3
   },
   "file_extension": ".py",
   "mimetype": "text/x-python",
   "name": "python",
   "nbconvert_exporter": "python",
   "pygments_lexer": "ipython3",
   "version": "3.7.6"
  }
 },
 "nbformat": 4,
 "nbformat_minor": 4
}
