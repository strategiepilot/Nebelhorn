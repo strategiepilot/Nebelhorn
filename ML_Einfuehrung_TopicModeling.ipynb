{
 "cells": [
  {
   "cell_type": "code",
   "execution_count": null,
   "metadata": {},
   "outputs": [],
   "source": []
  },
  {
   "cell_type": "markdown",
   "metadata": {},
   "source": [
    "imports ..."
   ]
  },
  {
   "cell_type": "code",
   "execution_count": 2,
   "metadata": {},
   "outputs": [],
   "source": [
    "import pandas as pd\n",
    "import numpy as np\n",
    "import matplotlib.pyplot as plt\n",
    "import seaborn as sns\n",
    "import os\n"
   ]
  },
  {
   "cell_type": "markdown",
   "metadata": {},
   "source": [
    "***\n",
    "##  10 Thousand German News Dataset - Topic Classification"
   ]
  },
  {
   "cell_type": "markdown",
   "metadata": {},
   "source": [
    "Wir laden das 10k German News Dataset. Es enthält ca. 10k Online News-Artikel einer österreichischen Tageszeitung.  \n",
    "Die Artikel wurden von (menschlichen) Annotierern in verschiedene thematische Klassen eingeteilt.  \n",
    "Jeder Artikel ist genau einer der folgenden neun Kategorien zugeordnet:  \n",
    "\n",
    "+ 'Etat'\n",
    "+ 'Inland'\n",
    "+ 'International'\n",
    "+ 'Kultur'\n",
    "+ 'Panorama'\n",
    "+ 'Sport'\n",
    "+ 'Web'\n",
    "+ 'Wirtschaft'\n",
    "+ 'Wissenschaft'\n",
    "\n",
    "Mehr Details zum Datenset unter: https://tblock.github.io/10kGNAD/\n",
    "  \n",
    "Zunächst laden wir das Datenset in einen Dataframe \"gnd\""
   ]
  },
  {
   "cell_type": "code",
   "execution_count": 3,
   "metadata": {},
   "outputs": [
    {
     "name": "stdout",
     "output_type": "stream",
     "text": [
      "Umfang des Datensets: (9245, 2)\n"
     ]
    },
    {
     "data": {
      "text/html": [
       "<div>\n",
       "<style scoped>\n",
       "    .dataframe tbody tr th:only-of-type {\n",
       "        vertical-align: middle;\n",
       "    }\n",
       "\n",
       "    .dataframe tbody tr th {\n",
       "        vertical-align: top;\n",
       "    }\n",
       "\n",
       "    .dataframe thead th {\n",
       "        text-align: right;\n",
       "    }\n",
       "</style>\n",
       "<table border=\"1\" class=\"dataframe\">\n",
       "  <thead>\n",
       "    <tr style=\"text-align: right;\">\n",
       "      <th></th>\n",
       "      <th>label</th>\n",
       "      <th>text</th>\n",
       "    </tr>\n",
       "  </thead>\n",
       "  <tbody>\n",
       "    <tr>\n",
       "      <th>0</th>\n",
       "      <td>Sport</td>\n",
       "      <td>21-Jähriger fällt wohl bis Saisonende aus. Wien – Rapid muss wohl bis Saisonende auf Offensivspieler Thomas Murg verzichten. Der im Winter aus Ried gekommene 21-Jährige erlitt beim 0:4-Heimdebakel gegen Admira Wacker Mödling am Samstag einen Teilriss des Innenbandes im linken Knie, wie eine Magnetresonanz-Untersuchung am Donnerstag ergab. Murg erhielt eine Schiene, muss aber nicht operiert werden. Dennoch steht ihm eine mehrwöchige Pause bevor.</td>\n",
       "    </tr>\n",
       "    <tr>\n",
       "      <th>1</th>\n",
       "      <td>Kultur</td>\n",
       "      <td>Erfundene Bilder zu Filmen, die als verloren gelten: \"The Forbidden Room\" von Guy Maddin und Evan Johnson ist ein surrealer Ritt durch die magischen Labyrinthe des frühen Kinos. Wien – Die Filmgeschichte ist ein Friedhof der Verlorenen. Unter den Begrabenen finden sich zahllose Filme, von denen nur noch mysteriös oder abenteuerlich klingende Namen kursieren; und solche, über die verstreut herumliegendes Sekundärmaterial Aufschluss erlaubt. Einer davon ist The Forbidden Room, ein Two-Reeler von 1913/14, den der arbeitswütige US-Regisseur Allan Dwan u. a. mit dem Horrordarsteller Lon Chaney gedreht hat. Ein passender Titel für einen Film, der als verschollen gilt. Verbote sind Einladungen zur Überschreitung. Einen ähnlichen Gedanken hatte wohl auch der kanadische Experimentalfilmemacher Guy Maddin, als er seinem Film von 2015 den gleichen Titel gab. Gemeinsam mit seinem Koregisseur Evan Johnson hat er vergessene, verschwundene Arbeiten der Film geschichte zum Ausgangspunkt einer Neuerfindung erkoren. Um historische Genauigkeit geht es ihnen dabei freilich nicht, erlaubt ist vielmehr alles, was die Fantasie so ausspuckt. Arg angespannte Szenen in einem U-Boot, dessen Besatzung tief im Ozean mit einer Art explosivem Gelee umhertaucht und Sauerstoff mit Pfannkuchen generiert. Oder die Erinnerungen eines Schnurrbarts, der sich auf die Oberlippe des Sohnes eines Toten heftet, um derart der Witwe Trost zu spenden. Letzteres die frei erfundene Handlung eines Mikio-Naruse-Films mit dem Titel The Strength of a Moustache. Immer neue Volten schlägt die Handlung, verläuft dabei kaum jemals linear, sondern gibt sich sprunghaft, surreal dem Unerwarteten hin, irgendwo zwischen Jules Verne, Jacques Tourneur, F. W. Murnau und dem von Maddin verehrten Modernisten Raymond Roussel. Der britische Guardian beschrieb das Ergebnis so: als würde man unter der Einwirkung von LSD durch ein Filmarchiv wandeln. Das Rausch- oder zumindest Traumähnliche teilt diese Arbeit Maddins mit seinen früheren, die kürzer dimensioniert waren. The Forbidden Room ist durch seine Dauer von mehr als zwei Stunden schon nahe an der Überdosis, soll heißen: Die Überforderung ist Programm. Maddin und Johnson geben sich mit keinen Häppchen zufrieden, sondern wollen ein immersives Seherlebnis ermöglichen, in einem mehr an Filmpionier Georges Méliès orientierten Sinne. Sie nehmen die fantastische Qualität des Kinos als seine eigentliche Realität wahr – eine wild Bilder pumpende, an unsere Psyche gekoppelte (und daher auch manchmal humorvoll kindliche) Maschine, wie sie schon in Maddins Kurzfilm The Heart of the World (2000) zur Geltung kam. Wer nach einem Zusammenhang sucht, findet ihn im Bekenntnis zur Abschweifung. Die Verbindung von einem Waldarbeiter (Roy Dupuis), der der Spur einer verschwundenen Frau folgt, zu einem (von Udo Kier verkörperten) Arzt mit einem Fetisch für Gesäße oder zu jenem seltsamen Reklamemenschen, der dem Zuschauer erklärt, wie man das perfekte Bad nimmt – sie liegt allenfalls in der Oberfläche, jener digital in der Postproduktion hergestellten Ästhetik des frühen Kinos, die The Forbidden Room wie ein Gespenst des analogen Zeitalters wachruft. Künstlich verwittert Die Farben der Laufbilder, die auf das eingeschränkte Zwei-Farben-Technicolor-Verfahren verweisen, sind künstlich heruntergestuft, als wäre das Filmmaterial der Verwitterung ausgesetzt gewesen; manche Doppelbelichtungen wirken so, als wären die Mate rialien ineinandergeschmolzen. Auch mit Zwischentiteln und dem weitgehenden Verzicht auf herkömmliche Dialoge schließen Maddin und Evan an den Stummfilm an, dessen stilistische Bandbreite sie in der Montage und szenischen Regie spielerisch betonen und ausagieren. Die Amnesie, heißt es in diesem visuell betörenden Film einmal, befällt jene Menschen, zu denen die Figuren aus der Ferne zurückkehren. Der Gedanke lässt sich auch auf die Bilder des Films anwenden: Er enthält die Fragmente eines Kinos, an das wir uns nicht mehr erinnern können, weil wir es für verloren hielten.</td>\n",
       "    </tr>\n",
       "    <tr>\n",
       "      <th>2</th>\n",
       "      <td>Web</td>\n",
       "      <td>Der frischgekürte CEO Sundar Pichai setzt auf ein umgänglicheres Führungsteam. Die Atmosphäre im Silicon Valley ist rau. Da werden massenhaft Mitarbeiter der direkten Konkurrenz abgeworben, Löhne mit firmenübergreifenden Mauscheleien niedrig gehalten und Untergebene wegen leicht verfehlter Ziele vor die Tür gesetzt. Auch in der höchsten Firmenebene werden brutale Umgangsformen gepflegt: Die Wutausbrüche von Apple-Mitgründer Steve Jobs sind legendär, sein früherer Geschäftspartner Steve Wozniak hätte ihn zu Lebzeiten gerne als Arschloch beschimpft, traute sich aber nicht. Auch Google-Mitgründer Larry Page gilt als Choleriker, für den ein humaner Umgang mit Mitarbeitern nicht an erster Stelle steht. Doch die Zeiten des harten Management-Stils sind bei Google vorbei. Das belegen zahlreiche ehemalige Mitarbeiter und Geschäftspartner. Wie ein Ex-Manager gegenüber re:code pointiert verlautbart: Alle Arschlöcher sind jetzt weg. Verantwortlich dafür zeichnet sich Sundar Pichai, der nach Googles großer Umstrukturierung (Gründung des Dachunternehmens Alphabet) zum CEO des Suchmaschinisten wurde. In den wenigen Monaten als Google-Chef hat Pichai nun bereits einige Umstrukturierungen vorgenommen – und erhält dafür viel Lob aus der Branche. So wurde beispielsweise Hiroshi Lockheimer zum Android-Chef gemacht. Ehemalige Kollegen, etwa Motorola-Präsident Rick Osterloh, schwärmen von ihm als großartigen Typen, den man sehr gern hat. So soll Lockheimer dafür gesorgt haben, dass alle Smartphone-Hersteller, die auf Android setzen, gleichberechtigten Zugang zu Entwicklungen des Betriebssystems haben – auch, als Motorola noch zu Google gehörte. Ein anderes Beispiel ist Philipp Schindler, der Googles Werbegeschäft leiten soll. Medienpartner beschreiben ihn als kompromissbereit und umgänglich. Gelernt hat Schindler das in Europa, wo er Google jahrelang gegen Monopol-Vorwürfe aus Regierungskreisen verteidigen musste. Älterer Semester im Google-Umfeld befürchten laut re:code allerdings, dass ein softes Google wichtige Scharmützel verlieren wird. Doch die Zeit der ausgefahrenen Ellbogen ist vorerst vorbei.</td>\n",
       "    </tr>\n",
       "    <tr>\n",
       "      <th>3</th>\n",
       "      <td>Wirtschaft</td>\n",
       "      <td>Putin: \"Einigung, dass wir Menge auf Niveau von Jänner halten\". Moskau – Die russischen Ölproduzenten wollen nach den Worten von Präsident Wladimir Putin ihre Förderung in diesem Jahr einfrieren. Im Großen und Ganzen wurde eine Einigung erzielt, dass wir die Ölproduktion auf dem Niveau von Jänner halten werden, sagte Putin am Mittwoch in Moskau. Russland leidet wie andere Förderstaaten unter dem drastischen Einbruch der Ölpreise. Putin will die Preise durch eine begrenzte Förderung im In- und Ausland stabilisieren. Dazu hatte Russland jüngst mit Saudi-Arabien und anderen großen Förderländern über ein Einfrieren der Produktion auf dem Jänner-Niveau beraten.</td>\n",
       "    </tr>\n",
       "    <tr>\n",
       "      <th>4</th>\n",
       "      <td>Inland</td>\n",
       "      <td>Estland sieht den künftigen österreichischen Präsidenten auch als estnischen Staatsbürger. Wien/Tallinn/Pskow – Die Eltern des künftigen Bundespräsidenten waren 1941 aus dem von Sowjets besetzten Estland in das damalige Deutsche Reich geflohen, wo 1944 in Wien Sascha Van der Bellen zur Welt kam. Estnische Verwandte jubelten am Dienstag über dessen Wahlsieg, Freude herrscht auch unter Politikern des Landes. Interesse an Van der Bellen gibt es auch in der russischen Stadt Pskow, der Geburtsstadt seiner Eltern. Wir haben von ganzem Herzen und mit der ganzen Familie mitgefiebert, sagt Irina Steinberg, eine Cousine des künftigen Präsidenten. Der Sonntag sei für sie deshalb ein großer Stress gewesen, erzählt Steinberg im Telefonat mit der APA. Sein Sieg zeugt davon, dass die österreichische Intelligenzija, die denkenden Menschen, für Sascha gestimmt haben, so die studierte Philologin, die in einem Dorf im Süden Estlands lebt. Freudig wird der Wahlsieg des ehemaligen Grünen-Chefs auch von estnischen Politikern kommentiert. Die Wahl eines Präsidenten mit estnischen Wurzeln schafft günstige Bedingungen für eine engere Zusammenarbeit zwischen Estland und Österreich, erklärt der Vorsitzende des außenpolitischen Ausschusses im estnischen Parlament, Sven Mikser. Da Estland aber auch den Aufschwung europaskeptischer Kräfte mit Sorge beobachte, sei er froh, dass sich die Österreicher für Van der Bellen entscheiden haben, sagt der Vertreter der Sozialdemokratischen Partei Estlands gegenüber der APA. Das Wahlergebnis ist ein guter Grund, den Österreichern gleich doppelt zu gratulieren, betont der ehemalige Außenminister und nunmehrige liberale Europaparlamentsabgeordnete Urmas Paet. Van der Bellen sei für die jetzige Zeit eine sehr vernünftige Wahl, sie sei gut für Europa und Österreich, sagt Paet im Gespräch mit der APA. Für Estland und das estnische Volk spielt aber auch die Tatsache eine Rolle, dass Österreich einen estnischen Staatsbürger zum Präsidenten gewählt hat. Nach Auskunft des estnischen Außenministeriums gelten Kinder von Bewohnern des 1940 zerstörten unabhängigen Estland, die vor dem 16. Juni 1940 über die estnische Staatsbürgerschaft verfügten, automatisch als Staatsbürger des nunmehrigen Estland. Der APA vorliegende Dokumente des estnischen Staatsarchivs und des deutschen Bundesarchivs belegen, dass Alma und Alexander Van der Bellen senior, die Eltern des künftigen Präsidenten, damals im Besitz der estnischen Staatsbürgerschaft waren. Interesse am künftigen Präsidenten zeigt aber auch Pskow, das im Westen Russland an der heutigen estnischen Grenze liegt. Die ursprünglich aus Holland stammende Familie war hier im 19. Jahrhundert in den russischen Adelstand erhoben worden, insbesondere der ebenso gleichnamige Großvater von Alexander Van der Bellen hatte vor der Oktoberrevolution des Jahres 1917 eine tragende politische Funktion in der Region gespielt. Nach der bürgerlichen Februarrevolution von 1917 war dieser Vertreter eines russischen Liberalismus zum Kommissar der Übergangsregierung für das Gouvernement Pskow und somit zum lokalen Regierungschef ernannt worden. In einigen Lokalmedien finden sich Schlagzeilen, in denen vom Sieg des Nachfahren eines Aristokraten aus Pskow oder des Enkels des Pskower Gouverneurs die Rede ist, berichtet der Direktor des Archivs der Region Pskow, Waleri Kusmin. In diesem Archiv finden sich zahlreiche Akten zur Familie Van der Bellen, insbesondere zur politischen Tätigkeit der Vorfahren. Kusmin geht im Gespräch mit der APA davon aus, dass in der nächsten Zeit auch einige wissenschaftliche Publikationen über die Van der Bellens in Pskow erscheinen werden. Die Geschichte dieser Kleinaristokraten in Pskow ging nach der Machtübernahme der Bolschewiken zu Ende: 1919 floh die Familie, darunter die Großeltern und der Vater des künftigen Präsidenten, nach Estland. Als die Sowjets 1940 Estland eroberten, floh man erneut Richtung Westen. Van der Bellens Vater hatte zu diesem Zeitpunkt aufgrund seiner Herkunft und insbesondere als international tätiger Banker Repressionen des sowjetischen Geheimdiensts NKWD zu befürchten. Die Flucht ging zunächst nach Wien und Ende 1944, Anfang 1945 und somit rechtzeitig vor dem Eintreffen der Rote Armee in Ostösterreich weiter nach Tirol, wo Van der Bellen senior eine Existenz im Außenhandel aufbauen konnte und zudem ein künftiger Präsident heranwachsen sollte.</td>\n",
       "    </tr>\n",
       "  </tbody>\n",
       "</table>\n",
       "</div>"
      ],
      "text/plain": [
       "        label  \\\n",
       "0       Sport   \n",
       "1      Kultur   \n",
       "2         Web   \n",
       "3  Wirtschaft   \n",
       "4      Inland   \n",
       "\n",
       "                                                                                                                                                                                                                                                                                                                                                                                                                                                                                                                                                                                                                                                                                                                                                                                                                                                                                                                                                                                                                                                                                                                                                                                                                                                                                                                                                                                                                                                                                                                                                                                                                                                                                                                                                                                                                                                                                                                                                                                                                                                                                                                                                                                                                                                                                                                                                                                                                                                                                                                                                                                                                                                                                                                                                                                                                                                                                                                                                                                                                                                                                                                                                                                                                                                                                                                                                                                                                                                                                                                                                                                                                                                                                                                                                                                                                                                                                                                                                                                                                                                                                                                                                                                                                                                                                                                                                                                                                                                                                                                                                                        text  \n",
       "0                                                                                                                                                                                                                                                                                                                                                                                                                                                                                                                                                                                                                                                                                                                                                                                                                                                                                                                                                                                                                                                                                                                                                                                                                                                                                                                                                                                                                                                                                                                                                                                                                                                                                                                                                                                                                                                                                                                                                                                                                                                                                                                                                                                                                                                                                                                                                                                                                                                                                                                                                                                                                                                                                                                                                                                                                                                                                                                                                                                                                                                                                                                                                                                                                                                                                                                                                                                                                                                                                                                                                                                                                                                                                                                                                                                                                                                                                                                                                                                                                                                                                                           21-Jähriger fällt wohl bis Saisonende aus. Wien – Rapid muss wohl bis Saisonende auf Offensivspieler Thomas Murg verzichten. Der im Winter aus Ried gekommene 21-Jährige erlitt beim 0:4-Heimdebakel gegen Admira Wacker Mödling am Samstag einen Teilriss des Innenbandes im linken Knie, wie eine Magnetresonanz-Untersuchung am Donnerstag ergab. Murg erhielt eine Schiene, muss aber nicht operiert werden. Dennoch steht ihm eine mehrwöchige Pause bevor.  \n",
       "1                                                                                                                                                                                                                                                                                                                                                                                       Erfundene Bilder zu Filmen, die als verloren gelten: \"The Forbidden Room\" von Guy Maddin und Evan Johnson ist ein surrealer Ritt durch die magischen Labyrinthe des frühen Kinos. Wien – Die Filmgeschichte ist ein Friedhof der Verlorenen. Unter den Begrabenen finden sich zahllose Filme, von denen nur noch mysteriös oder abenteuerlich klingende Namen kursieren; und solche, über die verstreut herumliegendes Sekundärmaterial Aufschluss erlaubt. Einer davon ist The Forbidden Room, ein Two-Reeler von 1913/14, den der arbeitswütige US-Regisseur Allan Dwan u. a. mit dem Horrordarsteller Lon Chaney gedreht hat. Ein passender Titel für einen Film, der als verschollen gilt. Verbote sind Einladungen zur Überschreitung. Einen ähnlichen Gedanken hatte wohl auch der kanadische Experimentalfilmemacher Guy Maddin, als er seinem Film von 2015 den gleichen Titel gab. Gemeinsam mit seinem Koregisseur Evan Johnson hat er vergessene, verschwundene Arbeiten der Film geschichte zum Ausgangspunkt einer Neuerfindung erkoren. Um historische Genauigkeit geht es ihnen dabei freilich nicht, erlaubt ist vielmehr alles, was die Fantasie so ausspuckt. Arg angespannte Szenen in einem U-Boot, dessen Besatzung tief im Ozean mit einer Art explosivem Gelee umhertaucht und Sauerstoff mit Pfannkuchen generiert. Oder die Erinnerungen eines Schnurrbarts, der sich auf die Oberlippe des Sohnes eines Toten heftet, um derart der Witwe Trost zu spenden. Letzteres die frei erfundene Handlung eines Mikio-Naruse-Films mit dem Titel The Strength of a Moustache. Immer neue Volten schlägt die Handlung, verläuft dabei kaum jemals linear, sondern gibt sich sprunghaft, surreal dem Unerwarteten hin, irgendwo zwischen Jules Verne, Jacques Tourneur, F. W. Murnau und dem von Maddin verehrten Modernisten Raymond Roussel. Der britische Guardian beschrieb das Ergebnis so: als würde man unter der Einwirkung von LSD durch ein Filmarchiv wandeln. Das Rausch- oder zumindest Traumähnliche teilt diese Arbeit Maddins mit seinen früheren, die kürzer dimensioniert waren. The Forbidden Room ist durch seine Dauer von mehr als zwei Stunden schon nahe an der Überdosis, soll heißen: Die Überforderung ist Programm. Maddin und Johnson geben sich mit keinen Häppchen zufrieden, sondern wollen ein immersives Seherlebnis ermöglichen, in einem mehr an Filmpionier Georges Méliès orientierten Sinne. Sie nehmen die fantastische Qualität des Kinos als seine eigentliche Realität wahr – eine wild Bilder pumpende, an unsere Psyche gekoppelte (und daher auch manchmal humorvoll kindliche) Maschine, wie sie schon in Maddins Kurzfilm The Heart of the World (2000) zur Geltung kam. Wer nach einem Zusammenhang sucht, findet ihn im Bekenntnis zur Abschweifung. Die Verbindung von einem Waldarbeiter (Roy Dupuis), der der Spur einer verschwundenen Frau folgt, zu einem (von Udo Kier verkörperten) Arzt mit einem Fetisch für Gesäße oder zu jenem seltsamen Reklamemenschen, der dem Zuschauer erklärt, wie man das perfekte Bad nimmt – sie liegt allenfalls in der Oberfläche, jener digital in der Postproduktion hergestellten Ästhetik des frühen Kinos, die The Forbidden Room wie ein Gespenst des analogen Zeitalters wachruft. Künstlich verwittert Die Farben der Laufbilder, die auf das eingeschränkte Zwei-Farben-Technicolor-Verfahren verweisen, sind künstlich heruntergestuft, als wäre das Filmmaterial der Verwitterung ausgesetzt gewesen; manche Doppelbelichtungen wirken so, als wären die Mate rialien ineinandergeschmolzen. Auch mit Zwischentiteln und dem weitgehenden Verzicht auf herkömmliche Dialoge schließen Maddin und Evan an den Stummfilm an, dessen stilistische Bandbreite sie in der Montage und szenischen Regie spielerisch betonen und ausagieren. Die Amnesie, heißt es in diesem visuell betörenden Film einmal, befällt jene Menschen, zu denen die Figuren aus der Ferne zurückkehren. Der Gedanke lässt sich auch auf die Bilder des Films anwenden: Er enthält die Fragmente eines Kinos, an das wir uns nicht mehr erinnern können, weil wir es für verloren hielten.  \n",
       "2                                                                                                                                                                                                                                                                                                                                                                                                                                                                                                                                                                                                                                                                                                                                                                                                                                                                                                                                                                                                                                                                                                                                                                                                                                                                                                                                                                                                                                                                                                                                                                                                                                                                                                                                                                                                                                                                                                                                                                                                                                                                                                                                                                                                                                                                                                                                                                       Der frischgekürte CEO Sundar Pichai setzt auf ein umgänglicheres Führungsteam. Die Atmosphäre im Silicon Valley ist rau. Da werden massenhaft Mitarbeiter der direkten Konkurrenz abgeworben, Löhne mit firmenübergreifenden Mauscheleien niedrig gehalten und Untergebene wegen leicht verfehlter Ziele vor die Tür gesetzt. Auch in der höchsten Firmenebene werden brutale Umgangsformen gepflegt: Die Wutausbrüche von Apple-Mitgründer Steve Jobs sind legendär, sein früherer Geschäftspartner Steve Wozniak hätte ihn zu Lebzeiten gerne als Arschloch beschimpft, traute sich aber nicht. Auch Google-Mitgründer Larry Page gilt als Choleriker, für den ein humaner Umgang mit Mitarbeitern nicht an erster Stelle steht. Doch die Zeiten des harten Management-Stils sind bei Google vorbei. Das belegen zahlreiche ehemalige Mitarbeiter und Geschäftspartner. Wie ein Ex-Manager gegenüber re:code pointiert verlautbart: Alle Arschlöcher sind jetzt weg. Verantwortlich dafür zeichnet sich Sundar Pichai, der nach Googles großer Umstrukturierung (Gründung des Dachunternehmens Alphabet) zum CEO des Suchmaschinisten wurde. In den wenigen Monaten als Google-Chef hat Pichai nun bereits einige Umstrukturierungen vorgenommen – und erhält dafür viel Lob aus der Branche. So wurde beispielsweise Hiroshi Lockheimer zum Android-Chef gemacht. Ehemalige Kollegen, etwa Motorola-Präsident Rick Osterloh, schwärmen von ihm als großartigen Typen, den man sehr gern hat. So soll Lockheimer dafür gesorgt haben, dass alle Smartphone-Hersteller, die auf Android setzen, gleichberechtigten Zugang zu Entwicklungen des Betriebssystems haben – auch, als Motorola noch zu Google gehörte. Ein anderes Beispiel ist Philipp Schindler, der Googles Werbegeschäft leiten soll. Medienpartner beschreiben ihn als kompromissbereit und umgänglich. Gelernt hat Schindler das in Europa, wo er Google jahrelang gegen Monopol-Vorwürfe aus Regierungskreisen verteidigen musste. Älterer Semester im Google-Umfeld befürchten laut re:code allerdings, dass ein softes Google wichtige Scharmützel verlieren wird. Doch die Zeit der ausgefahrenen Ellbogen ist vorerst vorbei.  \n",
       "3                                                                                                                                                                                                                                                                                                                                                                                                                                                                                                                                                                                                                                                                                                                                                                                                                                                                                                                                                                                                                                                                                                                                                                                                                                                                                                                                                                                                                                                                                                                                                                                                                                                                                                                                                                                                                                                                                                                                                                                                                                                                                                                                                                                                                                                                                                                                                                                                                                                                                                                                                                                                                                                                                                                                                                                                                                                                                                                                                                                                                                                                                                                                                                                                                                                                                                                                                                                                                                                                                                                                                                                                                                                                                                                                                                                                                                                                                   Putin: \"Einigung, dass wir Menge auf Niveau von Jänner halten\". Moskau – Die russischen Ölproduzenten wollen nach den Worten von Präsident Wladimir Putin ihre Förderung in diesem Jahr einfrieren. Im Großen und Ganzen wurde eine Einigung erzielt, dass wir die Ölproduktion auf dem Niveau von Jänner halten werden, sagte Putin am Mittwoch in Moskau. Russland leidet wie andere Förderstaaten unter dem drastischen Einbruch der Ölpreise. Putin will die Preise durch eine begrenzte Förderung im In- und Ausland stabilisieren. Dazu hatte Russland jüngst mit Saudi-Arabien und anderen großen Förderländern über ein Einfrieren der Produktion auf dem Jänner-Niveau beraten.  \n",
       "4  Estland sieht den künftigen österreichischen Präsidenten auch als estnischen Staatsbürger. Wien/Tallinn/Pskow – Die Eltern des künftigen Bundespräsidenten waren 1941 aus dem von Sowjets besetzten Estland in das damalige Deutsche Reich geflohen, wo 1944 in Wien Sascha Van der Bellen zur Welt kam. Estnische Verwandte jubelten am Dienstag über dessen Wahlsieg, Freude herrscht auch unter Politikern des Landes. Interesse an Van der Bellen gibt es auch in der russischen Stadt Pskow, der Geburtsstadt seiner Eltern. Wir haben von ganzem Herzen und mit der ganzen Familie mitgefiebert, sagt Irina Steinberg, eine Cousine des künftigen Präsidenten. Der Sonntag sei für sie deshalb ein großer Stress gewesen, erzählt Steinberg im Telefonat mit der APA. Sein Sieg zeugt davon, dass die österreichische Intelligenzija, die denkenden Menschen, für Sascha gestimmt haben, so die studierte Philologin, die in einem Dorf im Süden Estlands lebt. Freudig wird der Wahlsieg des ehemaligen Grünen-Chefs auch von estnischen Politikern kommentiert. Die Wahl eines Präsidenten mit estnischen Wurzeln schafft günstige Bedingungen für eine engere Zusammenarbeit zwischen Estland und Österreich, erklärt der Vorsitzende des außenpolitischen Ausschusses im estnischen Parlament, Sven Mikser. Da Estland aber auch den Aufschwung europaskeptischer Kräfte mit Sorge beobachte, sei er froh, dass sich die Österreicher für Van der Bellen entscheiden haben, sagt der Vertreter der Sozialdemokratischen Partei Estlands gegenüber der APA. Das Wahlergebnis ist ein guter Grund, den Österreichern gleich doppelt zu gratulieren, betont der ehemalige Außenminister und nunmehrige liberale Europaparlamentsabgeordnete Urmas Paet. Van der Bellen sei für die jetzige Zeit eine sehr vernünftige Wahl, sie sei gut für Europa und Österreich, sagt Paet im Gespräch mit der APA. Für Estland und das estnische Volk spielt aber auch die Tatsache eine Rolle, dass Österreich einen estnischen Staatsbürger zum Präsidenten gewählt hat. Nach Auskunft des estnischen Außenministeriums gelten Kinder von Bewohnern des 1940 zerstörten unabhängigen Estland, die vor dem 16. Juni 1940 über die estnische Staatsbürgerschaft verfügten, automatisch als Staatsbürger des nunmehrigen Estland. Der APA vorliegende Dokumente des estnischen Staatsarchivs und des deutschen Bundesarchivs belegen, dass Alma und Alexander Van der Bellen senior, die Eltern des künftigen Präsidenten, damals im Besitz der estnischen Staatsbürgerschaft waren. Interesse am künftigen Präsidenten zeigt aber auch Pskow, das im Westen Russland an der heutigen estnischen Grenze liegt. Die ursprünglich aus Holland stammende Familie war hier im 19. Jahrhundert in den russischen Adelstand erhoben worden, insbesondere der ebenso gleichnamige Großvater von Alexander Van der Bellen hatte vor der Oktoberrevolution des Jahres 1917 eine tragende politische Funktion in der Region gespielt. Nach der bürgerlichen Februarrevolution von 1917 war dieser Vertreter eines russischen Liberalismus zum Kommissar der Übergangsregierung für das Gouvernement Pskow und somit zum lokalen Regierungschef ernannt worden. In einigen Lokalmedien finden sich Schlagzeilen, in denen vom Sieg des Nachfahren eines Aristokraten aus Pskow oder des Enkels des Pskower Gouverneurs die Rede ist, berichtet der Direktor des Archivs der Region Pskow, Waleri Kusmin. In diesem Archiv finden sich zahlreiche Akten zur Familie Van der Bellen, insbesondere zur politischen Tätigkeit der Vorfahren. Kusmin geht im Gespräch mit der APA davon aus, dass in der nächsten Zeit auch einige wissenschaftliche Publikationen über die Van der Bellens in Pskow erscheinen werden. Die Geschichte dieser Kleinaristokraten in Pskow ging nach der Machtübernahme der Bolschewiken zu Ende: 1919 floh die Familie, darunter die Großeltern und der Vater des künftigen Präsidenten, nach Estland. Als die Sowjets 1940 Estland eroberten, floh man erneut Richtung Westen. Van der Bellens Vater hatte zu diesem Zeitpunkt aufgrund seiner Herkunft und insbesondere als international tätiger Banker Repressionen des sowjetischen Geheimdiensts NKWD zu befürchten. Die Flucht ging zunächst nach Wien und Ende 1944, Anfang 1945 und somit rechtzeitig vor dem Eintreffen der Rote Armee in Ostösterreich weiter nach Tirol, wo Van der Bellen senior eine Existenz im Außenhandel aufbauen konnte und zudem ein künftiger Präsident heranwachsen sollte.  "
      ]
     },
     "execution_count": 3,
     "metadata": {},
     "output_type": "execute_result"
    }
   ],
   "source": [
    "path = 'f:\\\\Data\\\\DataScienceUni\\\\40200\\\\BMW Bank Seminar\\\\Data Sets\\\\'\n",
    "\n",
    "gnd = pd.read_csv(path+'10kGNAD_train.csv', header=None, sep=';', quotechar=\"'\", names=['label', 'text'])\n",
    "pd.set_option('display.max_colwidth', None)\n",
    "print(\"Umfang des Datensets:\",gnd.shape)\n",
    "gnd.head(5)"
   ]
  },
  {
   "cell_type": "markdown",
   "metadata": {},
   "source": [
    "Kurze Exploration der Daten"
   ]
  },
  {
   "cell_type": "code",
   "execution_count": 4,
   "metadata": {},
   "outputs": [
    {
     "name": "stdout",
     "output_type": "stream",
     "text": [
      "Panorama         0.163\n",
      "Web              0.163\n",
      "International    0.147\n",
      "Wirtschaft       0.137\n",
      "Sport            0.117\n",
      "Inland           0.099\n",
      "Etat             0.065\n",
      "Wissenschaft     0.056\n",
      "Kultur           0.052\n",
      "Name: label, dtype: float64\n"
     ]
    },
    {
     "data": {
      "image/png": "[encoded data removed]",
      "text/plain": [
       "<Figure size 432x288 with 1 Axes>"
      ]
     },
     "metadata": {},
     "output_type": "display_data"
    },
    {
     "data": {
      "image/png": "[encoded data removed]",
      "text/plain": [
       "<Figure size 432x288 with 1 Axes>"
      ]
     },
     "metadata": {
      "needs_background": "light"
     },
     "output_type": "display_data"
    }
   ],
   "source": [
    "print(gnd.label.value_counts(normalize=True).round(3))\n",
    "_= gnd.label.value_counts().plot(kind=\"pie\", )\n",
    "plt.show()\n",
    "_= gnd.label.value_counts().plot(kind=\"barh\", )"
   ]
  },
  {
   "cell_type": "markdown",
   "metadata": {},
   "source": [
    "Wir splitten wieder in Training (70%) und Test-Set (30%):"
   ]
  },
  {
   "cell_type": "code",
   "execution_count": 5,
   "metadata": {},
   "outputs": [
    {
     "data": {
      "text/plain": [
       "((6471, 2), (2774, 2))"
      ]
     },
     "execution_count": 5,
     "metadata": {},
     "output_type": "execute_result"
    }
   ],
   "source": [
    "from sklearn.model_selection import train_test_split\n",
    "df_train, df_test = train_test_split(gnd, test_size=.3, stratify=gnd.label)\n",
    "df_train.shape, df_test.shape"
   ]
  },
  {
   "cell_type": "code",
   "execution_count": 6,
   "metadata": {},
   "outputs": [
    {
     "data": {
      "text/plain": [
       "Panorama         0.163\n",
       "Web              0.163\n",
       "International    0.147\n",
       "Wirtschaft       0.137\n",
       "Sport            0.117\n",
       "Inland           0.099\n",
       "Etat             0.065\n",
       "Wissenschaft     0.056\n",
       "Kultur           0.052\n",
       "Name: label, dtype: float64"
      ]
     },
     "execution_count": 6,
     "metadata": {},
     "output_type": "execute_result"
    }
   ],
   "source": [
    "df_train.label.value_counts(normalize=True).round(3)"
   ]
  },
  {
   "cell_type": "markdown",
   "metadata": {},
   "source": [
    "Wir importieren die notwendigen Classifier & Tools aus Scikit-Learn"
   ]
  },
  {
   "cell_type": "code",
   "execution_count": 7,
   "metadata": {},
   "outputs": [],
   "source": [
    "from sklearn.feature_extraction.text import TfidfVectorizer, CountVectorizer, TfidfTransformer\n",
    "from sklearn.svm import LinearSVC\n",
    "from sklearn.linear_model import LogisticRegression\n",
    "from sklearn.pipeline import Pipeline\n",
    "from sklearn.model_selection import train_test_split\n",
    "from sklearn.metrics import accuracy_score, classification_report, confusion_matrix "
   ]
  },
  {
   "cell_type": "markdown",
   "metadata": {},
   "source": [
    "Dann bauen wir eine \"Pipeline\", in der automatisch das Preprocessing vorgenommen wird.  \n",
    "Auch dafür stellt Scikit-Learn mit der Klasse \"Pipeline\" ein sehr nützliches Werkzeug bereit.  "
   ]
  },
  {
   "cell_type": "code",
   "execution_count": 8,
   "metadata": {},
   "outputs": [
    {
     "name": "stdout",
     "output_type": "stream",
     "text": [
      "               precision    recall  f1-score   support\n",
      "\n",
      "         Etat       0.79      0.91      0.85       158\n",
      "       Inland       0.79      0.80      0.79       271\n",
      "International       0.87      0.87      0.87       406\n",
      "       Kultur       0.91      0.83      0.87       160\n",
      "     Panorama       0.85      0.81      0.83       474\n",
      "        Sport       0.97      0.98      0.97       323\n",
      "          Web       0.88      0.91      0.89       437\n",
      "   Wirtschaft       0.83      0.81      0.82       394\n",
      " Wissenschaft       0.85      0.87      0.86       151\n",
      "\n",
      "     accuracy                           0.86      2774\n",
      "    macro avg       0.86      0.87      0.86      2774\n",
      " weighted avg       0.86      0.86      0.86      2774\n",
      "\n"
     ]
    }
   ],
   "source": [
    "# classifier pipeline mit Support Vektor Machine als Classifier definieren\n",
    "lsvc_classifier = Pipeline([\n",
    "  ('vect', CountVectorizer()),\n",
    "  ('tfidf', TfidfTransformer(sublinear_tf=True)),                   \n",
    "  ('clf', LinearSVC(dual=False, C=1.6, class_weight=\"balanced\")),\n",
    "])\n",
    "\n",
    "# classifier mit vorgeschalteter Pipeline trainieren:\n",
    "lsvc_classifier.fit(df_train['text'], df_train['label'])  # train the classifier\n",
    "\n",
    "# trainierten classifier auf die Testdaten anwenden, um den Accuracy Score zu ermitteln:\n",
    "predicted = lsvc_classifier.predict(df_test['text'])  # predict the test set \n",
    "print(classification_report(predicted, df_test.label))"
   ]
  },
  {
   "cell_type": "markdown",
   "metadata": {},
   "source": [
    "Zum Vergleich dasselbe nochmal mit einem anderen Classifier: \"Logistische Regression\""
   ]
  },
  {
   "cell_type": "code",
   "execution_count": 9,
   "metadata": {},
   "outputs": [
    {
     "name": "stdout",
     "output_type": "stream",
     "text": [
      "               precision    recall  f1-score   support\n",
      "\n",
      "         Etat       0.77      0.87      0.82       159\n",
      "       Inland       0.80      0.72      0.76       302\n",
      "International       0.85      0.86      0.86       403\n",
      "       Kultur       0.91      0.73      0.81       182\n",
      "     Panorama       0.79      0.81      0.80       443\n",
      "        Sport       0.95      0.99      0.97       311\n",
      "          Web       0.85      0.94      0.89       407\n",
      "   Wirtschaft       0.82      0.76      0.79       410\n",
      " Wissenschaft       0.85      0.84      0.85       157\n",
      "\n",
      "     accuracy                           0.84      2774\n",
      "    macro avg       0.84      0.84      0.84      2774\n",
      " weighted avg       0.84      0.84      0.84      2774\n",
      "\n"
     ]
    }
   ],
   "source": [
    "logReg_classifier = Pipeline([\n",
    "  ('vect', CountVectorizer()),\n",
    "  ('tfidf', TfidfTransformer(sublinear_tf=True)),               \n",
    "  ('clf', LogisticRegression(class_weight=\"balanced\", solver='lbfgs', multi_class='auto'),),\n",
    "])\n",
    "\n",
    "logReg_classifier.fit(df_train['text'], df_train['label'])         # train the classifier\n",
    "predicted = logReg_classifier.predict(df_test['text'])             # predict the test set \n",
    "acc = np.mean(predicted == df_test['label'])                       # calculate the accuracy\n",
    "print(classification_report(predicted, df_test.label))"
   ]
  },
  {
   "cell_type": "code",
   "execution_count": null,
   "metadata": {},
   "outputs": [],
   "source": []
  },
  {
   "cell_type": "code",
   "execution_count": null,
   "metadata": {},
   "outputs": [],
   "source": []
  },
  {
   "cell_type": "markdown",
   "metadata": {},
   "source": [
    "# Parkplatz"
   ]
  },
  {
   "cell_type": "code",
   "execution_count": null,
   "metadata": {},
   "outputs": [],
   "source": [
    "# os.chdir(\"F://Data/Data Science Uni/40200/BMW Bank Seminar/Data Sets\")\n",
    "# path = 'f:\\\\Data\\\\DataScienceUni\\\\40200\\\\BMW Bank Seminar\\\\Data Sets\\\\'"
   ]
  },
  {
   "cell_type": "code",
   "execution_count": null,
   "metadata": {},
   "outputs": [],
   "source": []
  }
 ],
 "metadata": {
  "kernelspec": {
   "display_name": "Python 3",
   "language": "python",
   "name": "python3"
  },
  "language_info": {
   "codemirror_mode": {
    "name": "ipython",
    "version": 3
   },
   "file_extension": ".py",
   "mimetype": "text/x-python",
   "name": "python",
   "nbconvert_exporter": "python",
   "pygments_lexer": "ipython3",
   "version": "3.7.6"
  }
 },
 "nbformat": 4,
 "nbformat_minor": 4
}
