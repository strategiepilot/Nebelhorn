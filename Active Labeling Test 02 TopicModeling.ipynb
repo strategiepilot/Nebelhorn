{
 "cells": [
  {
   "cell_type": "code",
   "execution_count": 1,
   "metadata": {},
   "outputs": [],
   "source": [
    "import pandas as pd\n",
    "import numpy as np\n",
    "import matplotlib.pyplot as plt\n",
    "import seaborn as sns\n",
    "import os\n",
    "\n",
    "import spacy\n",
    "from spacy.lang.de import German\n",
    "from spacy import displacy\n",
    "from spacy.lang.de.stop_words import STOP_WORDS\n",
    "nlp = spacy.load('de_core_news_md')"
   ]
  },
  {
   "cell_type": "markdown",
   "metadata": {},
   "source": [
    "+ 'Etat'\n",
    "+ 'Inland'\n",
    "+ 'International'\n",
    "+ 'Kultur'\n",
    "+ 'Panorama'\n",
    "+ 'Sport'\n",
    "+ 'Web'\n",
    "+ 'Wirtschaft'\n",
    "+ 'Wissenschaft'\n",
    "\n",
    "Mehr Details zum Datenset unter: https://tblock.github.io/10kGNAD/\n"
   ]
  },
  {
   "cell_type": "code",
   "execution_count": 4,
   "metadata": {},
   "outputs": [
    {
     "name": "stdout",
     "output_type": "stream",
     "text": [
      "Umfang des Datensets: (9245, 2)\n"
     ]
    }
   ],
   "source": [
    "path = 'f:\\\\Data\\\\DataScienceUni\\\\40200\\\\BMW Bank Seminar\\\\Data Sets\\\\'\n",
    "\n",
    "gnd = pd.read_csv(path+'10kGNAD_train.csv', header=None, sep=';', quotechar=\"'\", names=['label', 'text'])\n",
    "pd.set_option('display.max_colwidth', None)\n",
    "print(\"Umfang des Datensets:\",gnd.shape)\n",
    "gnd_small = gnd[:5]"
   ]
  },
  {
   "cell_type": "code",
   "execution_count": 5,
   "metadata": {},
   "outputs": [
    {
     "data": {
      "text/plain": [
       "21-Jähriger fällt wohl bis Saisonende aus. Wien – Rapid muss wohl bis Saisonende auf Offensivspieler Thomas Murg verzichten. Der im Winter aus Ried gekommene 21-Jährige erlitt beim 0:4-Heimdebakel gegen Admira Wacker Mödling am Samstag einen Teilriss des Innenbandes im linken Knie, wie eine Magnetresonanz-Untersuchung am Donnerstag ergab. Murg erhielt eine Schiene, muss aber nicht operiert werden. Dennoch steht ihm eine mehrwöchige Pause bevor."
      ]
     },
     "execution_count": 5,
     "metadata": {},
     "output_type": "execute_result"
    }
   ],
   "source": [
    "nlp(gnd.text[0])"
   ]
  },
  {
   "cell_type": "code",
   "execution_count": 10,
   "metadata": {},
   "outputs": [],
   "source": [
    "def textcleaner(string):\n",
    "    doc = nlp(string)\n",
    "    string_clean = [w.lemma_ for w in doc if (not w.is_stop and not w.is_punct and not w.like_num)]\n",
    "    return string_clean"
   ]
  },
  {
   "cell_type": "code",
   "execution_count": 9,
   "metadata": {
    "collapsed": true,
    "jupyter": {
     "outputs_hidden": true
    }
   },
   "outputs": [
    {
     "data": {
      "text/plain": [
       "0                                                                                                                                                                                                                                                                                                                                                                                                                                                                                                                                                                                                                                                                                                                                                                                                                                                                                                                                                                                                                                                                                                                                                                                                                                                                                                                                                                                                                                                                                                                                                                                                                                                                                                                                                                                                                                                                                                                                                                                                                                                                                                                                                                                                                                                                                                                                                                                                                                                                                                                                                                                                                                                                                                                                                                                                                                                                                                                                                        21-Jähriger, fällen, Saisonende, Wien, Rapid, Saisonende, Offensivspieler, Thoma, Murg, verzichten, Winter, Ried, gekommen, 21-Jährige, erleiden, 0:4-Heimdebakel, Admira, Wacker, Mödling, Samstag, Teilriss, Innenbandes, link, Knie, Magnetresonanz-Untersuchung, Donnerstag, ergeben, Murg, erhalten, Schiene, operieren, Dennoch, stehen, mehrwöchige, Pause, bevor\n",
       "1                                                                                                                                                                                                                                                                                               Erfundene, Bild, Film, verlieren, gelten, The, Forbidden, Room, Guy, Maddin, Evan, Johnson, surrealer, Ritt, magisch, Labyrinth, früh, Kino, Wien, Filmgeschichte, Friedhof, Verlorene, Begrabene, finden, zahllos, Film, mysteriös, abenteuerlich, klingend, Name, kursieren, verstreuen, herumliegend, Sekundärmaterial, Aufschluss, erlauben, The, Forbidden, Room, Two-Reeler, arbeitswütige, US-Regisseur, Allan, Dwan, u., a., Horrordarsteller, Lon, Chaney, drehen, passend, Titel, Film, verschollen, gelten, Verbot, Einladung, Überschreitung, ähnlich, Gedanke, kanadische, Experimentalfilmemacher, Guy, Maddin, Film, gleich, Titel, Gemeinsam, Koregisseur, Evan, Johnson, vergessen, verschwunden, Arbeit, Film, geschichte, Ausgangspunkt, Neuerfindung, erkiesen, historische, Genauigkeit, freilich, erlauben, vielmehr, Fantasie, ausspucken, Arg, angespannt, Szene, U-Boot, Besatzung, tief, Ozean, Art, explosiv, Gelee, umhertaucht, Sauerstoff, Pfannkuchen, generieren, Erinnerung, Schnurrbart, Oberlippe, Sohnes, Tote, heften, derart, Witwe, Trost, spenden, Letzteres, frei, erfunden, Handlung, Mikio-Naruse-Films, Titel, The, Strength, of, Moustache, Volten, schlagen, Handlung, verlaufen, jemals, linear, sprunghaft, surreal, Unerwartete, irgendwo, Jules, Verne, Jacques, Tourneur, F., W., Murnau, Maddin, verehren, Modernisten, Raymond, Roussel, britische, Guardian, beschreiben, Ergebnis, Einwirkung, LSD, Filmarchiv, wandeln, Rausch-, zumindest, Traumähnliche, teilen, Arbeit, Maddins, früh, kurz, dimensionieren, The, Forbidden, Room, Dauer, Stunde, nahe, Überdosis, heiß, Überforderung, Programm, Maddin, Johnson, geben, Häppchen, zufrieden, immersives, Seherlebnis, ermöglichen, Filmpionier, George, Méliès, orientieren, Sinn, nehmen, fantastische, Qualität, Kino, eigentlich, Realität, wild, Bild, pumpend, Psyche, gekoppelt, manchmal, humorvoll, kindlich, Maschine, Maddins, Kurzfilm, The, Heart, of, the, World, Geltung, Zusammenhang, suchen, finden, Bekenntnis, Abschweifung, Verbindung, Waldarbeiter, Roy, Dupuis, Spur, verschwunden, Frau, folgen, Udo, Kier, verkörpern, Arzt, Fetisch, Gesäße, seltsam, Reklamemenschen, Zuschauer, erklären, perfekte, Bad, nehmen, liegen, allenfalls, Oberfläche, digital, Postproduktion, hergestellt, Ästhetik, früh, Kino, The, Forbidden, Room, Gespenst, analog, Zeitalters, wachrufen, Künstlich, verwittert, Farbe, Laufbilder, eingeschränkt, Zwei-Farben-Technicolor-Verfahren, verweisen, künstlich, heruntergestuft, Filmmaterial, Verwitterung, aussetzen, Doppelbelichtungen, wirken, sein, Mate, rialien, ineinandergeschmolzen, Zwischentiteln, weitgehenden, Verzicht, herkömmlich, Dialog, schließen, Maddin, Evan, Stummfilm, stilistische, Bandbreite, Montag, szenisch, Regie, spielerisch, betonen, ausagieren, Amnesie, visuell, betörend, Film, befallen, Figur, Ferne, zurückkehren, Gedanke, lässt, Bild, Film, anwenden, enthalten, Fragment, Kino, erinnern, verlieren, halten\n",
       "2                                                                                                                                                                                                                                                                                                                                                                                                                                                                                                                                                                                                                                                                                                                                                                                                                                                                                                                                                                                                                                                                                                                                                                                                                                                                                                                                                                                                                                                                                                                                                                                                                                                                     frischgekürte, CEO, Sundar, Pichai, setzen, umgänglich, Führungsteam, Atmosphäre, Silicon, Valley, rau, massenhaft, Mitarbeiter, direkt, Konkurrenz, abwerben, Löhne, firmenübergreifenden, Mauscheleien, niedrig, halten, Untergebener, verfehlt, Ziel, Tür, setzen, hoch, Firmenebene, brutale, Umgangsformen, pflegen, Wutausbrüche, Apple-Mitgründer, Steve, Job, legendär, früh, Geschäftspartner, Steve, Wozniak, Lebzeiten, gerne, Arschloch, beschimpfen, trauen, Google-Mitgründer, Larry, Page, gelten, Choleriker, human, Umgang, Mitarbeiter, Stelle, stehen, Zeit, harten, Management-Stils, Google, vorbei, belegen, zahlreiche, ehemalig, Mitarbeiter, Geschäftspartner, Ex-Manager, re, code, pointiert, verlautbart, Arschlöcher, weg, Verantwortlich, zeichnen, Sundar, Pichai, Googles, Umstrukturierung, Gründung, Dachunternehmens, Alphabet, CEO, Suchmaschinisten, wenig, Monat, Google-Chef, Pichai, einig, Umstrukturierung, vornehmen, erhalten, Lob, Branche, beispielsweise, Hiroshi, Lockheimer, Android-Chef, Ehemalige, Kollege, Motorola-Präsident, Rick, Osterloh, schwärmen, großartig, Typus, Lockheimer, sorgen, Smartphone-Hersteller, Android, setzen, gleichberechtigt, Zugang, Entwicklung, Betriebssystems, Motorola, Google, gehören, ander, Philipp, Schindler, Googles, Werbegeschäft, leiten, Medienpartner, beschreiben, kompromissbereit, umgänglich, Gelernt, Schindler, Europa, Google, jahrelang, Monopol-Vorwürfe, Regierungskreisen, verteidigen, Älterer, Semester, Google-Umfeld, befürchten, laut, re, code, softes, Google, wichtig, Scharmützel, verlieren, ausgefahren, Ellbogen, vorerst, vorbei\n",
       "3                                                                                                                                                                                                                                                                                                                                                                                                                                                                                                                                                                                                                                                                                                                                                                                                                                                                                                                                                                                                                                                                                                                                                                                                                                                                                                                                                                                                                                                                                                                                                                                                                                                                                                                                                                                                                                                                                                                                                                                                                                                                                                                                                                                                                                                                                                                                                                                                                                                                                                                                                                                                                                                                                                                                                                                                                                                                  Putin, Einigung, Menge, Niveau, Jänner, halten, Moskau, russisch, Ölproduzenten, Worten, Präsident, Wladimir, Putin, Förderung, einfrieren, Einigung, erzielen, Ölproduktion, Niveau, Jänner, halten, Putin, Mittwoch, Moskau, Russland, leiden, Förderstaaten, drastisch, Einbruch, Ölpreise, Putin, Preis, begrenzen, Förderung, In-, Ausland, stabilisieren, Russland, jüngst, Saudi-Arabien, Förderländern, Einfrieren, Produktion, Jänner-Niveau, beraten\n",
       "4    Estland, sehen, künftig, österreichisch, Präsident, estnischen, Staatsbürger, Wien/Tallinn/Pskow, Eltern, künftig, Bundespräsidenten, Sowjet, besetzen, Estland, damalige, deutschen, Reich, fliehen, Wien, Sascha, Van, Bellen, Welt, Estnische, verwenden, jubeln, Dienstag, Wahlsieg, Freude, herrschen, Politiker, Land, Interesse, Van, Bellen, russisch, Stadt, Pskow, Geburtsstadt, Eltern, ganz, Herz, Familie, mitgefiebert, Irina, Steinberg, Cousine, künftig, Präsident, Sonntag, Stress, erzählen, Steinberg, Telefonat, APA, Sieg, zeugen, österreichisch, Intelligenzija, denkend, Sascha, stimmen, studieren, Philologin, Dorf, Süden, Estland, leben, Freudig, Wahlsieg, ehemalig, Grünen-Chefs, estnischen, Politiker, kommentieren, Wahl, Präsident, estnischen, Wurzel, schaffen, günstige, Bedingung, eng, Zusammenarbeit, Estland, Österreich, erklären, Vorsitzende, außenpolitisch, Ausschuß, estnischen, Parlament, Sven, Mikser, Estland, Aufschwung, europaskeptischer, Kraft, Sorge, beobachten, froh, Österreicher, Van, Bellen, entscheiden, Vertreter, Sozialdemokratische, Partei, Estland, APA, Wahlergebnis, Grund, Österreicher, doppeln, gratulieren, betonen, ehemalig, Außenminister, nunmehrige, liberale, Europaparlamentsabgeordnete, Urmas, Paet, Van, Bellen, jetzige, vernünftig, Wahl, Europa, Österreich, Paet, Gespräch, APA, Estland, estnische, Volk, spielen, Tatsache, Rolle, Österreich, estnischen, Staatsbürger, Präsident, wählen, Auskunft, estnischen, Außenministerium, gelten, Kind, Bewohner, zerstören, unabhängig, Estland, Juni, estnische, Staatsbürgerschaft, verfügt, automatisch, Staatsbürger, nunmehrigen, Estland, APA, vorliegend, Dokument, estnischen, Staatsarchivs, deutsch, Bundesarchivs, belegen, Alma, Alexander, Van, Bellen, senior, Eltern, künftig, Präsident, Besitz, estnischen, Staatsbürgerschaft, Interesse, künftig, Präsident, zeigen, Pskow, Westen, Russland, heutig, estnischen, Grenze, liegen, ursprünglich, Holland, stammend, Familie, Jahrhundert, russisch, Adelstand, erheben, insbesondere, gleichnamig, Großvater, Alexander, Van, Bellen, Oktoberrevolution, Jahr, tragend, politische, Funktion, Region, spielen, bürgerlich, Februarrevolution, Vertreter, russisch, Liberalismus, Kommissar, Übergangsregierung, Gouvernement, Pskow, somit, lokal, Regierungschef, ernennen, einig, Lokalmedien, finden, Schlagzeile, Sieg, Nachfahr, Aristokrat, Pskow, Enkel, Pskower, Gouverneur, Rede, berichten, Direktor, Archiv, Region, Pskow, Waleri, Kusmin, Archiv, finden, zahlreiche, Akte, Familie, Van, Bellen, insbesondere, politisch, Tätigkeit, Vorfahr, Kusmin, Gespräch, APA, nächst, einig, wissenschaftliche, Publikation, Van, Bellen, Pskow, erscheinen, Geschichte, Kleinaristokraten, Pskow, Machtübernahme, Bolschewiken, fliehen, Familie, Großeltern, Vater, künftig, Präsident, Estland, Sowjet, Estland, erobern, fliehen, erneut, Richtung, Westen, Van, Bellen, Vater, Zeitpunkt, aufgrund, Herkunft, insbesondere, international, tätig, Banker, Repression, sowjetisch, Geheimdienst, NKWD, befürchten, Flucht, Wien, Anfang, somit, rechtzeitig, Eintreffen, rot, Armee, Ostösterreich, Tirol, Van, Bellen, senior, Existenz, Außenhandel, aufbauen, zudem, künftig, Präsident, heranwachsen\n",
       "Name: text, dtype: object"
      ]
     },
     "execution_count": 9,
     "metadata": {},
     "output_type": "execute_result"
    }
   ],
   "source": [
    "gnd_small.text.apply(textcleaner2).apply(\", \".join)"
   ]
  },
  {
   "cell_type": "code",
   "execution_count": null,
   "metadata": {},
   "outputs": [],
   "source": []
  },
  {
   "cell_type": "code",
   "execution_count": 11,
   "metadata": {
    "collapsed": true,
    "jupyter": {
     "outputs_hidden": true
    }
   },
   "outputs": [
    {
     "data": {
      "text/html": [
       "<div>\n",
       "<style scoped>\n",
       "    .dataframe tbody tr th:only-of-type {\n",
       "        vertical-align: middle;\n",
       "    }\n",
       "\n",
       "    .dataframe tbody tr th {\n",
       "        vertical-align: top;\n",
       "    }\n",
       "\n",
       "    .dataframe thead th {\n",
       "        text-align: right;\n",
       "    }\n",
       "</style>\n",
       "<table border=\"1\" class=\"dataframe\">\n",
       "  <thead>\n",
       "    <tr style=\"text-align: right;\">\n",
       "      <th></th>\n",
       "      <th>label</th>\n",
       "      <th>text</th>\n",
       "      <th>text120</th>\n",
       "      <th>prepro</th>\n",
       "    </tr>\n",
       "  </thead>\n",
       "  <tbody>\n",
       "    <tr>\n",
       "      <th>0</th>\n",
       "      <td>Sport</td>\n",
       "      <td>21-Jähriger fällt wohl bis Saisonende aus. Wien – Rapid muss wohl bis Saisonende auf Offensivspieler Thomas Murg verzichten. Der im Winter aus Ried gekommene 21-Jährige erlitt beim 0:4-Heimdebakel gegen Admira Wacker Mödling am Samstag einen Teilriss des Innenbandes im linken Knie, wie eine Magnetresonanz-Untersuchung am Donnerstag ergab. Murg erhielt eine Schiene, muss aber nicht operiert werden. Dennoch steht ihm eine mehrwöchige Pause bevor.</td>\n",
       "      <td>21-Jähriger, fällt, wohl, bis, Saisonende, aus., Wien, –, Rapid, muss, wohl, bis, Saisonende, auf, Offensivspieler, Thomas, Murg, verzichten., Der, im, Winter, aus, Ried, gekommene, 21-Jährige, erlitt, beim, 0:4-Heimdebakel, gegen, Admira, Wacker, Mödling, am, Samstag, einen, Teilriss, des, Innenbandes, im, linken, Knie,, wie, eine, Magnetresonanz-Untersuchung, am, Donnerstag, ergab., Murg, erhielt, eine, Schiene,, muss, aber, nicht, operiert, werden., Dennoch, steht, ihm, eine, mehrwöchige, Pause, bevor.</td>\n",
       "      <td>21-Jähriger, fällen, Saisonende, Wien, Rapid, Saisonende, Offensivspieler, Thoma, Murg, verzichten, Winter, Ried, gekommen, 21-Jährige, erleiden, 0:4-Heimdebakel, Admira, Wacker, Mödling, Samstag, Teilriss, Innenbandes, link, Knie, Magnetresonanz-Untersuchung, Donnerstag, ergeben, Murg, erhalten, Schiene, operieren, Dennoch, stehen, mehrwöchige, Pause, bevor</td>\n",
       "    </tr>\n",
       "    <tr>\n",
       "      <th>1</th>\n",
       "      <td>Kultur</td>\n",
       "      <td>Erfundene Bilder zu Filmen, die als verloren gelten: \"The Forbidden Room\" von Guy Maddin und Evan Johnson ist ein surrealer Ritt durch die magischen Labyrinthe des frühen Kinos. Wien – Die Filmgeschichte ist ein Friedhof der Verlorenen. Unter den Begrabenen finden sich zahllose Filme, von denen nur noch mysteriös oder abenteuerlich klingende Namen kursieren; und solche, über die verstreut herumliegendes Sekundärmaterial Aufschluss erlaubt. Einer davon ist The Forbidden Room, ein Two-Reeler von 1913/14, den der arbeitswütige US-Regisseur Allan Dwan u. a. mit dem Horrordarsteller Lon Chaney gedreht hat. Ein passender Titel für einen Film, der als verschollen gilt. Verbote sind Einladungen zur Überschreitung. Einen ähnlichen Gedanken hatte wohl auch der kanadische Experimentalfilmemacher Guy Maddin, als er seinem Film von 2015 den gleichen Titel gab. Gemeinsam mit seinem Koregisseur Evan Johnson hat er vergessene, verschwundene Arbeiten der Film geschichte zum Ausgangspunkt einer Neuerfindung erkoren. Um historische Genauigkeit geht es ihnen dabei freilich nicht, erlaubt ist vielmehr alles, was die Fantasie so ausspuckt. Arg angespannte Szenen in einem U-Boot, dessen Besatzung tief im Ozean mit einer Art explosivem Gelee umhertaucht und Sauerstoff mit Pfannkuchen generiert. Oder die Erinnerungen eines Schnurrbarts, der sich auf die Oberlippe des Sohnes eines Toten heftet, um derart der Witwe Trost zu spenden. Letzteres die frei erfundene Handlung eines Mikio-Naruse-Films mit dem Titel The Strength of a Moustache. Immer neue Volten schlägt die Handlung, verläuft dabei kaum jemals linear, sondern gibt sich sprunghaft, surreal dem Unerwarteten hin, irgendwo zwischen Jules Verne, Jacques Tourneur, F. W. Murnau und dem von Maddin verehrten Modernisten Raymond Roussel. Der britische Guardian beschrieb das Ergebnis so: als würde man unter der Einwirkung von LSD durch ein Filmarchiv wandeln. Das Rausch- oder zumindest Traumähnliche teilt diese Arbeit Maddins mit seinen früheren, die kürzer dimensioniert waren. The Forbidden Room ist durch seine Dauer von mehr als zwei Stunden schon nahe an der Überdosis, soll heißen: Die Überforderung ist Programm. Maddin und Johnson geben sich mit keinen Häppchen zufrieden, sondern wollen ein immersives Seherlebnis ermöglichen, in einem mehr an Filmpionier Georges Méliès orientierten Sinne. Sie nehmen die fantastische Qualität des Kinos als seine eigentliche Realität wahr – eine wild Bilder pumpende, an unsere Psyche gekoppelte (und daher auch manchmal humorvoll kindliche) Maschine, wie sie schon in Maddins Kurzfilm The Heart of the World (2000) zur Geltung kam. Wer nach einem Zusammenhang sucht, findet ihn im Bekenntnis zur Abschweifung. Die Verbindung von einem Waldarbeiter (Roy Dupuis), der der Spur einer verschwundenen Frau folgt, zu einem (von Udo Kier verkörperten) Arzt mit einem Fetisch für Gesäße oder zu jenem seltsamen Reklamemenschen, der dem Zuschauer erklärt, wie man das perfekte Bad nimmt – sie liegt allenfalls in der Oberfläche, jener digital in der Postproduktion hergestellten Ästhetik des frühen Kinos, die The Forbidden Room wie ein Gespenst des analogen Zeitalters wachruft. Künstlich verwittert Die Farben der Laufbilder, die auf das eingeschränkte Zwei-Farben-Technicolor-Verfahren verweisen, sind künstlich heruntergestuft, als wäre das Filmmaterial der Verwitterung ausgesetzt gewesen; manche Doppelbelichtungen wirken so, als wären die Mate rialien ineinandergeschmolzen. Auch mit Zwischentiteln und dem weitgehenden Verzicht auf herkömmliche Dialoge schließen Maddin und Evan an den Stummfilm an, dessen stilistische Bandbreite sie in der Montage und szenischen Regie spielerisch betonen und ausagieren. Die Amnesie, heißt es in diesem visuell betörenden Film einmal, befällt jene Menschen, zu denen die Figuren aus der Ferne zurückkehren. Der Gedanke lässt sich auch auf die Bilder des Films anwenden: Er enthält die Fragmente eines Kinos, an das wir uns nicht mehr erinnern können, weil wir es für verloren hielten.</td>\n",
       "      <td>Erfundene, Bilder, zu, Filmen,, die, als, verloren, gelten:, \"The, Forbidden, Room\", von, Guy, Maddin, und, Evan, Johnson, ist, ein, surrealer, Ritt, durch, die, magischen, Labyrinthe, des, frühen, Kinos., Wien, –, Die, Filmgeschichte, ist, ein, Friedhof, der, Verlorenen., Unter, den, Begrabenen, finden, sich, zahllose, Filme,, von, denen, nur, noch, mysteriös, oder, abenteuerlich, klingende, Namen, kursieren;, und, solche,, über, die, verstreut, herumliegendes, Sekundärmaterial, Aufschluss, erlaubt., Einer, davon, ist, The, Forbidden, Room,, ein, Two-Reeler, von, 1913/14,, den, der, arbeitswütige, US-Regisseur, Allan, Dwan, u., a., mit, dem, Horrordarsteller, Lon, Chaney, gedreht, hat., Ein, passender, Titel, für, einen, Film,, der, als, verschollen, gilt., Verbote, sind, Einladungen, zur, Überschreitung., Einen, ähnlichen, Gedanken, hatte, wohl, auch, der, kanadische, Experimentalfilmemacher, Guy, Maddin,, als, er, seinem, Film, von, 2015</td>\n",
       "      <td>Erfundene, Bild, Film, verlieren, gelten, The, Forbidden, Room, Guy, Maddin, Evan, Johnson, surrealer, Ritt, magisch, Labyrinth, früh, Kino, Wien, Filmgeschichte, Friedhof, Verlorene, Begrabene, finden, zahllos, Film, mysteriös, abenteuerlich, klingend, Name, kursieren, verstreuen, herumliegend, Sekundärmaterial, Aufschluss, erlauben, The, Forbidden, Room, Two-Reeler, arbeitswütige, US-Regisseur, Allan, Dwan, u., a., Horrordarsteller, Lon, Chaney, drehen, passend, Titel, Film, verschollen, gelten, Verbot, Einladung, Überschreitung, ähnlich, Gedanke, kanadische, Experimentalfilmemacher, Guy, Maddin, Film, gleich, Titel, Gemeinsam, Koregisseur, Evan, Johnson, vergessen, verschwunden, Arbeit, Film, geschichte, Ausgangspunkt, Neuerfindung, erkiesen, historische, Genauigkeit, freilich, erlauben, vielmehr, Fantasie, ausspucken, Arg, angespannt, Szene, U-Boot, Besatzung, tief, Ozean, Art, explosiv, Gelee, umhertaucht, Sauerstoff, Pfannkuchen, generieren, Erinnerung, Schnurrbart, Oberlippe, Sohnes, Tote, heften, derart, Witwe, Trost, spenden, Letzteres, frei, erfunden, Handlung, Mikio-Naruse-Films, Titel, The, Strength, of, Moustache, Volten, schlagen, Handlung, verlaufen, jemals, linear, sprunghaft, surreal, Unerwartete, irgendwo, Jules, Verne, Jacques, Tourneur, F., W., Murnau, Maddin, verehren, Modernisten, Raymond, Roussel, britische, Guardian, beschreiben, Ergebnis, Einwirkung, LSD, Filmarchiv, wandeln, Rausch-, zumindest, Traumähnliche, teilen, Arbeit, Maddins, früh, kurz, dimensionieren, The, Forbidden, Room, Dauer, Stunde, nahe, Überdosis, heiß, Überforderung, Programm, Maddin, Johnson, geben, Häppchen, zufrieden, immersives, Seherlebnis, ermöglichen, Filmpionier, George, Méliès, orientieren, Sinn, nehmen, fantastische, Qualität, Kino, eigentlich, Realität, wild, Bild, pumpend, Psyche, gekoppelt, manchmal, humorvoll, kindlich, Maschine, Maddins, Kurzfilm, The, Heart, of, the, World, Geltung, Zusammenhang, suchen, finden, Bekenntnis, Abschweifung, Verbindung, Waldarbeiter, Roy, Dupuis, Spur, verschwunden, Frau, folgen, Udo, Kier, verkörpern, Arzt, Fetisch, Gesäße, seltsam, Reklamemenschen, Zuschauer, erklären, perfekte, Bad, nehmen, liegen, allenfalls, Oberfläche, digital, Postproduktion, hergestellt, Ästhetik, früh, Kino, The, Forbidden, Room, Gespenst, analog, Zeitalters, wachrufen, Künstlich, verwittert, Farbe, Laufbilder, eingeschränkt, Zwei-Farben-Technicolor-Verfahren, verweisen, künstlich, heruntergestuft, Filmmaterial, Verwitterung, aussetzen, Doppelbelichtungen, wirken, sein, Mate, rialien, ineinandergeschmolzen, Zwischentiteln, weitgehenden, Verzicht, herkömmlich, Dialog, schließen, Maddin, Evan, Stummfilm, stilistische, Bandbreite, Montag, szenisch, Regie, spielerisch, betonen, ausagieren, Amnesie, visuell, betörend, Film, befallen, Figur, Ferne, zurückkehren, Gedanke, lässt, Bild, Film, anwenden, enthalten, Fragment, Kino, erinnern, verlieren, halten</td>\n",
       "    </tr>\n",
       "    <tr>\n",
       "      <th>2</th>\n",
       "      <td>Web</td>\n",
       "      <td>Der frischgekürte CEO Sundar Pichai setzt auf ein umgänglicheres Führungsteam. Die Atmosphäre im Silicon Valley ist rau. Da werden massenhaft Mitarbeiter der direkten Konkurrenz abgeworben, Löhne mit firmenübergreifenden Mauscheleien niedrig gehalten und Untergebene wegen leicht verfehlter Ziele vor die Tür gesetzt. Auch in der höchsten Firmenebene werden brutale Umgangsformen gepflegt: Die Wutausbrüche von Apple-Mitgründer Steve Jobs sind legendär, sein früherer Geschäftspartner Steve Wozniak hätte ihn zu Lebzeiten gerne als Arschloch beschimpft, traute sich aber nicht. Auch Google-Mitgründer Larry Page gilt als Choleriker, für den ein humaner Umgang mit Mitarbeitern nicht an erster Stelle steht. Doch die Zeiten des harten Management-Stils sind bei Google vorbei. Das belegen zahlreiche ehemalige Mitarbeiter und Geschäftspartner. Wie ein Ex-Manager gegenüber re:code pointiert verlautbart: Alle Arschlöcher sind jetzt weg. Verantwortlich dafür zeichnet sich Sundar Pichai, der nach Googles großer Umstrukturierung (Gründung des Dachunternehmens Alphabet) zum CEO des Suchmaschinisten wurde. In den wenigen Monaten als Google-Chef hat Pichai nun bereits einige Umstrukturierungen vorgenommen – und erhält dafür viel Lob aus der Branche. So wurde beispielsweise Hiroshi Lockheimer zum Android-Chef gemacht. Ehemalige Kollegen, etwa Motorola-Präsident Rick Osterloh, schwärmen von ihm als großartigen Typen, den man sehr gern hat. So soll Lockheimer dafür gesorgt haben, dass alle Smartphone-Hersteller, die auf Android setzen, gleichberechtigten Zugang zu Entwicklungen des Betriebssystems haben – auch, als Motorola noch zu Google gehörte. Ein anderes Beispiel ist Philipp Schindler, der Googles Werbegeschäft leiten soll. Medienpartner beschreiben ihn als kompromissbereit und umgänglich. Gelernt hat Schindler das in Europa, wo er Google jahrelang gegen Monopol-Vorwürfe aus Regierungskreisen verteidigen musste. Älterer Semester im Google-Umfeld befürchten laut re:code allerdings, dass ein softes Google wichtige Scharmützel verlieren wird. Doch die Zeit der ausgefahrenen Ellbogen ist vorerst vorbei.</td>\n",
       "      <td>Der, frischgekürte, CEO, Sundar, Pichai, setzt, auf, ein, umgänglicheres, Führungsteam., Die, Atmosphäre, im, Silicon, Valley, ist, rau., Da, werden, massenhaft, Mitarbeiter, der, direkten, Konkurrenz, abgeworben,, Löhne, mit, firmenübergreifenden, Mauscheleien, niedrig, gehalten, und, Untergebene, wegen, leicht, verfehlter, Ziele, vor, die, Tür, gesetzt., Auch, in, der, höchsten, Firmenebene, werden, brutale, Umgangsformen, gepflegt:, Die, Wutausbrüche, von, Apple-Mitgründer, Steve, Jobs, sind, legendär,, sein, früherer, Geschäftspartner, Steve, Wozniak, hätte, ihn, zu, Lebzeiten, gerne, als, Arschloch, beschimpft,, traute, sich, aber, nicht., Auch, Google-Mitgründer, Larry, Page, gilt, als, Choleriker,, für, den, ein, humaner, Umgang, mit, Mitarbeitern, nicht, an, erster, Stelle, steht., Doch, die, Zeiten, des, harten, Management-Stils, sind, bei, Google, vorbei., Das, belegen, zahlreiche, ehemalige, Mitarbeiter, und, Geschäftspartner., Wie, ein, Ex-Manager, gegenüber, re:code, pointiert, verlautbart:, Alle, Arschlöcher</td>\n",
       "      <td>frischgekürte, CEO, Sundar, Pichai, setzen, umgänglich, Führungsteam, Atmosphäre, Silicon, Valley, rau, massenhaft, Mitarbeiter, direkt, Konkurrenz, abwerben, Löhne, firmenübergreifenden, Mauscheleien, niedrig, halten, Untergebener, verfehlt, Ziel, Tür, setzen, hoch, Firmenebene, brutale, Umgangsformen, pflegen, Wutausbrüche, Apple-Mitgründer, Steve, Job, legendär, früh, Geschäftspartner, Steve, Wozniak, Lebzeiten, gerne, Arschloch, beschimpfen, trauen, Google-Mitgründer, Larry, Page, gelten, Choleriker, human, Umgang, Mitarbeiter, Stelle, stehen, Zeit, harten, Management-Stils, Google, vorbei, belegen, zahlreiche, ehemalig, Mitarbeiter, Geschäftspartner, Ex-Manager, re, code, pointiert, verlautbart, Arschlöcher, weg, Verantwortlich, zeichnen, Sundar, Pichai, Googles, Umstrukturierung, Gründung, Dachunternehmens, Alphabet, CEO, Suchmaschinisten, wenig, Monat, Google-Chef, Pichai, einig, Umstrukturierung, vornehmen, erhalten, Lob, Branche, beispielsweise, Hiroshi, Lockheimer, Android-Chef, Ehemalige, Kollege, Motorola-Präsident, Rick, Osterloh, schwärmen, großartig, Typus, Lockheimer, sorgen, Smartphone-Hersteller, Android, setzen, gleichberechtigt, Zugang, Entwicklung, Betriebssystems, Motorola, Google, gehören, ander, Philipp, Schindler, Googles, Werbegeschäft, leiten, Medienpartner, beschreiben, kompromissbereit, umgänglich, Gelernt, Schindler, Europa, Google, jahrelang, Monopol-Vorwürfe, Regierungskreisen, verteidigen, Älterer, Semester, Google-Umfeld, befürchten, laut, re, code, softes, Google, wichtig, Scharmützel, verlieren, ausgefahren, Ellbogen, vorerst, vorbei</td>\n",
       "    </tr>\n",
       "    <tr>\n",
       "      <th>3</th>\n",
       "      <td>Wirtschaft</td>\n",
       "      <td>Putin: \"Einigung, dass wir Menge auf Niveau von Jänner halten\". Moskau – Die russischen Ölproduzenten wollen nach den Worten von Präsident Wladimir Putin ihre Förderung in diesem Jahr einfrieren. Im Großen und Ganzen wurde eine Einigung erzielt, dass wir die Ölproduktion auf dem Niveau von Jänner halten werden, sagte Putin am Mittwoch in Moskau. Russland leidet wie andere Förderstaaten unter dem drastischen Einbruch der Ölpreise. Putin will die Preise durch eine begrenzte Förderung im In- und Ausland stabilisieren. Dazu hatte Russland jüngst mit Saudi-Arabien und anderen großen Förderländern über ein Einfrieren der Produktion auf dem Jänner-Niveau beraten.</td>\n",
       "      <td>Putin:, \"Einigung,, dass, wir, Menge, auf, Niveau, von, Jänner, halten\"., Moskau, –, Die, russischen, Ölproduzenten, wollen, nach, den, Worten, von, Präsident, Wladimir, Putin, ihre, Förderung, in, diesem, Jahr, einfrieren., Im, Großen, und, Ganzen, wurde, eine, Einigung, erzielt,, dass, wir, die, Ölproduktion, auf, dem, Niveau, von, Jänner, halten, werden,, sagte, Putin, am, Mittwoch, in, Moskau., Russland, leidet, wie, andere, Förderstaaten, unter, dem, drastischen, Einbruch, der, Ölpreise., Putin, will, die, Preise, durch, eine, begrenzte, Förderung, im, In-, und, Ausland, stabilisieren., Dazu, hatte, Russland, jüngst, mit, Saudi-Arabien, und, anderen, großen, Förderländern, über, ein, Einfrieren, der, Produktion, auf, dem, Jänner-Niveau, beraten.</td>\n",
       "      <td>Putin, Einigung, Menge, Niveau, Jänner, halten, Moskau, russisch, Ölproduzenten, Worten, Präsident, Wladimir, Putin, Förderung, einfrieren, Einigung, erzielen, Ölproduktion, Niveau, Jänner, halten, Putin, Mittwoch, Moskau, Russland, leiden, Förderstaaten, drastisch, Einbruch, Ölpreise, Putin, Preis, begrenzen, Förderung, In-, Ausland, stabilisieren, Russland, jüngst, Saudi-Arabien, Förderländern, Einfrieren, Produktion, Jänner-Niveau, beraten</td>\n",
       "    </tr>\n",
       "    <tr>\n",
       "      <th>4</th>\n",
       "      <td>Inland</td>\n",
       "      <td>Estland sieht den künftigen österreichischen Präsidenten auch als estnischen Staatsbürger. Wien/Tallinn/Pskow – Die Eltern des künftigen Bundespräsidenten waren 1941 aus dem von Sowjets besetzten Estland in das damalige Deutsche Reich geflohen, wo 1944 in Wien Sascha Van der Bellen zur Welt kam. Estnische Verwandte jubelten am Dienstag über dessen Wahlsieg, Freude herrscht auch unter Politikern des Landes. Interesse an Van der Bellen gibt es auch in der russischen Stadt Pskow, der Geburtsstadt seiner Eltern. Wir haben von ganzem Herzen und mit der ganzen Familie mitgefiebert, sagt Irina Steinberg, eine Cousine des künftigen Präsidenten. Der Sonntag sei für sie deshalb ein großer Stress gewesen, erzählt Steinberg im Telefonat mit der APA. Sein Sieg zeugt davon, dass die österreichische Intelligenzija, die denkenden Menschen, für Sascha gestimmt haben, so die studierte Philologin, die in einem Dorf im Süden Estlands lebt. Freudig wird der Wahlsieg des ehemaligen Grünen-Chefs auch von estnischen Politikern kommentiert. Die Wahl eines Präsidenten mit estnischen Wurzeln schafft günstige Bedingungen für eine engere Zusammenarbeit zwischen Estland und Österreich, erklärt der Vorsitzende des außenpolitischen Ausschusses im estnischen Parlament, Sven Mikser. Da Estland aber auch den Aufschwung europaskeptischer Kräfte mit Sorge beobachte, sei er froh, dass sich die Österreicher für Van der Bellen entscheiden haben, sagt der Vertreter der Sozialdemokratischen Partei Estlands gegenüber der APA. Das Wahlergebnis ist ein guter Grund, den Österreichern gleich doppelt zu gratulieren, betont der ehemalige Außenminister und nunmehrige liberale Europaparlamentsabgeordnete Urmas Paet. Van der Bellen sei für die jetzige Zeit eine sehr vernünftige Wahl, sie sei gut für Europa und Österreich, sagt Paet im Gespräch mit der APA. Für Estland und das estnische Volk spielt aber auch die Tatsache eine Rolle, dass Österreich einen estnischen Staatsbürger zum Präsidenten gewählt hat. Nach Auskunft des estnischen Außenministeriums gelten Kinder von Bewohnern des 1940 zerstörten unabhängigen Estland, die vor dem 16. Juni 1940 über die estnische Staatsbürgerschaft verfügten, automatisch als Staatsbürger des nunmehrigen Estland. Der APA vorliegende Dokumente des estnischen Staatsarchivs und des deutschen Bundesarchivs belegen, dass Alma und Alexander Van der Bellen senior, die Eltern des künftigen Präsidenten, damals im Besitz der estnischen Staatsbürgerschaft waren. Interesse am künftigen Präsidenten zeigt aber auch Pskow, das im Westen Russland an der heutigen estnischen Grenze liegt. Die ursprünglich aus Holland stammende Familie war hier im 19. Jahrhundert in den russischen Adelstand erhoben worden, insbesondere der ebenso gleichnamige Großvater von Alexander Van der Bellen hatte vor der Oktoberrevolution des Jahres 1917 eine tragende politische Funktion in der Region gespielt. Nach der bürgerlichen Februarrevolution von 1917 war dieser Vertreter eines russischen Liberalismus zum Kommissar der Übergangsregierung für das Gouvernement Pskow und somit zum lokalen Regierungschef ernannt worden. In einigen Lokalmedien finden sich Schlagzeilen, in denen vom Sieg des Nachfahren eines Aristokraten aus Pskow oder des Enkels des Pskower Gouverneurs die Rede ist, berichtet der Direktor des Archivs der Region Pskow, Waleri Kusmin. In diesem Archiv finden sich zahlreiche Akten zur Familie Van der Bellen, insbesondere zur politischen Tätigkeit der Vorfahren. Kusmin geht im Gespräch mit der APA davon aus, dass in der nächsten Zeit auch einige wissenschaftliche Publikationen über die Van der Bellens in Pskow erscheinen werden. Die Geschichte dieser Kleinaristokraten in Pskow ging nach der Machtübernahme der Bolschewiken zu Ende: 1919 floh die Familie, darunter die Großeltern und der Vater des künftigen Präsidenten, nach Estland. Als die Sowjets 1940 Estland eroberten, floh man erneut Richtung Westen. Van der Bellens Vater hatte zu diesem Zeitpunkt aufgrund seiner Herkunft und insbesondere als international tätiger Banker Repressionen des sowjetischen Geheimdiensts NKWD zu befürchten. Die Flucht ging zunächst nach Wien und Ende 1944, Anfang 1945 und somit rechtzeitig vor dem Eintreffen der Rote Armee in Ostösterreich weiter nach Tirol, wo Van der Bellen senior eine Existenz im Außenhandel aufbauen konnte und zudem ein künftiger Präsident heranwachsen sollte.</td>\n",
       "      <td>Estland, sieht, den, künftigen, österreichischen, Präsidenten, auch, als, estnischen, Staatsbürger., Wien/Tallinn/Pskow, –, Die, Eltern, des, künftigen, Bundespräsidenten, waren, 1941, aus, dem, von, Sowjets, besetzten, Estland, in, das, damalige, Deutsche, Reich, geflohen,, wo, 1944, in, Wien, Sascha, Van, der, Bellen, zur, Welt, kam., Estnische, Verwandte, jubelten, am, Dienstag, über, dessen, Wahlsieg,, Freude, herrscht, auch, unter, Politikern, des, Landes., Interesse, an, Van, der, Bellen, gibt, es, auch, in, der, russischen, Stadt, Pskow,, der, Geburtsstadt, seiner, Eltern., Wir, haben, von, ganzem, Herzen, und, mit, der, ganzen, Familie, mitgefiebert,, sagt, Irina, Steinberg,, eine, Cousine, des, künftigen, Präsidenten., Der, Sonntag, sei, für, sie, deshalb, ein, großer, Stress, gewesen,, erzählt, Steinberg, im, Telefonat, mit, der, APA., Sein, Sieg, zeugt, davon,, dass, die, österreichische, Intelligenzija,, die, denkenden</td>\n",
       "      <td>Estland, sehen, künftig, österreichisch, Präsident, estnischen, Staatsbürger, Wien/Tallinn/Pskow, Eltern, künftig, Bundespräsidenten, Sowjet, besetzen, Estland, damalige, deutschen, Reich, fliehen, Wien, Sascha, Van, Bellen, Welt, Estnische, verwenden, jubeln, Dienstag, Wahlsieg, Freude, herrschen, Politiker, Land, Interesse, Van, Bellen, russisch, Stadt, Pskow, Geburtsstadt, Eltern, ganz, Herz, Familie, mitgefiebert, Irina, Steinberg, Cousine, künftig, Präsident, Sonntag, Stress, erzählen, Steinberg, Telefonat, APA, Sieg, zeugen, österreichisch, Intelligenzija, denkend, Sascha, stimmen, studieren, Philologin, Dorf, Süden, Estland, leben, Freudig, Wahlsieg, ehemalig, Grünen-Chefs, estnischen, Politiker, kommentieren, Wahl, Präsident, estnischen, Wurzel, schaffen, günstige, Bedingung, eng, Zusammenarbeit, Estland, Österreich, erklären, Vorsitzende, außenpolitisch, Ausschuß, estnischen, Parlament, Sven, Mikser, Estland, Aufschwung, europaskeptischer, Kraft, Sorge, beobachten, froh, Österreicher, Van, Bellen, entscheiden, Vertreter, Sozialdemokratische, Partei, Estland, APA, Wahlergebnis, Grund, Österreicher, doppeln, gratulieren, betonen, ehemalig, Außenminister, nunmehrige, liberale, Europaparlamentsabgeordnete, Urmas, Paet, Van, Bellen, jetzige, vernünftig, Wahl, Europa, Österreich, Paet, Gespräch, APA, Estland, estnische, Volk, spielen, Tatsache, Rolle, Österreich, estnischen, Staatsbürger, Präsident, wählen, Auskunft, estnischen, Außenministerium, gelten, Kind, Bewohner, zerstören, unabhängig, Estland, Juni, estnische, Staatsbürgerschaft, verfügt, automatisch, Staatsbürger, nunmehrigen, Estland, APA, vorliegend, Dokument, estnischen, Staatsarchivs, deutsch, Bundesarchivs, belegen, Alma, Alexander, Van, Bellen, senior, Eltern, künftig, Präsident, Besitz, estnischen, Staatsbürgerschaft, Interesse, künftig, Präsident, zeigen, Pskow, Westen, Russland, heutig, estnischen, Grenze, liegen, ursprünglich, Holland, stammend, Familie, Jahrhundert, russisch, Adelstand, erheben, insbesondere, gleichnamig, Großvater, Alexander, Van, Bellen, Oktoberrevolution, Jahr, tragend, politische, Funktion, Region, spielen, bürgerlich, Februarrevolution, Vertreter, russisch, Liberalismus, Kommissar, Übergangsregierung, Gouvernement, Pskow, somit, lokal, Regierungschef, ernennen, einig, Lokalmedien, finden, Schlagzeile, Sieg, Nachfahr, Aristokrat, Pskow, Enkel, Pskower, Gouverneur, Rede, berichten, Direktor, Archiv, Region, Pskow, Waleri, Kusmin, Archiv, finden, zahlreiche, Akte, Familie, Van, Bellen, insbesondere, politisch, Tätigkeit, Vorfahr, Kusmin, Gespräch, APA, nächst, einig, wissenschaftliche, Publikation, Van, Bellen, Pskow, erscheinen, Geschichte, Kleinaristokraten, Pskow, Machtübernahme, Bolschewiken, fliehen, Familie, Großeltern, Vater, künftig, Präsident, Estland, Sowjet, Estland, erobern, fliehen, erneut, Richtung, Westen, Van, Bellen, Vater, Zeitpunkt, aufgrund, Herkunft, insbesondere, international, tätig, Banker, Repression, sowjetisch, Geheimdienst, NKWD, befürchten, Flucht, Wien, Anfang, somit, rechtzeitig, Eintreffen, rot, Armee, Ostösterreich, Tirol, Van, Bellen, senior, Existenz, Außenhandel, aufbauen, zudem, künftig, Präsident, heranwachsen</td>\n",
       "    </tr>\n",
       "  </tbody>\n",
       "</table>\n",
       "</div>"
      ],
      "text/plain": [
       "        label  \\\n",
       "0       Sport   \n",
       "1      Kultur   \n",
       "2         Web   \n",
       "3  Wirtschaft   \n",
       "4      Inland   \n",
       "\n",
       "                                                                                                                                                                                                                                                                                                                                                                                                                                                                                                                                                                                                                                                                                                                                                                                                                                                                                                                                                                                                                                                                                                                                                                                                                                                                                                                                                                                                                                                                                                                                                                                                                                                                                                                                                                                                                                                                                                                                                                                                                                                                                                                                                                                                                                                                                                                                                                                                                                                                                                                                                                                                                                                                                                                                                                                                                                                                                                                                                                                                                                                                                                                                                                                                                                                                                                                                                                                                                                                                                                                                                                                                                                                                                                                                                                                                                                                                                                                                                                                                                                                                                                                                                                                                                                                                                                                                                                                                                                                                                                                                                                        text  \\\n",
       "0                                                                                                                                                                                                                                                                                                                                                                                                                                                                                                                                                                                                                                                                                                                                                                                                                                                                                                                                                                                                                                                                                                                                                                                                                                                                                                                                                                                                                                                                                                                                                                                                                                                                                                                                                                                                                                                                                                                                                                                                                                                                                                                                                                                                                                                                                                                                                                                                                                                                                                                                                                                                                                                                                                                                                                                                                                                                                                                                                                                                                                                                                                                                                                                                                                                                                                                                                                                                                                                                                                                                                                                                                                                                                                                                                                                                                                                                                                                                                                                                                                                                                                           21-Jähriger fällt wohl bis Saisonende aus. Wien – Rapid muss wohl bis Saisonende auf Offensivspieler Thomas Murg verzichten. Der im Winter aus Ried gekommene 21-Jährige erlitt beim 0:4-Heimdebakel gegen Admira Wacker Mödling am Samstag einen Teilriss des Innenbandes im linken Knie, wie eine Magnetresonanz-Untersuchung am Donnerstag ergab. Murg erhielt eine Schiene, muss aber nicht operiert werden. Dennoch steht ihm eine mehrwöchige Pause bevor.   \n",
       "1                                                                                                                                                                                                                                                                                                                                                                                       Erfundene Bilder zu Filmen, die als verloren gelten: \"The Forbidden Room\" von Guy Maddin und Evan Johnson ist ein surrealer Ritt durch die magischen Labyrinthe des frühen Kinos. Wien – Die Filmgeschichte ist ein Friedhof der Verlorenen. Unter den Begrabenen finden sich zahllose Filme, von denen nur noch mysteriös oder abenteuerlich klingende Namen kursieren; und solche, über die verstreut herumliegendes Sekundärmaterial Aufschluss erlaubt. Einer davon ist The Forbidden Room, ein Two-Reeler von 1913/14, den der arbeitswütige US-Regisseur Allan Dwan u. a. mit dem Horrordarsteller Lon Chaney gedreht hat. Ein passender Titel für einen Film, der als verschollen gilt. Verbote sind Einladungen zur Überschreitung. Einen ähnlichen Gedanken hatte wohl auch der kanadische Experimentalfilmemacher Guy Maddin, als er seinem Film von 2015 den gleichen Titel gab. Gemeinsam mit seinem Koregisseur Evan Johnson hat er vergessene, verschwundene Arbeiten der Film geschichte zum Ausgangspunkt einer Neuerfindung erkoren. Um historische Genauigkeit geht es ihnen dabei freilich nicht, erlaubt ist vielmehr alles, was die Fantasie so ausspuckt. Arg angespannte Szenen in einem U-Boot, dessen Besatzung tief im Ozean mit einer Art explosivem Gelee umhertaucht und Sauerstoff mit Pfannkuchen generiert. Oder die Erinnerungen eines Schnurrbarts, der sich auf die Oberlippe des Sohnes eines Toten heftet, um derart der Witwe Trost zu spenden. Letzteres die frei erfundene Handlung eines Mikio-Naruse-Films mit dem Titel The Strength of a Moustache. Immer neue Volten schlägt die Handlung, verläuft dabei kaum jemals linear, sondern gibt sich sprunghaft, surreal dem Unerwarteten hin, irgendwo zwischen Jules Verne, Jacques Tourneur, F. W. Murnau und dem von Maddin verehrten Modernisten Raymond Roussel. Der britische Guardian beschrieb das Ergebnis so: als würde man unter der Einwirkung von LSD durch ein Filmarchiv wandeln. Das Rausch- oder zumindest Traumähnliche teilt diese Arbeit Maddins mit seinen früheren, die kürzer dimensioniert waren. The Forbidden Room ist durch seine Dauer von mehr als zwei Stunden schon nahe an der Überdosis, soll heißen: Die Überforderung ist Programm. Maddin und Johnson geben sich mit keinen Häppchen zufrieden, sondern wollen ein immersives Seherlebnis ermöglichen, in einem mehr an Filmpionier Georges Méliès orientierten Sinne. Sie nehmen die fantastische Qualität des Kinos als seine eigentliche Realität wahr – eine wild Bilder pumpende, an unsere Psyche gekoppelte (und daher auch manchmal humorvoll kindliche) Maschine, wie sie schon in Maddins Kurzfilm The Heart of the World (2000) zur Geltung kam. Wer nach einem Zusammenhang sucht, findet ihn im Bekenntnis zur Abschweifung. Die Verbindung von einem Waldarbeiter (Roy Dupuis), der der Spur einer verschwundenen Frau folgt, zu einem (von Udo Kier verkörperten) Arzt mit einem Fetisch für Gesäße oder zu jenem seltsamen Reklamemenschen, der dem Zuschauer erklärt, wie man das perfekte Bad nimmt – sie liegt allenfalls in der Oberfläche, jener digital in der Postproduktion hergestellten Ästhetik des frühen Kinos, die The Forbidden Room wie ein Gespenst des analogen Zeitalters wachruft. Künstlich verwittert Die Farben der Laufbilder, die auf das eingeschränkte Zwei-Farben-Technicolor-Verfahren verweisen, sind künstlich heruntergestuft, als wäre das Filmmaterial der Verwitterung ausgesetzt gewesen; manche Doppelbelichtungen wirken so, als wären die Mate rialien ineinandergeschmolzen. Auch mit Zwischentiteln und dem weitgehenden Verzicht auf herkömmliche Dialoge schließen Maddin und Evan an den Stummfilm an, dessen stilistische Bandbreite sie in der Montage und szenischen Regie spielerisch betonen und ausagieren. Die Amnesie, heißt es in diesem visuell betörenden Film einmal, befällt jene Menschen, zu denen die Figuren aus der Ferne zurückkehren. Der Gedanke lässt sich auch auf die Bilder des Films anwenden: Er enthält die Fragmente eines Kinos, an das wir uns nicht mehr erinnern können, weil wir es für verloren hielten.   \n",
       "2                                                                                                                                                                                                                                                                                                                                                                                                                                                                                                                                                                                                                                                                                                                                                                                                                                                                                                                                                                                                                                                                                                                                                                                                                                                                                                                                                                                                                                                                                                                                                                                                                                                                                                                                                                                                                                                                                                                                                                                                                                                                                                                                                                                                                                                                                                                                                                       Der frischgekürte CEO Sundar Pichai setzt auf ein umgänglicheres Führungsteam. Die Atmosphäre im Silicon Valley ist rau. Da werden massenhaft Mitarbeiter der direkten Konkurrenz abgeworben, Löhne mit firmenübergreifenden Mauscheleien niedrig gehalten und Untergebene wegen leicht verfehlter Ziele vor die Tür gesetzt. Auch in der höchsten Firmenebene werden brutale Umgangsformen gepflegt: Die Wutausbrüche von Apple-Mitgründer Steve Jobs sind legendär, sein früherer Geschäftspartner Steve Wozniak hätte ihn zu Lebzeiten gerne als Arschloch beschimpft, traute sich aber nicht. Auch Google-Mitgründer Larry Page gilt als Choleriker, für den ein humaner Umgang mit Mitarbeitern nicht an erster Stelle steht. Doch die Zeiten des harten Management-Stils sind bei Google vorbei. Das belegen zahlreiche ehemalige Mitarbeiter und Geschäftspartner. Wie ein Ex-Manager gegenüber re:code pointiert verlautbart: Alle Arschlöcher sind jetzt weg. Verantwortlich dafür zeichnet sich Sundar Pichai, der nach Googles großer Umstrukturierung (Gründung des Dachunternehmens Alphabet) zum CEO des Suchmaschinisten wurde. In den wenigen Monaten als Google-Chef hat Pichai nun bereits einige Umstrukturierungen vorgenommen – und erhält dafür viel Lob aus der Branche. So wurde beispielsweise Hiroshi Lockheimer zum Android-Chef gemacht. Ehemalige Kollegen, etwa Motorola-Präsident Rick Osterloh, schwärmen von ihm als großartigen Typen, den man sehr gern hat. So soll Lockheimer dafür gesorgt haben, dass alle Smartphone-Hersteller, die auf Android setzen, gleichberechtigten Zugang zu Entwicklungen des Betriebssystems haben – auch, als Motorola noch zu Google gehörte. Ein anderes Beispiel ist Philipp Schindler, der Googles Werbegeschäft leiten soll. Medienpartner beschreiben ihn als kompromissbereit und umgänglich. Gelernt hat Schindler das in Europa, wo er Google jahrelang gegen Monopol-Vorwürfe aus Regierungskreisen verteidigen musste. Älterer Semester im Google-Umfeld befürchten laut re:code allerdings, dass ein softes Google wichtige Scharmützel verlieren wird. Doch die Zeit der ausgefahrenen Ellbogen ist vorerst vorbei.   \n",
       "3                                                                                                                                                                                                                                                                                                                                                                                                                                                                                                                                                                                                                                                                                                                                                                                                                                                                                                                                                                                                                                                                                                                                                                                                                                                                                                                                                                                                                                                                                                                                                                                                                                                                                                                                                                                                                                                                                                                                                                                                                                                                                                                                                                                                                                                                                                                                                                                                                                                                                                                                                                                                                                                                                                                                                                                                                                                                                                                                                                                                                                                                                                                                                                                                                                                                                                                                                                                                                                                                                                                                                                                                                                                                                                                                                                                                                                                                                   Putin: \"Einigung, dass wir Menge auf Niveau von Jänner halten\". Moskau – Die russischen Ölproduzenten wollen nach den Worten von Präsident Wladimir Putin ihre Förderung in diesem Jahr einfrieren. Im Großen und Ganzen wurde eine Einigung erzielt, dass wir die Ölproduktion auf dem Niveau von Jänner halten werden, sagte Putin am Mittwoch in Moskau. Russland leidet wie andere Förderstaaten unter dem drastischen Einbruch der Ölpreise. Putin will die Preise durch eine begrenzte Förderung im In- und Ausland stabilisieren. Dazu hatte Russland jüngst mit Saudi-Arabien und anderen großen Förderländern über ein Einfrieren der Produktion auf dem Jänner-Niveau beraten.   \n",
       "4  Estland sieht den künftigen österreichischen Präsidenten auch als estnischen Staatsbürger. Wien/Tallinn/Pskow – Die Eltern des künftigen Bundespräsidenten waren 1941 aus dem von Sowjets besetzten Estland in das damalige Deutsche Reich geflohen, wo 1944 in Wien Sascha Van der Bellen zur Welt kam. Estnische Verwandte jubelten am Dienstag über dessen Wahlsieg, Freude herrscht auch unter Politikern des Landes. Interesse an Van der Bellen gibt es auch in der russischen Stadt Pskow, der Geburtsstadt seiner Eltern. Wir haben von ganzem Herzen und mit der ganzen Familie mitgefiebert, sagt Irina Steinberg, eine Cousine des künftigen Präsidenten. Der Sonntag sei für sie deshalb ein großer Stress gewesen, erzählt Steinberg im Telefonat mit der APA. Sein Sieg zeugt davon, dass die österreichische Intelligenzija, die denkenden Menschen, für Sascha gestimmt haben, so die studierte Philologin, die in einem Dorf im Süden Estlands lebt. Freudig wird der Wahlsieg des ehemaligen Grünen-Chefs auch von estnischen Politikern kommentiert. Die Wahl eines Präsidenten mit estnischen Wurzeln schafft günstige Bedingungen für eine engere Zusammenarbeit zwischen Estland und Österreich, erklärt der Vorsitzende des außenpolitischen Ausschusses im estnischen Parlament, Sven Mikser. Da Estland aber auch den Aufschwung europaskeptischer Kräfte mit Sorge beobachte, sei er froh, dass sich die Österreicher für Van der Bellen entscheiden haben, sagt der Vertreter der Sozialdemokratischen Partei Estlands gegenüber der APA. Das Wahlergebnis ist ein guter Grund, den Österreichern gleich doppelt zu gratulieren, betont der ehemalige Außenminister und nunmehrige liberale Europaparlamentsabgeordnete Urmas Paet. Van der Bellen sei für die jetzige Zeit eine sehr vernünftige Wahl, sie sei gut für Europa und Österreich, sagt Paet im Gespräch mit der APA. Für Estland und das estnische Volk spielt aber auch die Tatsache eine Rolle, dass Österreich einen estnischen Staatsbürger zum Präsidenten gewählt hat. Nach Auskunft des estnischen Außenministeriums gelten Kinder von Bewohnern des 1940 zerstörten unabhängigen Estland, die vor dem 16. Juni 1940 über die estnische Staatsbürgerschaft verfügten, automatisch als Staatsbürger des nunmehrigen Estland. Der APA vorliegende Dokumente des estnischen Staatsarchivs und des deutschen Bundesarchivs belegen, dass Alma und Alexander Van der Bellen senior, die Eltern des künftigen Präsidenten, damals im Besitz der estnischen Staatsbürgerschaft waren. Interesse am künftigen Präsidenten zeigt aber auch Pskow, das im Westen Russland an der heutigen estnischen Grenze liegt. Die ursprünglich aus Holland stammende Familie war hier im 19. Jahrhundert in den russischen Adelstand erhoben worden, insbesondere der ebenso gleichnamige Großvater von Alexander Van der Bellen hatte vor der Oktoberrevolution des Jahres 1917 eine tragende politische Funktion in der Region gespielt. Nach der bürgerlichen Februarrevolution von 1917 war dieser Vertreter eines russischen Liberalismus zum Kommissar der Übergangsregierung für das Gouvernement Pskow und somit zum lokalen Regierungschef ernannt worden. In einigen Lokalmedien finden sich Schlagzeilen, in denen vom Sieg des Nachfahren eines Aristokraten aus Pskow oder des Enkels des Pskower Gouverneurs die Rede ist, berichtet der Direktor des Archivs der Region Pskow, Waleri Kusmin. In diesem Archiv finden sich zahlreiche Akten zur Familie Van der Bellen, insbesondere zur politischen Tätigkeit der Vorfahren. Kusmin geht im Gespräch mit der APA davon aus, dass in der nächsten Zeit auch einige wissenschaftliche Publikationen über die Van der Bellens in Pskow erscheinen werden. Die Geschichte dieser Kleinaristokraten in Pskow ging nach der Machtübernahme der Bolschewiken zu Ende: 1919 floh die Familie, darunter die Großeltern und der Vater des künftigen Präsidenten, nach Estland. Als die Sowjets 1940 Estland eroberten, floh man erneut Richtung Westen. Van der Bellens Vater hatte zu diesem Zeitpunkt aufgrund seiner Herkunft und insbesondere als international tätiger Banker Repressionen des sowjetischen Geheimdiensts NKWD zu befürchten. Die Flucht ging zunächst nach Wien und Ende 1944, Anfang 1945 und somit rechtzeitig vor dem Eintreffen der Rote Armee in Ostösterreich weiter nach Tirol, wo Van der Bellen senior eine Existenz im Außenhandel aufbauen konnte und zudem ein künftiger Präsident heranwachsen sollte.   \n",
       "\n",
       "                                                                                                                                                                                                                                                                                                                                                                                                                                                                                                                                                                                                                                                                                                                                                                                                                                                                                                                                                                                                                                                                         text120  \\\n",
       "0                                                                                                                                                                                                                                                                                                                                                                                                                                                                                                                                                 21-Jähriger, fällt, wohl, bis, Saisonende, aus., Wien, –, Rapid, muss, wohl, bis, Saisonende, auf, Offensivspieler, Thomas, Murg, verzichten., Der, im, Winter, aus, Ried, gekommene, 21-Jährige, erlitt, beim, 0:4-Heimdebakel, gegen, Admira, Wacker, Mödling, am, Samstag, einen, Teilriss, des, Innenbandes, im, linken, Knie,, wie, eine, Magnetresonanz-Untersuchung, am, Donnerstag, ergab., Murg, erhielt, eine, Schiene,, muss, aber, nicht, operiert, werden., Dennoch, steht, ihm, eine, mehrwöchige, Pause, bevor.   \n",
       "1                                                                                     Erfundene, Bilder, zu, Filmen,, die, als, verloren, gelten:, \"The, Forbidden, Room\", von, Guy, Maddin, und, Evan, Johnson, ist, ein, surrealer, Ritt, durch, die, magischen, Labyrinthe, des, frühen, Kinos., Wien, –, Die, Filmgeschichte, ist, ein, Friedhof, der, Verlorenen., Unter, den, Begrabenen, finden, sich, zahllose, Filme,, von, denen, nur, noch, mysteriös, oder, abenteuerlich, klingende, Namen, kursieren;, und, solche,, über, die, verstreut, herumliegendes, Sekundärmaterial, Aufschluss, erlaubt., Einer, davon, ist, The, Forbidden, Room,, ein, Two-Reeler, von, 1913/14,, den, der, arbeitswütige, US-Regisseur, Allan, Dwan, u., a., mit, dem, Horrordarsteller, Lon, Chaney, gedreht, hat., Ein, passender, Titel, für, einen, Film,, der, als, verschollen, gilt., Verbote, sind, Einladungen, zur, Überschreitung., Einen, ähnlichen, Gedanken, hatte, wohl, auch, der, kanadische, Experimentalfilmemacher, Guy, Maddin,, als, er, seinem, Film, von, 2015   \n",
       "2  Der, frischgekürte, CEO, Sundar, Pichai, setzt, auf, ein, umgänglicheres, Führungsteam., Die, Atmosphäre, im, Silicon, Valley, ist, rau., Da, werden, massenhaft, Mitarbeiter, der, direkten, Konkurrenz, abgeworben,, Löhne, mit, firmenübergreifenden, Mauscheleien, niedrig, gehalten, und, Untergebene, wegen, leicht, verfehlter, Ziele, vor, die, Tür, gesetzt., Auch, in, der, höchsten, Firmenebene, werden, brutale, Umgangsformen, gepflegt:, Die, Wutausbrüche, von, Apple-Mitgründer, Steve, Jobs, sind, legendär,, sein, früherer, Geschäftspartner, Steve, Wozniak, hätte, ihn, zu, Lebzeiten, gerne, als, Arschloch, beschimpft,, traute, sich, aber, nicht., Auch, Google-Mitgründer, Larry, Page, gilt, als, Choleriker,, für, den, ein, humaner, Umgang, mit, Mitarbeitern, nicht, an, erster, Stelle, steht., Doch, die, Zeiten, des, harten, Management-Stils, sind, bei, Google, vorbei., Das, belegen, zahlreiche, ehemalige, Mitarbeiter, und, Geschäftspartner., Wie, ein, Ex-Manager, gegenüber, re:code, pointiert, verlautbart:, Alle, Arschlöcher   \n",
       "3                                                                                                                                                                                                                                                                                       Putin:, \"Einigung,, dass, wir, Menge, auf, Niveau, von, Jänner, halten\"., Moskau, –, Die, russischen, Ölproduzenten, wollen, nach, den, Worten, von, Präsident, Wladimir, Putin, ihre, Förderung, in, diesem, Jahr, einfrieren., Im, Großen, und, Ganzen, wurde, eine, Einigung, erzielt,, dass, wir, die, Ölproduktion, auf, dem, Niveau, von, Jänner, halten, werden,, sagte, Putin, am, Mittwoch, in, Moskau., Russland, leidet, wie, andere, Förderstaaten, unter, dem, drastischen, Einbruch, der, Ölpreise., Putin, will, die, Preise, durch, eine, begrenzte, Förderung, im, In-, und, Ausland, stabilisieren., Dazu, hatte, Russland, jüngst, mit, Saudi-Arabien, und, anderen, großen, Förderländern, über, ein, Einfrieren, der, Produktion, auf, dem, Jänner-Niveau, beraten.   \n",
       "4                                                                                               Estland, sieht, den, künftigen, österreichischen, Präsidenten, auch, als, estnischen, Staatsbürger., Wien/Tallinn/Pskow, –, Die, Eltern, des, künftigen, Bundespräsidenten, waren, 1941, aus, dem, von, Sowjets, besetzten, Estland, in, das, damalige, Deutsche, Reich, geflohen,, wo, 1944, in, Wien, Sascha, Van, der, Bellen, zur, Welt, kam., Estnische, Verwandte, jubelten, am, Dienstag, über, dessen, Wahlsieg,, Freude, herrscht, auch, unter, Politikern, des, Landes., Interesse, an, Van, der, Bellen, gibt, es, auch, in, der, russischen, Stadt, Pskow,, der, Geburtsstadt, seiner, Eltern., Wir, haben, von, ganzem, Herzen, und, mit, der, ganzen, Familie, mitgefiebert,, sagt, Irina, Steinberg,, eine, Cousine, des, künftigen, Präsidenten., Der, Sonntag, sei, für, sie, deshalb, ein, großer, Stress, gewesen,, erzählt, Steinberg, im, Telefonat, mit, der, APA., Sein, Sieg, zeugt, davon,, dass, die, österreichische, Intelligenzija,, die, denkenden   \n",
       "\n",
       "                                                                                                                                                                                                                                                                                                                                                                                                                                                                                                                                                                                                                                                                                                                                                                                                                                                                                                                                                                                                                                                                                                                                                                                                                                                                                                                                                                                                                                                                                                                                                                                                                                                                                                                                                                                                                                                                                                                                                                                                                                                                                                                                                                                                                                                                                                                                                                                                                                                                                                                                                                                                                                                                                                                                                                                                                                                                                                                                                                                                                                                                                                                                                                                                                                                                                                                         prepro  \n",
       "0                                                                                                                                                                                                                                                                                                                                                                                                                                                                                                                                                                                                                                                                                                                                                                                                                                                                                                                                                                                                                                                                                                                                                                                                                                                                                                                                                                                                                                                                                                                                                                                                                                                                                                                                                                                                                                                                                                                                                                                                                                                                                                                                                                                                                                                                                                                                                                                                                                                                                                                                                                                                                                                                                                                                                                                                                                                                                                                                                      21-Jähriger, fällen, Saisonende, Wien, Rapid, Saisonende, Offensivspieler, Thoma, Murg, verzichten, Winter, Ried, gekommen, 21-Jährige, erleiden, 0:4-Heimdebakel, Admira, Wacker, Mödling, Samstag, Teilriss, Innenbandes, link, Knie, Magnetresonanz-Untersuchung, Donnerstag, ergeben, Murg, erhalten, Schiene, operieren, Dennoch, stehen, mehrwöchige, Pause, bevor  \n",
       "1                                                                                                                                                                                                                                                                                             Erfundene, Bild, Film, verlieren, gelten, The, Forbidden, Room, Guy, Maddin, Evan, Johnson, surrealer, Ritt, magisch, Labyrinth, früh, Kino, Wien, Filmgeschichte, Friedhof, Verlorene, Begrabene, finden, zahllos, Film, mysteriös, abenteuerlich, klingend, Name, kursieren, verstreuen, herumliegend, Sekundärmaterial, Aufschluss, erlauben, The, Forbidden, Room, Two-Reeler, arbeitswütige, US-Regisseur, Allan, Dwan, u., a., Horrordarsteller, Lon, Chaney, drehen, passend, Titel, Film, verschollen, gelten, Verbot, Einladung, Überschreitung, ähnlich, Gedanke, kanadische, Experimentalfilmemacher, Guy, Maddin, Film, gleich, Titel, Gemeinsam, Koregisseur, Evan, Johnson, vergessen, verschwunden, Arbeit, Film, geschichte, Ausgangspunkt, Neuerfindung, erkiesen, historische, Genauigkeit, freilich, erlauben, vielmehr, Fantasie, ausspucken, Arg, angespannt, Szene, U-Boot, Besatzung, tief, Ozean, Art, explosiv, Gelee, umhertaucht, Sauerstoff, Pfannkuchen, generieren, Erinnerung, Schnurrbart, Oberlippe, Sohnes, Tote, heften, derart, Witwe, Trost, spenden, Letzteres, frei, erfunden, Handlung, Mikio-Naruse-Films, Titel, The, Strength, of, Moustache, Volten, schlagen, Handlung, verlaufen, jemals, linear, sprunghaft, surreal, Unerwartete, irgendwo, Jules, Verne, Jacques, Tourneur, F., W., Murnau, Maddin, verehren, Modernisten, Raymond, Roussel, britische, Guardian, beschreiben, Ergebnis, Einwirkung, LSD, Filmarchiv, wandeln, Rausch-, zumindest, Traumähnliche, teilen, Arbeit, Maddins, früh, kurz, dimensionieren, The, Forbidden, Room, Dauer, Stunde, nahe, Überdosis, heiß, Überforderung, Programm, Maddin, Johnson, geben, Häppchen, zufrieden, immersives, Seherlebnis, ermöglichen, Filmpionier, George, Méliès, orientieren, Sinn, nehmen, fantastische, Qualität, Kino, eigentlich, Realität, wild, Bild, pumpend, Psyche, gekoppelt, manchmal, humorvoll, kindlich, Maschine, Maddins, Kurzfilm, The, Heart, of, the, World, Geltung, Zusammenhang, suchen, finden, Bekenntnis, Abschweifung, Verbindung, Waldarbeiter, Roy, Dupuis, Spur, verschwunden, Frau, folgen, Udo, Kier, verkörpern, Arzt, Fetisch, Gesäße, seltsam, Reklamemenschen, Zuschauer, erklären, perfekte, Bad, nehmen, liegen, allenfalls, Oberfläche, digital, Postproduktion, hergestellt, Ästhetik, früh, Kino, The, Forbidden, Room, Gespenst, analog, Zeitalters, wachrufen, Künstlich, verwittert, Farbe, Laufbilder, eingeschränkt, Zwei-Farben-Technicolor-Verfahren, verweisen, künstlich, heruntergestuft, Filmmaterial, Verwitterung, aussetzen, Doppelbelichtungen, wirken, sein, Mate, rialien, ineinandergeschmolzen, Zwischentiteln, weitgehenden, Verzicht, herkömmlich, Dialog, schließen, Maddin, Evan, Stummfilm, stilistische, Bandbreite, Montag, szenisch, Regie, spielerisch, betonen, ausagieren, Amnesie, visuell, betörend, Film, befallen, Figur, Ferne, zurückkehren, Gedanke, lässt, Bild, Film, anwenden, enthalten, Fragment, Kino, erinnern, verlieren, halten  \n",
       "2                                                                                                                                                                                                                                                                                                                                                                                                                                                                                                                                                                                                                                                                                                                                                                                                                                                                                                                                                                                                                                                                                                                                                                                                                                                                                                                                                                                                                                                                                                                                                                                                                                                                   frischgekürte, CEO, Sundar, Pichai, setzen, umgänglich, Führungsteam, Atmosphäre, Silicon, Valley, rau, massenhaft, Mitarbeiter, direkt, Konkurrenz, abwerben, Löhne, firmenübergreifenden, Mauscheleien, niedrig, halten, Untergebener, verfehlt, Ziel, Tür, setzen, hoch, Firmenebene, brutale, Umgangsformen, pflegen, Wutausbrüche, Apple-Mitgründer, Steve, Job, legendär, früh, Geschäftspartner, Steve, Wozniak, Lebzeiten, gerne, Arschloch, beschimpfen, trauen, Google-Mitgründer, Larry, Page, gelten, Choleriker, human, Umgang, Mitarbeiter, Stelle, stehen, Zeit, harten, Management-Stils, Google, vorbei, belegen, zahlreiche, ehemalig, Mitarbeiter, Geschäftspartner, Ex-Manager, re, code, pointiert, verlautbart, Arschlöcher, weg, Verantwortlich, zeichnen, Sundar, Pichai, Googles, Umstrukturierung, Gründung, Dachunternehmens, Alphabet, CEO, Suchmaschinisten, wenig, Monat, Google-Chef, Pichai, einig, Umstrukturierung, vornehmen, erhalten, Lob, Branche, beispielsweise, Hiroshi, Lockheimer, Android-Chef, Ehemalige, Kollege, Motorola-Präsident, Rick, Osterloh, schwärmen, großartig, Typus, Lockheimer, sorgen, Smartphone-Hersteller, Android, setzen, gleichberechtigt, Zugang, Entwicklung, Betriebssystems, Motorola, Google, gehören, ander, Philipp, Schindler, Googles, Werbegeschäft, leiten, Medienpartner, beschreiben, kompromissbereit, umgänglich, Gelernt, Schindler, Europa, Google, jahrelang, Monopol-Vorwürfe, Regierungskreisen, verteidigen, Älterer, Semester, Google-Umfeld, befürchten, laut, re, code, softes, Google, wichtig, Scharmützel, verlieren, ausgefahren, Ellbogen, vorerst, vorbei  \n",
       "3                                                                                                                                                                                                                                                                                                                                                                                                                                                                                                                                                                                                                                                                                                                                                                                                                                                                                                                                                                                                                                                                                                                                                                                                                                                                                                                                                                                                                                                                                                                                                                                                                                                                                                                                                                                                                                                                                                                                                                                                                                                                                                                                                                                                                                                                                                                                                                                                                                                                                                                                                                                                                                                                                                                                                                                                                                                                Putin, Einigung, Menge, Niveau, Jänner, halten, Moskau, russisch, Ölproduzenten, Worten, Präsident, Wladimir, Putin, Förderung, einfrieren, Einigung, erzielen, Ölproduktion, Niveau, Jänner, halten, Putin, Mittwoch, Moskau, Russland, leiden, Förderstaaten, drastisch, Einbruch, Ölpreise, Putin, Preis, begrenzen, Förderung, In-, Ausland, stabilisieren, Russland, jüngst, Saudi-Arabien, Förderländern, Einfrieren, Produktion, Jänner-Niveau, beraten  \n",
       "4  Estland, sehen, künftig, österreichisch, Präsident, estnischen, Staatsbürger, Wien/Tallinn/Pskow, Eltern, künftig, Bundespräsidenten, Sowjet, besetzen, Estland, damalige, deutschen, Reich, fliehen, Wien, Sascha, Van, Bellen, Welt, Estnische, verwenden, jubeln, Dienstag, Wahlsieg, Freude, herrschen, Politiker, Land, Interesse, Van, Bellen, russisch, Stadt, Pskow, Geburtsstadt, Eltern, ganz, Herz, Familie, mitgefiebert, Irina, Steinberg, Cousine, künftig, Präsident, Sonntag, Stress, erzählen, Steinberg, Telefonat, APA, Sieg, zeugen, österreichisch, Intelligenzija, denkend, Sascha, stimmen, studieren, Philologin, Dorf, Süden, Estland, leben, Freudig, Wahlsieg, ehemalig, Grünen-Chefs, estnischen, Politiker, kommentieren, Wahl, Präsident, estnischen, Wurzel, schaffen, günstige, Bedingung, eng, Zusammenarbeit, Estland, Österreich, erklären, Vorsitzende, außenpolitisch, Ausschuß, estnischen, Parlament, Sven, Mikser, Estland, Aufschwung, europaskeptischer, Kraft, Sorge, beobachten, froh, Österreicher, Van, Bellen, entscheiden, Vertreter, Sozialdemokratische, Partei, Estland, APA, Wahlergebnis, Grund, Österreicher, doppeln, gratulieren, betonen, ehemalig, Außenminister, nunmehrige, liberale, Europaparlamentsabgeordnete, Urmas, Paet, Van, Bellen, jetzige, vernünftig, Wahl, Europa, Österreich, Paet, Gespräch, APA, Estland, estnische, Volk, spielen, Tatsache, Rolle, Österreich, estnischen, Staatsbürger, Präsident, wählen, Auskunft, estnischen, Außenministerium, gelten, Kind, Bewohner, zerstören, unabhängig, Estland, Juni, estnische, Staatsbürgerschaft, verfügt, automatisch, Staatsbürger, nunmehrigen, Estland, APA, vorliegend, Dokument, estnischen, Staatsarchivs, deutsch, Bundesarchivs, belegen, Alma, Alexander, Van, Bellen, senior, Eltern, künftig, Präsident, Besitz, estnischen, Staatsbürgerschaft, Interesse, künftig, Präsident, zeigen, Pskow, Westen, Russland, heutig, estnischen, Grenze, liegen, ursprünglich, Holland, stammend, Familie, Jahrhundert, russisch, Adelstand, erheben, insbesondere, gleichnamig, Großvater, Alexander, Van, Bellen, Oktoberrevolution, Jahr, tragend, politische, Funktion, Region, spielen, bürgerlich, Februarrevolution, Vertreter, russisch, Liberalismus, Kommissar, Übergangsregierung, Gouvernement, Pskow, somit, lokal, Regierungschef, ernennen, einig, Lokalmedien, finden, Schlagzeile, Sieg, Nachfahr, Aristokrat, Pskow, Enkel, Pskower, Gouverneur, Rede, berichten, Direktor, Archiv, Region, Pskow, Waleri, Kusmin, Archiv, finden, zahlreiche, Akte, Familie, Van, Bellen, insbesondere, politisch, Tätigkeit, Vorfahr, Kusmin, Gespräch, APA, nächst, einig, wissenschaftliche, Publikation, Van, Bellen, Pskow, erscheinen, Geschichte, Kleinaristokraten, Pskow, Machtübernahme, Bolschewiken, fliehen, Familie, Großeltern, Vater, künftig, Präsident, Estland, Sowjet, Estland, erobern, fliehen, erneut, Richtung, Westen, Van, Bellen, Vater, Zeitpunkt, aufgrund, Herkunft, insbesondere, international, tätig, Banker, Repression, sowjetisch, Geheimdienst, NKWD, befürchten, Flucht, Wien, Anfang, somit, rechtzeitig, Eintreffen, rot, Armee, Ostösterreich, Tirol, Van, Bellen, senior, Existenz, Außenhandel, aufbauen, zudem, künftig, Präsident, heranwachsen  "
      ]
     },
     "execution_count": 11,
     "metadata": {},
     "output_type": "execute_result"
    }
   ],
   "source": [
    "gnd[\"text120\"] = (gnd.text.str.split().str[:120]).apply(\", \".join)\n",
    "gnd[\"prepro\"] = gnd.text.apply(textcleaner).apply(\", \".join)\n",
    "gnd.head()"
   ]
  },
  {
   "cell_type": "markdown",
   "metadata": {},
   "source": [
    "Wir splitten wieder in Training (70%) und Test-Set (30%):"
   ]
  },
  {
   "cell_type": "code",
   "execution_count": 12,
   "metadata": {},
   "outputs": [
    {
     "data": {
      "text/plain": [
       "((6471, 4), (2774, 4))"
      ]
     },
     "execution_count": 12,
     "metadata": {},
     "output_type": "execute_result"
    }
   ],
   "source": [
    "from sklearn.model_selection import train_test_split\n",
    "df_train, df_test = train_test_split(gnd, test_size=.3, stratify=gnd.label)\n",
    "df_train.shape, df_test.shape"
   ]
  },
  {
   "cell_type": "code",
   "execution_count": 13,
   "metadata": {},
   "outputs": [
    {
     "data": {
      "text/plain": [
       "Panorama         0.163\n",
       "Web              0.163\n",
       "International    0.147\n",
       "Wirtschaft       0.137\n",
       "Sport            0.117\n",
       "Inland           0.099\n",
       "Etat             0.065\n",
       "Wissenschaft     0.056\n",
       "Kultur           0.052\n",
       "Name: label, dtype: float64"
      ]
     },
     "execution_count": 13,
     "metadata": {},
     "output_type": "execute_result"
    }
   ],
   "source": [
    "df_train.label.value_counts(normalize=True).round(3)"
   ]
  },
  {
   "cell_type": "markdown",
   "metadata": {},
   "source": [
    "Wir importieren die notwendigen Classifier & Tools aus Scikit-Learn"
   ]
  },
  {
   "cell_type": "code",
   "execution_count": 15,
   "metadata": {},
   "outputs": [],
   "source": [
    "from sklearn.feature_extraction.text import TfidfVectorizer, CountVectorizer, TfidfTransformer\n",
    "from sklearn.svm import LinearSVC\n",
    "from sklearn.linear_model import LogisticRegression\n",
    "from sklearn.pipeline import Pipeline\n",
    "from sklearn.model_selection import train_test_split\n",
    "from sklearn.metrics import accuracy_score, classification_report, confusion_matrix "
   ]
  },
  {
   "cell_type": "code",
   "execution_count": 16,
   "metadata": {
    "collapsed": true,
    "jupyter": {
     "outputs_hidden": true
    }
   },
   "outputs": [
    {
     "name": "stdout",
     "output_type": "stream",
     "text": [
      "               precision    recall  f1-score   support\n",
      "\n",
      "         Etat       0.75      0.90      0.82       150\n",
      "       Inland       0.78      0.82      0.80       261\n",
      "International       0.90      0.86      0.88       429\n",
      "       Kultur       0.93      0.78      0.85       175\n",
      "     Panorama       0.82      0.82      0.82       453\n",
      "        Sport       0.97      0.98      0.97       323\n",
      "          Web       0.86      0.91      0.89       430\n",
      "   Wirtschaft       0.82      0.77      0.80       406\n",
      " Wissenschaft       0.81      0.86      0.83       147\n",
      "\n",
      "     accuracy                           0.85      2774\n",
      "    macro avg       0.85      0.85      0.85      2774\n",
      " weighted avg       0.86      0.85      0.85      2774\n",
      "\n"
     ]
    }
   ],
   "source": [
    "# classifier pipeline mit Support Vektor Machine als Classifier definieren\n",
    "lsvc_classifier = Pipeline([\n",
    "  ('vect', CountVectorizer()),\n",
    "  ('tfidf', TfidfTransformer(sublinear_tf=True)),                   \n",
    "  ('clf', LinearSVC(dual=False, C=1.6, class_weight=\"balanced\")),\n",
    "])\n",
    "\n",
    "# classifier mit vorgeschalteter Pipeline trainieren:\n",
    "lsvc_classifier.fit(df_train.prepro, df_train.label)  # train the classifier\n",
    "\n",
    "# trainierten classifier auf die Testdaten anwenden, um den Accuracy Score zu ermitteln:\n",
    "predicted = lsvc_classifier.predict(df_test.prepro)  # predict the test set \n",
    "print(classification_report(predicted, df_test.label))"
   ]
  },
  {
   "cell_type": "markdown",
   "metadata": {},
   "source": [
    "Zum Vergleich dasselbe nochmal mit einem anderen Classifier: \"Logistische Regression\""
   ]
  },
  {
   "cell_type": "code",
   "execution_count": null,
   "metadata": {
    "jupyter": {
     "source_hidden": true
    }
   },
   "outputs": [],
   "source": [
    "logReg_classifier = Pipeline([\n",
    "  ('vect', CountVectorizer()),\n",
    "  ('tfidf', TfidfTransformer(sublinear_tf=True)),               \n",
    "  ('clf', LogisticRegression(class_weight=\"balanced\", solver='lbfgs', multi_class='auto'),),\n",
    "])\n",
    "\n",
    "logReg_classifier.fit(df_train['text'], df_train['label'])         # train the classifier\n",
    "predicted = logReg_classifier.predict(df_test['text'])             # predict the test set \n",
    "acc = np.mean(predicted == df_test['label'])                       # calculate the accuracy\n",
    "\n",
    "logReg_classifier.fit(df_train.text120, df_train.label) \n",
    "predicted = logReg_classifier.predict(df_test.text120)  \n",
    "\n",
    "print(classification_report(predicted, df_test.label))"
   ]
  },
  {
   "cell_type": "markdown",
   "metadata": {},
   "source": [
    "***\n",
    "## Active Labeling mit 50 Trainingsdaten auf Basis k-Means (k=50)"
   ]
  },
  {
   "cell_type": "code",
   "execution_count": null,
   "metadata": {},
   "outputs": [],
   "source": []
  },
  {
   "cell_type": "code",
   "execution_count": 20,
   "metadata": {},
   "outputs": [],
   "source": [
    "from sklearn.cluster import KMeans\n",
    "k = 50\n",
    "kmeans = KMeans(n_clusters = k)\n",
    "\n",
    "km = Pipeline([\n",
    "  ('vect', CountVectorizer()),\n",
    "  ('tfidf', TfidfTransformer(sublinear_tf=True)),                   \n",
    "  ('kmeans', KMeans(n_clusters = k)),\n",
    "])\n",
    "\n",
    "\n",
    "X_digits_dist = km.fit_transform(df_train.prepro)\n",
    "\n",
    "\n",
    "# representative_digit_idx = np.argmin(X_digits_dist, axis=0)\n",
    "# X_representative_digits = X_train[representative_digit_idx]\n",
    "# X_representative_digits.shape"
   ]
  },
  {
   "cell_type": "code",
   "execution_count": 21,
   "metadata": {
    "collapsed": true,
    "jupyter": {
     "outputs_hidden": true
    }
   },
   "outputs": [
    {
     "data": {
      "text/plain": [
       "array([[1.02818835, 1.01961857, 1.0260788 , ..., 1.01991556, 1.04953802,\n",
       "        1.04846197],\n",
       "       [1.02736098, 1.01527377, 1.02277145, ..., 1.01937474, 1.05170887,\n",
       "        1.03961289],\n",
       "       [0.98891797, 1.01487573, 1.02429329, ..., 1.01628547, 1.02380328,\n",
       "        1.02582261],\n",
       "       ...,\n",
       "       [1.01993713, 0.97458856, 0.94213429, ..., 1.01140067, 1.0430067 ,\n",
       "        1.03704286],\n",
       "       [1.0270394 , 1.01607825, 1.02346306, ..., 1.01768262, 1.05064973,\n",
       "        1.04559519],\n",
       "       [1.02264071, 1.00665581, 1.01464215, ..., 1.0141699 , 1.04771653,\n",
       "        1.03629028]])"
      ]
     },
     "execution_count": 21,
     "metadata": {},
     "output_type": "execute_result"
    }
   ],
   "source": [
    "X_digits_dist"
   ]
  },
  {
   "cell_type": "code",
   "execution_count": 29,
   "metadata": {},
   "outputs": [
    {
     "data": {
      "text/plain": [
       "array([4511, 1528, 3663, 5937, 5878, 3035, 4432, 6358, 2321, 4883, 5846,\n",
       "       1040, 3109, 1020, 1312, 5435, 3453, 4162, 5064, 1653, 3370,  318,\n",
       "        416, 4209,  578, 5512, 2995, 3010, 1443,  568, 4688, 3999, 2313,\n",
       "        814,   13, 2481, 2254, 5495, 4949, 4181,  480, 4295, 2337, 1652,\n",
       "       5667, 3867, 1833, 1244,  165, 5290], dtype=int64)"
      ]
     },
     "execution_count": 29,
     "metadata": {},
     "output_type": "execute_result"
    }
   ],
   "source": [
    "representative_digit_idx = np.argmin(X_digits_dist, axis=0)\n",
    "representative_digit_idx"
   ]
  },
  {
   "cell_type": "code",
   "execution_count": null,
   "metadata": {},
   "outputs": [],
   "source": []
  },
  {
   "cell_type": "code",
   "execution_count": 39,
   "metadata": {},
   "outputs": [
    {
     "data": {
      "text/plain": [
       "(50,)"
      ]
     },
     "execution_count": 39,
     "metadata": {},
     "output_type": "execute_result"
    }
   ],
   "source": [
    "X_representative_digits = df_train.iloc[representative_digit_idx].prepro\n",
    "X_representative_digits.shape"
   ]
  },
  {
   "cell_type": "code",
   "execution_count": 44,
   "metadata": {},
   "outputs": [
    {
     "data": {
      "text/plain": [
       "(50,)"
      ]
     },
     "execution_count": 44,
     "metadata": {},
     "output_type": "execute_result"
    }
   ],
   "source": [
    "y_representative_digits = df_train.iloc[representative_digit_idx].label\n",
    "y_representative_digits.shape"
   ]
  },
  {
   "cell_type": "code",
   "execution_count": 46,
   "metadata": {
    "collapsed": true,
    "jupyter": {
     "outputs_hidden": true
    }
   },
   "outputs": [
    {
     "data": {
      "text/plain": [
       "5952    Deutscher, Verkehrsminister, Zahl, betroffen, Fahrzeug, stehen, fest, Seat-, Škoda-Modelle, betreffen, Wolfsburg, Volkswagen-Affäre, Manipulation, Abgasmessung, Dieselautos, ziehen, Kreis, Donnerstag, Fahrzeug, Europa, betreffen,  , Bekanntwerden, Skandal, USA, Volkswagen, mitteilen, weltweit, Million, Fahrzeug, betreffen, Europa, VW, Auto, Software, manipulieren, Test, deutlich, gesundheitsschädlich, Stickoxid, ausstoßen, tatsächlich, Straße, Konzernchef, Martin, Winterkorn, Affäre, Mittwoch, Rücktritt, Porsche-Chef, Matthias, Müller, Insider, zufolge, neu, Vorstandschef, Volkswagen, Aufsichtsrat, 62-Jährigen, Freitag, Nachfolger, Winterkorns, bestellen, Beratung, vertrauen, Person, Nachrichtenagentur, Reuter, Müller, Skandal, aufklären, Vertrauen, Volkswagen, zurückgewinnen, Volkswagen, äußern, Mitglied, Aufsichtsratspräsidiums, Donnerstagnachmittag, Müller, einigen, berichten, Handelsblatt, Frankfurter, Allgemeine, Zeitung, VW-Aufsichtsrat, tagen, Freitag, Personalie, beschließen, Škoda-Chef, Winfried, Vahland, Nachfolger, Winterkorns, handeln, 58-Jährige, stehen, spitzen, Autobauers, Mlada, Boleslav, zuvor, Volkswagen, China, tätigen, Winterkorns, Rücktritt, rasch, Ruf, personell, Konsequenz, laut, deutsch, Medium, munteres, Namedropping, betrieben, Laut, bild.de, langjährig, VW-Entwicklungschef, derzeitig, Audi-Vorstand, Ulrich, Hackenberg, Porsche-Vorstand, Wolfgang, Hatz, Posten, räumen, Zeitung, Unternehmenskreisen, erfahren, spiegel.de, berichten, Name, Rücktrittsliste, stehen, Demnach, VW-Entwicklungsvorstand, Heinz, Jakob, Neußer, Ablöse, stehen, Ebenfalls, ablösen, US-Chef, VW, Michael, Horn, laut, Nachrichtenagentur, Reuter, Bestätigung, stehen, Seat-, Škoda-Modelle, betreffen, Problem, manipulieren, Abgaswerten, VW, Audi, Konzerntöchter, betreffen, Innerhalb, Konzern, teilen, Unternehmen, etlich, Bauteile, Motor, Getriebe, Sprecher, VW-Tochter, Škoda, bestätigen, Donnerstag, Modell, Reihe, Fabia, Roomster, Octavia, Superb, teilweise, betroffen, Dieselmotoren, ausrüsten, aktuell, Modell, geben, Problem, Škoda, Angabe, Deutschland, Marktanteil, knapp, Prozent, tschechische, Verkehrsministerium, Untersuchung, einleiten, eventuell, Rückrufaktion, behilflich, teilen, Sprecher, Seat, bestätigen, Donnerstag, Werk, spanisch, VW-Tochter, Fahrzeug, manipulieren, Dieseltechnologie, montieren, genau, Zahl, verlauten, Unternehmenskreisen, Untersuchung, sollen, nah, Aufschluß, bringen, spanische, Zeitung, El, País, berichten, Donnerstag, Seat, halbe, Million, Auto, manipulieren, Abgastechnologie, montieren, Quelle, inoffizielle, Kreis, nennen, Unternehmen, Verbindung, stehen, Anzahl, Österreich, VW-Abgasaffäre, betroffen, Auto, Zahl, stehen, fest, Sprecher, Porsche, Holding, Salzburg, hierzulande, Kommunikation, Volkswagen, innehat, Donnerstag, entsprechend, Information, VW-Sitz, deutsch, Wolfsburg, erhalten, Zahl, kommunizieren, VW-Konzern, rollen, laut, Medienberichten, Welle, Sammelklagen, USA, Kanada, Recherche, NDR, Süddeutsche, Zeitung, Freitag, Klage, US-Gerichten, einreichen, Kanada, zahlreich, Anwaltskanzleien, zudem, Aufruf, VW-Käufer, starten, Klage, anschließen, Kläger, Bericht, zufolge, zumeist, privat, Autokäufer, Fall, Autohändler, Käufer, sehen, Sache, Umweltfreundlichkeit, VW, täuschen, Klagsschriften, werfen, Konzern, Betrug, Vertragsbruch, Gesetzesverstöße, Grund, Leistung, Auto, verringern, Abgasreinigung, arbeiten, Anwalt, Steve, Berman, Seattle, Bundesstaat, Washington, Video, Mandant, werben, Auto, gering, Leistung, kaufen, Berman, Angabe, zufolge, Freitag, VW-Fahrer, Kalifornien, Klage, Art, einreichen, Kläger, verlangen, Schadenersatz, Wertverlust, Fahrzeug, Rückruf, entstehend, Kosten, Angabe, Anwalt, Zahl, Kläger, massiv, erhöhen, Rückruf, USA, Auto, betreffen, Kanada, handeln, Dieselfahrzeuge, Baujahre, Niedersachsen, Ministerpräsident, Stephan, SPD, kündigen, rückhaltlose, Aufklärung, ARD-Morgenmagazin, VW-Präsidiumsmitglied, Donnerstag, Volkswagen, wiederholen, dauern, Unternehmen, verlorengegangene, Vertrauen, wiederherstellen, können, Schritt, klipp, klaren, Ding, Tisch, legen, entschließen, Affäre, rücken, Autobauer, Fokus, BMW, X3, xDrive, 20d, Straßentests, Forschungsinstituts, ICCT, auffällig, Stickoxidwerte, produzieren, berichten, Auto-Bild, Donnerstag, Dieselfahrzeug, europäische, Abgasnorm, Elffache, überschreiten, Messdaten, deuten, VW-spezifisches, Problem, ICCT-Vertreter, Peter, Mock, Auto-Bild, BMW, geben, Funktion, Erkennung, Abgaszyklen, betonen, Sprecher, Hersteller, laut, Bericht, Abgassysteme, bleiben, außerhalb, Abgaszyklus, aktiv, Reaktion, Bericht, BMW-Aktie, zeitweise, fast, Prozent, Managerversicherungen, stellen, hoch, Kosten,  , Affäre, derzeit, Versicherung, Gesprächsthema, Nummer, eins, können, VW-Skandals, Belastung, mehrer, hundert, Million, Euro, zukommen, sagen, mehrer, Branchenmanager, Nachrichtenagentur, Reuter, Zittern, Sicht, Konzern, Schadenersatzforderungen, Vorstand, Aufsichtsräte, einspringen, groß, Anbieter, Versicherung, Directors, Officers, D&O, Deutschland, Zurich, Allianz, Talanx, AIG, D&O-Versicherungen, Regel, Schadenersatzansprüche, Manager, Gerichts-, Anwaltskosten, bestimmen, Betrag, Unternehmen, VW, liegen, Obergrenze, vermutlich, Million, Euro, sagen, mehrer, D&O-Experten, Großteil, Belastung, Milliardenbereich, liegen, dürfen, müsste, Konzern, somit, schultern, APA\n",
       "1323                                                                                                                                                                                                                                                                                                                                                                                                                                                                                                                                                                                                                                                                                                                                                                                                                                                                                                                                                                                                                                                                                                                                                                                                                                                                                                                                                                                                                                                                                                                                                                                                                                                                                                                                                                                                                                                                                                                                                                                                                                                                                                                                                                                                                                                                                                                                                                                                                                                                                                                                                                                                                                                                                                                                                                                                                                                                                                                                                                                                                                                                                                                                                                                                                                                                       Niederösterreicher, Weltranglisten-77, Sam, Groth, Australien, Problem, gewinnen, lockern, Satz, nächst, Gegner, Qualifikant, Yoshihito, Nishioka, Miami, Tennis-Ass, Dominic, Thiem, Auftakt, Masters-1000-Turniers, Miami, Blöße, geben, 22-jährige, Niederösterreicher, besiegen, Karfreitag, Rund, Weltranglisten-77, Sam, Groth, klaren, 7:5, 6:2, Minute, verwandeln, Matchball, Australier, Widerstand, Satz, brechen, Thiem, dominieren, Partie, Anfang, verabsäumte, klaren, Verhältnis, sorgen, Breakchancen, lassen, Lichtenwörther, vorbeiziehen, ehe, Groth, 6:5, Aufschlag, abnehmen, Satz, Australier, entgegensetzen, Service-Game, abgeben, Thiem, Rund, Freilos, breakte, anschließen, 3:0, holen, insgesamt, Game, Folge, Locker, servieren, schließlich, 6:2, Thiem, erfolgreich, Start, zufrieden, zeigen, Match, retourniert, passieren, schreiben, Österreicher, Facebook, räumen, Satz, zahlreiche, Breakchancen, ungenützt, lassen, Chance, nutzen, somit, Match, entscheiden, Rund, bekommen, Lichtenwörther, japanisch, Qualifikanten, Yoshihito, Nishioka, Nummer, gesetzt, Spanier, Feliciano, Lopez, 6:4, 6:4, niederringen, Gewinnt, Thiem, Spiel, 20-jährige, Nummer, Welt, Achtelfinale, Duell, aktuell, Hochform, agierend, Novak, Djokovic, warten, serbische, Nummer, eins, Welt, starten, Samstag, Brite, Kyle, Edmund, Turnier, Vorwoche, Thiem, Indian, Wells, Vergleich, Djokovic, umfallen, zuvor, Achtelfinale, Jo-Wilfried, Tsonga, scheitern, Thiem, Miami, Viertelfinale, erreichen, Andy, Murray, Endstation, Doppel, Thiem, Rund, eins, Endstation, unterliegen, Partner, Oliver, Marach, französisch, Weltklasse-Paarung, Pierre-Hugues, Herbert, Nicolas, Mahut,  , 6:7(3, 4:6, Unterdessen, Roger, Federer, Comeback, Meniskusoperation, Anfang, Februar, verschieben, Schweizer, Zweitrundenspiel, Argentinier, Juan, Martin, Del, Potro, Magen-Darm-Erkrankung, w.o, Operation, notwendig, Federer, Einlassen, Bad, Tochter, Knie, verletzen, gleichzeitig, stattfindend, WTA-Turnier, Miami, starten, Angelique, Kerber, deutlich, 6:1, 6:1-Erfolg, Tschechin, Barbora, Strycova, Sieg, Deutsche, Triumph, Australian, Open, Jänner, Kerber, Fed-Cup, Schweiz, Match, gewinnen, Doha, Indian, Wells, jeweils, Auftakt, ausscheiden,  , APA\n",
       "1903                                                                                                                                                                                                                                                                                                                                                                                                                                                                                                                                                                                                                                                                                                                                                                                                                                                                                                                                                                                                                                                                                                                                                                                                                                                                                                                                                                                                                                                                                                                                                                                                                                                                                                                                                                                                                                                                                                                                                                                                                          Regierungschefs, Union, Gipfel, Wende, Flüchtlingskrise, herbeiführen, Rolle, Türkei, streiten, rasch, Umsiedelung, Asylwerbern, Griechenland, EU-Staaten, vorankommen, Staats-, Regierungschefs, EU, gemeinsam, Migrationspolitik, Gipfeltreffen, Donnerstag, Brüssel, Schub, Lösung, Flüchtlingskrise, geben, Entwurf, Schlusserklärung, Europäische, Rat, hervor, Standard, vorliegen, Umsiedelung, Griechenland, beschleunigen, Durchführung, notwendig, Sicherheitsüberprüfungen, einschließen, Papier, Zahl, Antrag, derzeit, groß, Zahl, angeboten, Platz, Mitgliedsstaaten, zügig, Aufnahmeplätze, Flüchtling, anbieten, Rahmen, vereinbart, Verpflichtung, zusagen, Passage, Punkt, Erklärung, Schlüsselstellen, Konzept, umfassend, Strategie, innereuropäischen, Lösung, Türkei, Griechenland, dringen, auffordern, Erstaufnahmelagern, Hotspots, Asylsystem, Fortschritt, EU, bieten, nötig, Hilfe, Dienstag, beschloss, Ministerrat, humanitär, Nothilfebudget, Million, Euro, Million, rasch, verfügbar, Million, sofort, Athen, müssen, einsetzen, illegale, Migranten, Türkei, zurückführen, Gleichzeitig, möglich, Ausweichrouten, Italien, verhindern, September, EU-Staaten, Innenministerrat, qualifiziert, Mehrheit, Wille, osteuropäisch, Staat, Ungarn, beschließen, Programm, Relokation, umsetzen, Insgesamt, Flüchtling, Griechenland, Italien, EU-Staaten, umsiedeln, gemäß, Kommission, erstellen, fair, Verteilungsschlüssel, Landesgröße, Wirtschaftskraft, bisherig, Flüchtlingsaufnahme, Stichtag, Dienstag, Person, umsiedeln, fast, Million, Flüchtling, illegal, Union, meist, Deutschland, Österreich, Schwede, EU-Innenkommissar, Dimitris, Avramopoulos, nützen, Besuch, Lager, Idomeni, Dienstag, Ankündigung, Zahl, Umsiedelungen, Gipfel, signifikant, erhöhen, sollen, pro, Monat, Derzeit, halten, Griechenland, Asylsuchende, Woche, kommen, Ägäis, Land,  , Wille, Regierungschefs, EU-Gipfel, Wende, einleiten, europäisch, Lösung, Durchwinkens, bekräftigen, Balkanstaaten, Österreich, führen, strikte, Grenzkontrollen,  , mazedonisch-griechischen, Grenze, lassen, gültig, Paß, Visum, passieren, Ergebnis, Woche, kommen, Frontex-Angaben, Slowenien, Asylwerber, Österreich, insgesamt, Migranten, kommen, Deutschland, Programm, Resettlement, direkt, Umsiedelung, syrisch, Flüchtling, Türkei, Lager, Jordanien, Libanon, Umsiedelung, Griechenland, türkisch, Premierminister, Ahmet, Davutoglu, Freitag, EU-Gipfel, dazustoßen, umstritten, EU-Türkei-Plan, verhandeln, sehen, Migranten, Ägäis, Zukunft, Türkei, abschieben, Stattdessen, Syrer, Syrer, Verhältnis, 1:1, direkt, Türkei, EU-Länder, holen, UN, Europarat, Menschenrechtsorganisationen, sehen, Verstoß, international, Grundrechte, Ankara, fordern, Gegenzug, EU-Staaten, angeboten, Milliarde, Euro, doppeln, humanitär, Hilfe, syrische, Flüchtling, Türkei, Nahrung, Schulbildung, medizinische, Versorgung, Plan, EU-Staaten, umstritten, Junktim, Visafreiheit, Türke, Juni, Turboverhandlungen, EU-Beitritt, starke, Widerstand, Frankreich, Zypern, Osteuropäer, Einzelmaßnahme, Zyperns, Präsident, zustimmen, bevor, Türkei, Norden, türkisch, Truppe, besetzt, Land, anerkennen, Auge, Gipfel, deutsch, Kanzlerin, Angela, Merkel, richten, Türkei-Plan, Davutoglu, Regierungschefs, vorbei, aushandeln, stehen, Politik, offen, Grenze, Druck, Merkel, sagen, Chance, Deutschland, Asyl, bekommen, illegale, Route, Diplomat, klaren, äußern, Merkel, schloss, Landtagswahlen, Sonntag, Kursänderung\n",
       "4936                                                                                                                                                                                                                                                                                                                                                                                                                                                                                                                                                                                                                                                                                                                                                                                                                                                                                                                                                                                                                                                                                                                                                                                                                                                                                                                                                                                                                                                                                                                                                                                                                                                                                                                                                                                                                                                                                                                                                                                                                                                                                                                                                                                                                                                                                                                                                                                                                                                                                                                                                                                                                                                                                                                                                                                                                                                                                                                                                                                                                                                                                                                                                                                                                                                                                                                                                                                                                                                                                                                                                                                                                                                                                                                                                                                                                                                                                                                                                                                                                                                                                                                                                                                                                                                                                                                                                                                                                                                                                                                                                                                                                                                                                                                                                                                                           Windows-Nutzer, Version, automatisch, ausgewählt, Download, Betriebssystems, ärgern, Microsoft, Ziel, Windows, möglichst, schnellen, möglichst, Rechner, weltweit, laufen, scheuen, Microsoft, Kosten, Mühe, verteilen, Upgrade, kostenlos, Windows, Windows, 8.1-Nutzer, einig, Kunde, Microsoft, aggressiv, berichten, Windows, 10-Upgrade, automatisch, laden, aktuell, Updates, Windows, Windows, auswählen, Bislang, Nutzer, Windows, abseits, Patches, manuell, auswählen, Default-Option, Upgrade, Fehler, beruhigen, Microsoft, Unternehmen, entschuldigen, Nutzern, Vorauswahl, entfernen, Windows, tatsächlich, installieren, Kunde, manuell, zustimmen, ärgern, Lade, mehrer, Gigabyte, Datei, Windows, mittlerweile, Million, Gerät, verbreiten\n",
       "677                                                                                                                                                                                                                                                                                                                                                                                                                                                                                                                                                                                                                                                                                                                                                                                                                                                                                                                                                                                                                                                                                                                                                                                                                                                                                                                                                                                                                                                                                                                                                                                                                                                                                                                                                                                                                                                                                                                                                                                                                                                                                                                                                                                                                                                                                                                                                                                                                                                                                                                                                                                                                                                                                                                                                                                                                                                                                                                                                                                                                                                                                                                                                                                                                                                         Marcel, Koller, ÖFB-Teamchef, Mannschaft, gut, Spiel, gratulieren, Hälfte, Jungs, bisschen, spannen, Spiel, kommen, heißen, letzt, Minute, Herz, bisschen, schnell, schlagen, passieren, Runde, bringen, überglücklich, Spieler, nochmals, rausgehauen, fantastisch, gewinnen, weit, Schritt, Heimspiel, Moldawien, konzentrieren, Marc, Janko, ÖFB-Torschütze, Sicherheit, schön, wichtig, Tor, gewusst, EM, Schritt, nähern, Punkt, holen, Anm, Tor, Nationalmannschaft, gefallen, hoffen, Tor, schießen, kämpfen, rausgehauen, verdienen, Sieger, Platz, gehen, Minute, überall, Körper, Krampf, bekommen, Rechnerisch, blöd, hergehen, Hand, geben, Leo, Windtner, ÖFB-Präsident, TGV, Frankreich, Bewegung, setzen, Nummer, happy, freuen, Marcel, Koller, gut, Job, tragen, solide, Österreich, Herz, schließen, Homogenität, Team, ums, Team, Hintergrund, laufen, Quartier, Frankreich, beschäftigen, fahrlässig, versuchen, Ding, fixen, brauchen, ordentlich, Quartier, Voraussetzung, passen, Aleksandar, Dragovic, ÖFB-Innenverteidiger, Hälfte, fast, Torchance, Dauerdruck, Russe, Robert, super, mitspielen, halten, Lob, Mannschaft, einstellen, gewusst, 1:0, Führung, nervös, Zuschauer, pfeifen, Punkt, holen, glücklich, Urlaub, gut, Weg, Punkt, bescheiden, bleiben, Heimspiel, Moldawien, gewinnen, Julian, Baumgartlinger, ÖFB-Mittelfeldspieler, sehen, zusammenhalten, Qualifikation, fast, optimal, Punkt, Spiel, erträumen, Riesen-Riesen-Schritt, gleichsetzen, Schritt, weitermachen, schauen, Zlatko, Junuzovic, ÖFB-Mittelfeldspieler, Wille, schlagkräftig, Punkt, holen, schlussendlich, Qualität, gewinnen, Hälfte, klaren, überlegen, 2:0, souverän, auftreten, Hälfte, Kraft, nachlassen, Tor, mein, Auftreten, Klasse, zeigen, erhoben, Haupt, Urlaub, genießen, Robert, Almer, ÖFB-Tormann, versuche, klappen, schöne, Statistik, Anm, Pflichtspiele, Gegentor, Folge, groß, Ziel, Null, spielen, entscheiden, wichtig, qualifizieren, Schritt, richtige, Richtung, restlich, Partie, genauso, schwer, Russland, Fabio, Capello, Russland-Teamchef, Hälfte, spielen, ständig, Pressing, Österreicher, stehen, physisch, stark, Hälfte, Glück, Seite, Zufall, Österreich, Tabellenführer, Spieler, Tempo, gewöhnen, russisch, Liga, langsam, spielen, europäisch, Niveau\n",
       "Name: prepro, dtype: object"
      ]
     },
     "execution_count": 46,
     "metadata": {},
     "output_type": "execute_result"
    }
   ],
   "source": [
    "X_representative_digits.head()"
   ]
  },
  {
   "cell_type": "code",
   "execution_count": 49,
   "metadata": {},
   "outputs": [
    {
     "data": {
      "text/plain": [
       "2292              Web\n",
       "2928       Wirtschaft\n",
       "7055    International\n",
       "Name: label, dtype: object"
      ]
     },
     "execution_count": 49,
     "metadata": {},
     "output_type": "execute_result"
    }
   ],
   "source": [
    "df_train.label.sample(3)"
   ]
  },
  {
   "cell_type": "code",
   "execution_count": 47,
   "metadata": {},
   "outputs": [
    {
     "data": {
      "text/plain": [
       "5952    Wirtschaft\n",
       "1323         Sport\n",
       "1903      Panorama\n",
       "4936           Web\n",
       "677          Sport\n",
       "Name: label, dtype: object"
      ]
     },
     "execution_count": 47,
     "metadata": {},
     "output_type": "execute_result"
    }
   ],
   "source": [
    "y_representative_digits.head()"
   ]
  },
  {
   "cell_type": "code",
   "execution_count": 50,
   "metadata": {
    "collapsed": true,
    "jupyter": {
     "outputs_hidden": true,
     "source_hidden": true
    }
   },
   "outputs": [
    {
     "name": "stdout",
     "output_type": "stream",
     "text": [
      "               precision    recall  f1-score   support\n",
      "\n",
      "         Etat       0.09      0.74      0.17        23\n",
      "       Inland       0.54      0.62      0.58       237\n",
      "International       0.87      0.38      0.53       926\n",
      "       Kultur       0.00      0.00      0.00         0\n",
      "     Panorama       0.51      0.57      0.54       406\n",
      "        Sport       0.96      0.52      0.67       599\n",
      "          Web       0.62      0.81      0.70       344\n",
      "   Wirtschaft       0.42      0.73      0.53       222\n",
      " Wissenschaft       0.10      0.94      0.19        17\n",
      "\n",
      "     accuracy                           0.55      2774\n",
      "    macro avg       0.46      0.59      0.43      2774\n",
      " weighted avg       0.73      0.55      0.58      2774\n",
      "\n"
     ]
    },
    {
     "name": "stderr",
     "output_type": "stream",
     "text": [
      "C:\\Users\\barth\\anaconda3\\lib\\site-packages\\sklearn\\metrics\\_classification.py:1272: UndefinedMetricWarning: Recall and F-score are ill-defined and being set to 0.0 in labels with no true samples. Use `zero_division` parameter to control this behavior.\n",
      "  _warn_prf(average, modifier, msg_start, len(result))\n"
     ]
    }
   ],
   "source": [
    "# classifier pipeline mit Support Vektor Machine als Classifier definieren\n",
    "lsvc_classifier = Pipeline([\n",
    "  ('vect', CountVectorizer()),\n",
    "  ('tfidf', TfidfTransformer(sublinear_tf=True)),                   \n",
    "  ('clf', LinearSVC(dual=False, C=1.6, class_weight=\"balanced\")),\n",
    "])\n",
    "\n",
    "# classifier mit vorgeschalteter Pipeline trainieren:\n",
    "lsvc_classifier.fit(X_representative_digits, y_representative_digits)  # train the classifier\n",
    "\n",
    "# trainierten classifier auf die Testdaten anwenden, um den Accuracy Score zu ermitteln:\n",
    "predicted = lsvc_classifier.predict(df_test.prepro)  # predict the test set \n",
    "print(classification_report(predicted, df_test.label))"
   ]
  },
  {
   "cell_type": "code",
   "execution_count": 52,
   "metadata": {},
   "outputs": [
    {
     "data": {
      "text/plain": [
       "array([11, 39, 29, ...,  2, 36,  7])"
      ]
     },
     "execution_count": 52,
     "metadata": {},
     "output_type": "execute_result"
    }
   ],
   "source": [
    "km['kmeans'].labels_"
   ]
  },
  {
   "cell_type": "code",
   "execution_count": 53,
   "metadata": {
    "collapsed": true,
    "jupyter": {
     "outputs_hidden": true
    }
   },
   "outputs": [
    {
     "ename": "KeyError",
     "evalue": "0",
     "output_type": "error",
     "traceback": [
      "\u001b[1;31m---------------------------------------------------------------------------\u001b[0m",
      "\u001b[1;31mKeyError\u001b[0m                                  Traceback (most recent call last)",
      "\u001b[1;32m<ipython-input-53-6a83c2862bc2>\u001b[0m in \u001b[0;36m<module>\u001b[1;34m\u001b[0m\n\u001b[0;32m      1\u001b[0m \u001b[0my_train_propagated\u001b[0m \u001b[1;33m=\u001b[0m \u001b[0mnp\u001b[0m\u001b[1;33m.\u001b[0m\u001b[0mempty\u001b[0m\u001b[1;33m(\u001b[0m\u001b[0mlen\u001b[0m\u001b[1;33m(\u001b[0m\u001b[0mdf_train\u001b[0m\u001b[1;33m.\u001b[0m\u001b[0mprepro\u001b[0m\u001b[1;33m)\u001b[0m\u001b[1;33m,\u001b[0m \u001b[0mdtype\u001b[0m\u001b[1;33m=\u001b[0m\u001b[0mnp\u001b[0m\u001b[1;33m.\u001b[0m\u001b[0mint32\u001b[0m\u001b[1;33m)\u001b[0m  \u001b[1;31m# arbitrary filler data\u001b[0m\u001b[1;33m\u001b[0m\u001b[1;33m\u001b[0m\u001b[0m\n\u001b[0;32m      2\u001b[0m \u001b[1;32mfor\u001b[0m \u001b[0mi\u001b[0m \u001b[1;32min\u001b[0m \u001b[0mrange\u001b[0m\u001b[1;33m(\u001b[0m\u001b[0mk\u001b[0m\u001b[1;33m)\u001b[0m\u001b[1;33m:\u001b[0m\u001b[1;33m\u001b[0m\u001b[1;33m\u001b[0m\u001b[0m\n\u001b[1;32m----> 3\u001b[1;33m     \u001b[0my_train_propagated\u001b[0m\u001b[1;33m[\u001b[0m\u001b[0mkm\u001b[0m\u001b[1;33m[\u001b[0m\u001b[1;34m\"kmeans\"\u001b[0m\u001b[1;33m]\u001b[0m\u001b[1;33m.\u001b[0m\u001b[0mlabels_\u001b[0m\u001b[1;33m==\u001b[0m\u001b[0mi\u001b[0m\u001b[1;33m]\u001b[0m \u001b[1;33m=\u001b[0m \u001b[0my_representative_digits\u001b[0m\u001b[1;33m[\u001b[0m\u001b[0mi\u001b[0m\u001b[1;33m]\u001b[0m\u001b[1;33m\u001b[0m\u001b[1;33m\u001b[0m\u001b[0m\n\u001b[0m\u001b[0;32m      4\u001b[0m     \u001b[1;31m# print(y_train_propagated[kmeans.labels_==i])\u001b[0m\u001b[1;33m\u001b[0m\u001b[1;33m\u001b[0m\u001b[1;33m\u001b[0m\u001b[0m\n",
      "\u001b[1;32m~\\anaconda3\\lib\\site-packages\\pandas\\core\\series.py\u001b[0m in \u001b[0;36m__getitem__\u001b[1;34m(self, key)\u001b[0m\n\u001b[0;32m    869\u001b[0m         \u001b[0mkey\u001b[0m \u001b[1;33m=\u001b[0m \u001b[0mcom\u001b[0m\u001b[1;33m.\u001b[0m\u001b[0mapply_if_callable\u001b[0m\u001b[1;33m(\u001b[0m\u001b[0mkey\u001b[0m\u001b[1;33m,\u001b[0m \u001b[0mself\u001b[0m\u001b[1;33m)\u001b[0m\u001b[1;33m\u001b[0m\u001b[1;33m\u001b[0m\u001b[0m\n\u001b[0;32m    870\u001b[0m         \u001b[1;32mtry\u001b[0m\u001b[1;33m:\u001b[0m\u001b[1;33m\u001b[0m\u001b[1;33m\u001b[0m\u001b[0m\n\u001b[1;32m--> 871\u001b[1;33m             \u001b[0mresult\u001b[0m \u001b[1;33m=\u001b[0m \u001b[0mself\u001b[0m\u001b[1;33m.\u001b[0m\u001b[0mindex\u001b[0m\u001b[1;33m.\u001b[0m\u001b[0mget_value\u001b[0m\u001b[1;33m(\u001b[0m\u001b[0mself\u001b[0m\u001b[1;33m,\u001b[0m \u001b[0mkey\u001b[0m\u001b[1;33m)\u001b[0m\u001b[1;33m\u001b[0m\u001b[1;33m\u001b[0m\u001b[0m\n\u001b[0m\u001b[0;32m    872\u001b[0m \u001b[1;33m\u001b[0m\u001b[0m\n\u001b[0;32m    873\u001b[0m             \u001b[1;32mif\u001b[0m \u001b[1;32mnot\u001b[0m \u001b[0mis_scalar\u001b[0m\u001b[1;33m(\u001b[0m\u001b[0mresult\u001b[0m\u001b[1;33m)\u001b[0m\u001b[1;33m:\u001b[0m\u001b[1;33m\u001b[0m\u001b[1;33m\u001b[0m\u001b[0m\n",
      "\u001b[1;32m~\\anaconda3\\lib\\site-packages\\pandas\\core\\indexes\\base.py\u001b[0m in \u001b[0;36mget_value\u001b[1;34m(self, series, key)\u001b[0m\n\u001b[0;32m   4403\u001b[0m         \u001b[0mk\u001b[0m \u001b[1;33m=\u001b[0m \u001b[0mself\u001b[0m\u001b[1;33m.\u001b[0m\u001b[0m_convert_scalar_indexer\u001b[0m\u001b[1;33m(\u001b[0m\u001b[0mk\u001b[0m\u001b[1;33m,\u001b[0m \u001b[0mkind\u001b[0m\u001b[1;33m=\u001b[0m\u001b[1;34m\"getitem\"\u001b[0m\u001b[1;33m)\u001b[0m\u001b[1;33m\u001b[0m\u001b[1;33m\u001b[0m\u001b[0m\n\u001b[0;32m   4404\u001b[0m         \u001b[1;32mtry\u001b[0m\u001b[1;33m:\u001b[0m\u001b[1;33m\u001b[0m\u001b[1;33m\u001b[0m\u001b[0m\n\u001b[1;32m-> 4405\u001b[1;33m             \u001b[1;32mreturn\u001b[0m \u001b[0mself\u001b[0m\u001b[1;33m.\u001b[0m\u001b[0m_engine\u001b[0m\u001b[1;33m.\u001b[0m\u001b[0mget_value\u001b[0m\u001b[1;33m(\u001b[0m\u001b[0ms\u001b[0m\u001b[1;33m,\u001b[0m \u001b[0mk\u001b[0m\u001b[1;33m,\u001b[0m \u001b[0mtz\u001b[0m\u001b[1;33m=\u001b[0m\u001b[0mgetattr\u001b[0m\u001b[1;33m(\u001b[0m\u001b[0mseries\u001b[0m\u001b[1;33m.\u001b[0m\u001b[0mdtype\u001b[0m\u001b[1;33m,\u001b[0m \u001b[1;34m\"tz\"\u001b[0m\u001b[1;33m,\u001b[0m \u001b[1;32mNone\u001b[0m\u001b[1;33m)\u001b[0m\u001b[1;33m)\u001b[0m\u001b[1;33m\u001b[0m\u001b[1;33m\u001b[0m\u001b[0m\n\u001b[0m\u001b[0;32m   4406\u001b[0m         \u001b[1;32mexcept\u001b[0m \u001b[0mKeyError\u001b[0m \u001b[1;32mas\u001b[0m \u001b[0me1\u001b[0m\u001b[1;33m:\u001b[0m\u001b[1;33m\u001b[0m\u001b[1;33m\u001b[0m\u001b[0m\n\u001b[0;32m   4407\u001b[0m             \u001b[1;32mif\u001b[0m \u001b[0mlen\u001b[0m\u001b[1;33m(\u001b[0m\u001b[0mself\u001b[0m\u001b[1;33m)\u001b[0m \u001b[1;33m>\u001b[0m \u001b[1;36m0\u001b[0m \u001b[1;32mand\u001b[0m \u001b[1;33m(\u001b[0m\u001b[0mself\u001b[0m\u001b[1;33m.\u001b[0m\u001b[0mholds_integer\u001b[0m\u001b[1;33m(\u001b[0m\u001b[1;33m)\u001b[0m \u001b[1;32mor\u001b[0m \u001b[0mself\u001b[0m\u001b[1;33m.\u001b[0m\u001b[0mis_boolean\u001b[0m\u001b[1;33m(\u001b[0m\u001b[1;33m)\u001b[0m\u001b[1;33m)\u001b[0m\u001b[1;33m:\u001b[0m\u001b[1;33m\u001b[0m\u001b[1;33m\u001b[0m\u001b[0m\n",
      "\u001b[1;32mpandas\\_libs\\index.pyx\u001b[0m in \u001b[0;36mpandas._libs.index.IndexEngine.get_value\u001b[1;34m()\u001b[0m\n",
      "\u001b[1;32mpandas\\_libs\\index.pyx\u001b[0m in \u001b[0;36mpandas._libs.index.IndexEngine.get_value\u001b[1;34m()\u001b[0m\n",
      "\u001b[1;32mpandas\\_libs\\index.pyx\u001b[0m in \u001b[0;36mpandas._libs.index.IndexEngine.get_loc\u001b[1;34m()\u001b[0m\n",
      "\u001b[1;32mpandas\\_libs\\hashtable_class_helper.pxi\u001b[0m in \u001b[0;36mpandas._libs.hashtable.Int64HashTable.get_item\u001b[1;34m()\u001b[0m\n",
      "\u001b[1;32mpandas\\_libs\\hashtable_class_helper.pxi\u001b[0m in \u001b[0;36mpandas._libs.hashtable.Int64HashTable.get_item\u001b[1;34m()\u001b[0m\n",
      "\u001b[1;31mKeyError\u001b[0m: 0"
     ]
    }
   ],
   "source": [
    "y_train_propagated = np.empty(len(df_train.prepro), dtype=np.int32)  # arbitrary filler data\n",
    "for i in range(k):\n",
    "    y_train_propagated[km[\"kmeans\"].labels_==i] = y_representative_digits[i]\n",
    "    # print(y_train_propagated[kmeans.labels_==i])\n"
   ]
  },
  {
   "cell_type": "code",
   "execution_count": null,
   "metadata": {},
   "outputs": [],
   "source": [
    "y_train_propagated = np.empty(len(X_train), dtype=np.int32)  # arbitrary filler data\n",
    "for i in range(k):\n",
    "    y_train_propagated[kmeans.labels_==i] = y_representative_digits[i]\n",
    "    print(y_train_propagated[kmeans.labels_==i])\n",
    "plt.hist(y_train_propagated, density=True)   "
   ]
  },
  {
   "cell_type": "code",
   "execution_count": null,
   "metadata": {},
   "outputs": [],
   "source": []
  },
  {
   "cell_type": "markdown",
   "metadata": {},
   "source": [
    "# Parkplatz"
   ]
  },
  {
   "cell_type": "code",
   "execution_count": null,
   "metadata": {},
   "outputs": [],
   "source": [
    "# os.chdir(\"F://Data/Data Science Uni/40200/BMW Bank Seminar/Data Sets\")\n",
    "# path = 'f:\\\\Data\\\\DataScienceUni\\\\40200\\\\BMW Bank Seminar\\\\Data Sets\\\\'"
   ]
  },
  {
   "cell_type": "code",
   "execution_count": null,
   "metadata": {},
   "outputs": [],
   "source": []
  }
 ],
 "metadata": {
  "kernelspec": {
   "display_name": "Python 3",
   "language": "python",
   "name": "python3"
  },
  "language_info": {
   "codemirror_mode": {
    "name": "ipython",
    "version": 3
   },
   "file_extension": ".py",
   "mimetype": "text/x-python",
   "name": "python",
   "nbconvert_exporter": "python",
   "pygments_lexer": "ipython3",
   "version": "3.7.6"
  }
 },
 "nbformat": 4,
 "nbformat_minor": 4
}
